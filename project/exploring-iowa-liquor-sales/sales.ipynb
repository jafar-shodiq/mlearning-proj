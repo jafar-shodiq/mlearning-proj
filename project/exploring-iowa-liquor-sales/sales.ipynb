{
 "cells": [
  {
   "cell_type": "markdown",
   "metadata": {},
   "source": [
    "# Exploring Iowa Liquor Sales\n",
    "This dataset contains every wholesale purchase of liquor in the State of Iowa by retailers for sale to individuals since January 1, 2012. The State of Iowa controls the wholesale distribution of liquor intended for retail sale, which means this dataset offers a complete view of retail liquor sales in the entire state. The dataset contains every wholesale order of liquor by all grocery stores, liquor stores, convenience stores, etc., with details about the store and location, the exact liquor brand and size, and the number of bottles ordered.\n",
    "\n",
    "In addition to being an excellent dataset for analyzing liquor sales, this is a large and clean public dataset of retail sales data. It can be used to explore problems like stockout prediction, retail demand forecasting, and other retail supply chain problems.\n",
    "\n",
    "### 1. Problem Definition\n",
    "* Explore the dataset and see if some useful information can be extracted.\n",
    "* (Additional) Make a regression model.\n",
    "\n",
    "### 2. Data\n",
    "The original dataset can be found [here](https://console.cloud.google.com/marketplace/product/iowa-department-of-commerce/iowa-liquor-sales?project=thinkmatch-proj&folder=&organizationId=).\\\n",
    "Table size: 5.47 GB\\\n",
    "Number of attributes: 24\n",
    "Number of instances: 20,546,005\\\n",
    "Last update: 2021-02-05 02:21:27\n",
    "\n",
    "For this project, we will not use all of the instances, instead a small percent is enough. But how small are we talking about?\\\n",
    "* According to [this site](http://www.tools4dev.org/resources/how-to-choose-a-sample-size/#:~:text=A%20good%20maximum%20sample%20size%20is%20usually%20around%2010%25%20of,the%20maximum%20would%20be%201000.), \"A good maximum sample size is around 10% of the population (our original number of instances) as long as it does not exceed 1000.\\\n",
    "10% of 20,546,005 is 2,054,600. So 1000 samples it is.\n",
    "\n",
    "But there are more things to consider when getting samples: margin of error and confidence level.\\\n",
    "* [This site](https://www.qualtrics.com/au/experience-management/research/determine-sample-size/?rid=ip&prevsite=en&newsite=au&geo=ID&geomatch=au) lets you calculate quickly how many samples do we need. We will put 95% confidence and +-2% margin error. As a result we get **2401** ideal sample size.\n",
    "\n",
    "### 3. Features\n",
    "* **invoice_and_item_number**: Concatenated invoice and line number associated with the liquor order. This provides a unique identifier for the individual liquor products included in the store order.\n",
    "* **date**: Date of order.\n",
    "* **store_number**: Unique number assigned to the store who ordered the liquor.\n",
    "* **store_name**: Name of store who ordered the liquor.\n",
    "* **address**: Address of store who ordered the liquor.\n",
    "* **city**: City where the store who ordered the liquor is located\n",
    "* **zip_code**: Zip code where the store who ordered the liquor is located\n",
    "* **store_location**: Location of store who ordered the liquor. The Address, City, State and Zip Code are geocoded to provide geographic coordinates. Accuracy of geocoding is dependent on how well the address is interpreted and the completeness of the reference data used.\n",
    "* **county_number**: Iowa county number for the county where store who ordered the liquor is located\n",
    "* **county**: County where the store who ordered the liquor is located\n",
    "* **category**: Category code associated with the liquor ordered\n",
    "* **category_name**: Category of the liquor ordered.\n",
    "* **vendor_number**: The vendor number of the company for the brand of liquor ordered\n",
    "* **vendor_name**: The vendor name of the company for the brand of liquor ordered\n",
    "* **item_number**: Item number for the individual liquor product ordered.\n",
    "* **item_description**: Description of the individual liquor product ordered.\n",
    "* **pack**: The number of bottles in a case for the liquor ordered\n",
    "* **bottle_volume_ml**: Volume of each liquor bottle ordered in milliliters.\n",
    "* **state_bottle_cost**: The amount that Alcoholic Beverages Division paid for each bottle of liquor ordered\n",
    "* **state_bottle_retail**: The amount the store paid for each bottle of liquor ordered\n",
    "* **bottles_sold**: The number of bottles of liquor ordered by the store\n",
    "* **sale_dollars**: Total cost of liquor order (number of bottles multiplied by the state bottle retail)\n",
    "* **volume_sold_liters**: Total volume of liquor ordered in liters. (i.e. (Bottle Volume (ml) x Bottles Sold)/1,000)\n",
    "* **volume_sold_gallons**: Total volume of liquor ordered in gallons. (i.e. (Bottle Volume (ml) x Bottles Sold)/3785.411784)"
   ]
  },
  {
   "cell_type": "markdown",
   "metadata": {},
   "source": [
    "# Loading the Data"
   ]
  },
  {
   "cell_type": "code",
   "execution_count": 1,
   "metadata": {},
   "outputs": [],
   "source": [
    "import os\n",
    "from google.cloud import bigquery\n",
    "\n",
    "os.environ['GOOGLE_APPLICATION_CREDENTIALS'] = 'D:/mlearning-proj/project/exploring-iowa-liquor-sales/Thinkmatch-proj-eb4ed729aecb.json'"
   ]
  },
  {
   "cell_type": "code",
   "execution_count": 2,
   "metadata": {},
   "outputs": [],
   "source": [
    "client = bigquery.Client()"
   ]
  },
  {
   "cell_type": "markdown",
   "metadata": {},
   "source": [
    "We are going to use the first 2401 instances from our original dataset."
   ]
  },
  {
   "cell_type": "code",
   "execution_count": 3,
   "metadata": {},
   "outputs": [],
   "source": [
    "QUERY = (\n",
    "    'SELECT * FROM `bigquery-public-data.iowa_liquor_sales.sales` '\n",
    "    'LIMIT 2401')\n",
    "query_job = client.query(QUERY)"
   ]
  },
  {
   "cell_type": "code",
   "execution_count": 4,
   "metadata": {},
   "outputs": [
    {
     "data": {
      "text/html": [
       "<div>\n",
       "<style scoped>\n",
       "    .dataframe tbody tr th:only-of-type {\n",
       "        vertical-align: middle;\n",
       "    }\n",
       "\n",
       "    .dataframe tbody tr th {\n",
       "        vertical-align: top;\n",
       "    }\n",
       "\n",
       "    .dataframe thead th {\n",
       "        text-align: right;\n",
       "    }\n",
       "</style>\n",
       "<table border=\"1\" class=\"dataframe\">\n",
       "  <thead>\n",
       "    <tr style=\"text-align: right;\">\n",
       "      <th></th>\n",
       "      <th>invoice_and_item_number</th>\n",
       "      <th>date</th>\n",
       "      <th>store_number</th>\n",
       "      <th>store_name</th>\n",
       "      <th>address</th>\n",
       "      <th>city</th>\n",
       "      <th>zip_code</th>\n",
       "      <th>store_location</th>\n",
       "      <th>county_number</th>\n",
       "      <th>county</th>\n",
       "      <th>...</th>\n",
       "      <th>item_number</th>\n",
       "      <th>item_description</th>\n",
       "      <th>pack</th>\n",
       "      <th>bottle_volume_ml</th>\n",
       "      <th>state_bottle_cost</th>\n",
       "      <th>state_bottle_retail</th>\n",
       "      <th>bottles_sold</th>\n",
       "      <th>sale_dollars</th>\n",
       "      <th>volume_sold_liters</th>\n",
       "      <th>volume_sold_gallons</th>\n",
       "    </tr>\n",
       "  </thead>\n",
       "  <tbody>\n",
       "    <tr>\n",
       "      <th>0</th>\n",
       "      <td>INV-00009700041</td>\n",
       "      <td>2016-08-29</td>\n",
       "      <td>5236</td>\n",
       "      <td>Giggle Juice Liquor Station, LLC</td>\n",
       "      <td>600 W Main St</td>\n",
       "      <td>Anamosa</td>\n",
       "      <td>52205</td>\n",
       "      <td>POINT (-91.29083400000002 42.108203)</td>\n",
       "      <td>53</td>\n",
       "      <td>JONES</td>\n",
       "      <td>...</td>\n",
       "      <td>71529</td>\n",
       "      <td>Tooters Ala Bama Slama</td>\n",
       "      <td>12</td>\n",
       "      <td>375</td>\n",
       "      <td>5.75</td>\n",
       "      <td>8.63</td>\n",
       "      <td>1</td>\n",
       "      <td>8.63</td>\n",
       "      <td>0.37</td>\n",
       "      <td>0.09</td>\n",
       "    </tr>\n",
       "    <tr>\n",
       "      <th>1</th>\n",
       "      <td>S07541200001</td>\n",
       "      <td>2012-09-05</td>\n",
       "      <td>4300</td>\n",
       "      <td>Fareway Stores #625 / Oskaloosa</td>\n",
       "      <td>311  3RD AVE W</td>\n",
       "      <td>OSKALOOSA</td>\n",
       "      <td>52577</td>\n",
       "      <td>POINT (-92.648062 41.292614)</td>\n",
       "      <td>62</td>\n",
       "      <td>Mahaska</td>\n",
       "      <td>...</td>\n",
       "      <td>86764</td>\n",
       "      <td>Sipp'n Sweet Corn</td>\n",
       "      <td>12</td>\n",
       "      <td>375</td>\n",
       "      <td>10.50</td>\n",
       "      <td>15.75</td>\n",
       "      <td>60</td>\n",
       "      <td>945.00</td>\n",
       "      <td>22.50</td>\n",
       "      <td>5.94</td>\n",
       "    </tr>\n",
       "    <tr>\n",
       "      <th>2</th>\n",
       "      <td>INV-22998400013</td>\n",
       "      <td>2019-11-04</td>\n",
       "      <td>2508</td>\n",
       "      <td>Hy-Vee Food Store #1 / Cedar Rapids</td>\n",
       "      <td>1843 Johnson Avenue, N.W.</td>\n",
       "      <td>Cedar Rapids</td>\n",
       "      <td>52405</td>\n",
       "      <td>POINT (-91.697941 41.97447)</td>\n",
       "      <td>57</td>\n",
       "      <td>LINN</td>\n",
       "      <td>...</td>\n",
       "      <td>43686</td>\n",
       "      <td>Cross Keys Rum</td>\n",
       "      <td>12</td>\n",
       "      <td>750</td>\n",
       "      <td>10.07</td>\n",
       "      <td>15.11</td>\n",
       "      <td>36</td>\n",
       "      <td>543.96</td>\n",
       "      <td>27.00</td>\n",
       "      <td>7.13</td>\n",
       "    </tr>\n",
       "    <tr>\n",
       "      <th>3</th>\n",
       "      <td>S29393500001</td>\n",
       "      <td>2015-12-03</td>\n",
       "      <td>2663</td>\n",
       "      <td>Hy-Vee / Urbandale</td>\n",
       "      <td>8701 DOUGLAS</td>\n",
       "      <td>URBANDALE</td>\n",
       "      <td>50322</td>\n",
       "      <td>POINT (-93.739105 41.629364)</td>\n",
       "      <td>77</td>\n",
       "      <td>Polk</td>\n",
       "      <td>...</td>\n",
       "      <td>927014</td>\n",
       "      <td>Cedar Ridge Malted Rye Barrel Urbandale</td>\n",
       "      <td>1</td>\n",
       "      <td>180000</td>\n",
       "      <td>6100.00</td>\n",
       "      <td>9150.00</td>\n",
       "      <td>1</td>\n",
       "      <td>9150.00</td>\n",
       "      <td>180.00</td>\n",
       "      <td>47.55</td>\n",
       "    </tr>\n",
       "    <tr>\n",
       "      <th>4</th>\n",
       "      <td>S09220200082</td>\n",
       "      <td>2012-11-29</td>\n",
       "      <td>2637</td>\n",
       "      <td>Hy-Vee #5 / Davenport</td>\n",
       "      <td>2351 W LOCUST</td>\n",
       "      <td>DAVENPORT</td>\n",
       "      <td>52804</td>\n",
       "      <td>POINT (-90.611972 41.538207)</td>\n",
       "      <td>82</td>\n",
       "      <td>Scott</td>\n",
       "      <td>...</td>\n",
       "      <td>27027</td>\n",
       "      <td>Cody Road Rye</td>\n",
       "      <td>6</td>\n",
       "      <td>750</td>\n",
       "      <td>19.33</td>\n",
       "      <td>29.00</td>\n",
       "      <td>18</td>\n",
       "      <td>522.00</td>\n",
       "      <td>13.50</td>\n",
       "      <td>3.57</td>\n",
       "    </tr>\n",
       "  </tbody>\n",
       "</table>\n",
       "<p>5 rows × 24 columns</p>\n",
       "</div>"
      ],
      "text/plain": [
       "  invoice_and_item_number        date store_number  \\\n",
       "0         INV-00009700041  2016-08-29         5236   \n",
       "1            S07541200001  2012-09-05         4300   \n",
       "2         INV-22998400013  2019-11-04         2508   \n",
       "3            S29393500001  2015-12-03         2663   \n",
       "4            S09220200082  2012-11-29         2637   \n",
       "\n",
       "                            store_name                    address  \\\n",
       "0     Giggle Juice Liquor Station, LLC              600 W Main St   \n",
       "1      Fareway Stores #625 / Oskaloosa             311  3RD AVE W   \n",
       "2  Hy-Vee Food Store #1 / Cedar Rapids  1843 Johnson Avenue, N.W.   \n",
       "3                   Hy-Vee / Urbandale               8701 DOUGLAS   \n",
       "4                Hy-Vee #5 / Davenport              2351 W LOCUST   \n",
       "\n",
       "           city zip_code                        store_location county_number  \\\n",
       "0       Anamosa    52205  POINT (-91.29083400000002 42.108203)            53   \n",
       "1     OSKALOOSA    52577          POINT (-92.648062 41.292614)            62   \n",
       "2  Cedar Rapids    52405           POINT (-91.697941 41.97447)            57   \n",
       "3     URBANDALE    50322          POINT (-93.739105 41.629364)            77   \n",
       "4     DAVENPORT    52804          POINT (-90.611972 41.538207)            82   \n",
       "\n",
       "    county  ... item_number                         item_description pack  \\\n",
       "0    JONES  ...       71529                   Tooters Ala Bama Slama   12   \n",
       "1  Mahaska  ...       86764                        Sipp'n Sweet Corn   12   \n",
       "2     LINN  ...       43686                           Cross Keys Rum   12   \n",
       "3     Polk  ...      927014  Cedar Ridge Malted Rye Barrel Urbandale    1   \n",
       "4    Scott  ...       27027                            Cody Road Rye    6   \n",
       "\n",
       "  bottle_volume_ml state_bottle_cost state_bottle_retail  bottles_sold  \\\n",
       "0              375              5.75                8.63             1   \n",
       "1              375             10.50               15.75            60   \n",
       "2              750             10.07               15.11            36   \n",
       "3           180000           6100.00             9150.00             1   \n",
       "4              750             19.33               29.00            18   \n",
       "\n",
       "   sale_dollars  volume_sold_liters  volume_sold_gallons  \n",
       "0          8.63                0.37                 0.09  \n",
       "1        945.00               22.50                 5.94  \n",
       "2        543.96               27.00                 7.13  \n",
       "3       9150.00              180.00                47.55  \n",
       "4        522.00               13.50                 3.57  \n",
       "\n",
       "[5 rows x 24 columns]"
      ]
     },
     "execution_count": 4,
     "metadata": {},
     "output_type": "execute_result"
    }
   ],
   "source": [
    "df = query_job.to_dataframe()\n",
    "df.head()"
   ]
  },
  {
   "cell_type": "markdown",
   "metadata": {},
   "source": [
    "# Exploratory Data Analysis"
   ]
  },
  {
   "cell_type": "code",
   "execution_count": 5,
   "metadata": {},
   "outputs": [],
   "source": [
    "import pandas as pd\n",
    "import numpy as np\n",
    "import matplotlib.pyplot as plt\n",
    "import seaborn as sns\n",
    "%matplotlib inline\n",
    "\n",
    "sns.set_style('whitegrid')\n",
    "sns.set_palette('viridis')"
   ]
  },
  {
   "cell_type": "code",
   "execution_count": 6,
   "metadata": {},
   "outputs": [
    {
     "data": {
      "text/html": [
       "<div>\n",
       "<style scoped>\n",
       "    .dataframe tbody tr th:only-of-type {\n",
       "        vertical-align: middle;\n",
       "    }\n",
       "\n",
       "    .dataframe tbody tr th {\n",
       "        vertical-align: top;\n",
       "    }\n",
       "\n",
       "    .dataframe thead th {\n",
       "        text-align: right;\n",
       "    }\n",
       "</style>\n",
       "<table border=\"1\" class=\"dataframe\">\n",
       "  <thead>\n",
       "    <tr style=\"text-align: right;\">\n",
       "      <th></th>\n",
       "      <th>invoice_and_item_number</th>\n",
       "      <th>date</th>\n",
       "      <th>store_number</th>\n",
       "      <th>store_name</th>\n",
       "      <th>address</th>\n",
       "      <th>city</th>\n",
       "      <th>zip_code</th>\n",
       "      <th>store_location</th>\n",
       "      <th>county_number</th>\n",
       "      <th>county</th>\n",
       "      <th>...</th>\n",
       "      <th>item_number</th>\n",
       "      <th>item_description</th>\n",
       "      <th>pack</th>\n",
       "      <th>bottle_volume_ml</th>\n",
       "      <th>state_bottle_cost</th>\n",
       "      <th>state_bottle_retail</th>\n",
       "      <th>bottles_sold</th>\n",
       "      <th>sale_dollars</th>\n",
       "      <th>volume_sold_liters</th>\n",
       "      <th>volume_sold_gallons</th>\n",
       "    </tr>\n",
       "  </thead>\n",
       "  <tbody>\n",
       "    <tr>\n",
       "      <th>0</th>\n",
       "      <td>INV-00009700041</td>\n",
       "      <td>2016-08-29</td>\n",
       "      <td>5236</td>\n",
       "      <td>Giggle Juice Liquor Station, LLC</td>\n",
       "      <td>600 W Main St</td>\n",
       "      <td>Anamosa</td>\n",
       "      <td>52205</td>\n",
       "      <td>POINT (-91.29083400000002 42.108203)</td>\n",
       "      <td>53</td>\n",
       "      <td>JONES</td>\n",
       "      <td>...</td>\n",
       "      <td>71529</td>\n",
       "      <td>Tooters Ala Bama Slama</td>\n",
       "      <td>12</td>\n",
       "      <td>375</td>\n",
       "      <td>5.75</td>\n",
       "      <td>8.63</td>\n",
       "      <td>1</td>\n",
       "      <td>8.63</td>\n",
       "      <td>0.37</td>\n",
       "      <td>0.09</td>\n",
       "    </tr>\n",
       "    <tr>\n",
       "      <th>1</th>\n",
       "      <td>S07541200001</td>\n",
       "      <td>2012-09-05</td>\n",
       "      <td>4300</td>\n",
       "      <td>Fareway Stores #625 / Oskaloosa</td>\n",
       "      <td>311  3RD AVE W</td>\n",
       "      <td>OSKALOOSA</td>\n",
       "      <td>52577</td>\n",
       "      <td>POINT (-92.648062 41.292614)</td>\n",
       "      <td>62</td>\n",
       "      <td>Mahaska</td>\n",
       "      <td>...</td>\n",
       "      <td>86764</td>\n",
       "      <td>Sipp'n Sweet Corn</td>\n",
       "      <td>12</td>\n",
       "      <td>375</td>\n",
       "      <td>10.50</td>\n",
       "      <td>15.75</td>\n",
       "      <td>60</td>\n",
       "      <td>945.00</td>\n",
       "      <td>22.50</td>\n",
       "      <td>5.94</td>\n",
       "    </tr>\n",
       "    <tr>\n",
       "      <th>2</th>\n",
       "      <td>INV-22998400013</td>\n",
       "      <td>2019-11-04</td>\n",
       "      <td>2508</td>\n",
       "      <td>Hy-Vee Food Store #1 / Cedar Rapids</td>\n",
       "      <td>1843 Johnson Avenue, N.W.</td>\n",
       "      <td>Cedar Rapids</td>\n",
       "      <td>52405</td>\n",
       "      <td>POINT (-91.697941 41.97447)</td>\n",
       "      <td>57</td>\n",
       "      <td>LINN</td>\n",
       "      <td>...</td>\n",
       "      <td>43686</td>\n",
       "      <td>Cross Keys Rum</td>\n",
       "      <td>12</td>\n",
       "      <td>750</td>\n",
       "      <td>10.07</td>\n",
       "      <td>15.11</td>\n",
       "      <td>36</td>\n",
       "      <td>543.96</td>\n",
       "      <td>27.00</td>\n",
       "      <td>7.13</td>\n",
       "    </tr>\n",
       "    <tr>\n",
       "      <th>3</th>\n",
       "      <td>S29393500001</td>\n",
       "      <td>2015-12-03</td>\n",
       "      <td>2663</td>\n",
       "      <td>Hy-Vee / Urbandale</td>\n",
       "      <td>8701 DOUGLAS</td>\n",
       "      <td>URBANDALE</td>\n",
       "      <td>50322</td>\n",
       "      <td>POINT (-93.739105 41.629364)</td>\n",
       "      <td>77</td>\n",
       "      <td>Polk</td>\n",
       "      <td>...</td>\n",
       "      <td>927014</td>\n",
       "      <td>Cedar Ridge Malted Rye Barrel Urbandale</td>\n",
       "      <td>1</td>\n",
       "      <td>180000</td>\n",
       "      <td>6100.00</td>\n",
       "      <td>9150.00</td>\n",
       "      <td>1</td>\n",
       "      <td>9150.00</td>\n",
       "      <td>180.00</td>\n",
       "      <td>47.55</td>\n",
       "    </tr>\n",
       "    <tr>\n",
       "      <th>4</th>\n",
       "      <td>S09220200082</td>\n",
       "      <td>2012-11-29</td>\n",
       "      <td>2637</td>\n",
       "      <td>Hy-Vee #5 / Davenport</td>\n",
       "      <td>2351 W LOCUST</td>\n",
       "      <td>DAVENPORT</td>\n",
       "      <td>52804</td>\n",
       "      <td>POINT (-90.611972 41.538207)</td>\n",
       "      <td>82</td>\n",
       "      <td>Scott</td>\n",
       "      <td>...</td>\n",
       "      <td>27027</td>\n",
       "      <td>Cody Road Rye</td>\n",
       "      <td>6</td>\n",
       "      <td>750</td>\n",
       "      <td>19.33</td>\n",
       "      <td>29.00</td>\n",
       "      <td>18</td>\n",
       "      <td>522.00</td>\n",
       "      <td>13.50</td>\n",
       "      <td>3.57</td>\n",
       "    </tr>\n",
       "    <tr>\n",
       "      <th>...</th>\n",
       "      <td>...</td>\n",
       "      <td>...</td>\n",
       "      <td>...</td>\n",
       "      <td>...</td>\n",
       "      <td>...</td>\n",
       "      <td>...</td>\n",
       "      <td>...</td>\n",
       "      <td>...</td>\n",
       "      <td>...</td>\n",
       "      <td>...</td>\n",
       "      <td>...</td>\n",
       "      <td>...</td>\n",
       "      <td>...</td>\n",
       "      <td>...</td>\n",
       "      <td>...</td>\n",
       "      <td>...</td>\n",
       "      <td>...</td>\n",
       "      <td>...</td>\n",
       "      <td>...</td>\n",
       "      <td>...</td>\n",
       "      <td>...</td>\n",
       "    </tr>\n",
       "    <tr>\n",
       "      <th>2396</th>\n",
       "      <td>INV-32137900062</td>\n",
       "      <td>2020-11-20</td>\n",
       "      <td>2606</td>\n",
       "      <td>Hy-Vee Wine and Spirits / Humboldt</td>\n",
       "      <td>1011  13th St North</td>\n",
       "      <td>Humboldt</td>\n",
       "      <td>50548</td>\n",
       "      <td>POINT (-94.227116 42.733221)</td>\n",
       "      <td>46</td>\n",
       "      <td>HUMBOLDT</td>\n",
       "      <td>...</td>\n",
       "      <td>101181</td>\n",
       "      <td>Crown Royal Multibrand Advent Calendar</td>\n",
       "      <td>6</td>\n",
       "      <td>50</td>\n",
       "      <td>22.49</td>\n",
       "      <td>33.74</td>\n",
       "      <td>3</td>\n",
       "      <td>101.22</td>\n",
       "      <td>0.15</td>\n",
       "      <td>0.03</td>\n",
       "    </tr>\n",
       "    <tr>\n",
       "      <th>2397</th>\n",
       "      <td>INV-32146700013</td>\n",
       "      <td>2020-11-23</td>\n",
       "      <td>2620</td>\n",
       "      <td>Hy-Vee / Windsor Heights</td>\n",
       "      <td>7101 University Ave</td>\n",
       "      <td>Windsor Heights</td>\n",
       "      <td>50311</td>\n",
       "      <td>None</td>\n",
       "      <td>77</td>\n",
       "      <td>Polk</td>\n",
       "      <td>...</td>\n",
       "      <td>101181</td>\n",
       "      <td>Crown Royal Multibrand Advent Calendar</td>\n",
       "      <td>6</td>\n",
       "      <td>50</td>\n",
       "      <td>22.49</td>\n",
       "      <td>33.74</td>\n",
       "      <td>12</td>\n",
       "      <td>404.88</td>\n",
       "      <td>0.60</td>\n",
       "      <td>0.15</td>\n",
       "    </tr>\n",
       "    <tr>\n",
       "      <th>2398</th>\n",
       "      <td>INV-32175100004</td>\n",
       "      <td>2020-11-23</td>\n",
       "      <td>6065</td>\n",
       "      <td>Super Saver Liquor / Davenport</td>\n",
       "      <td>1610 Rockingham Rd</td>\n",
       "      <td>Davenport</td>\n",
       "      <td>52802</td>\n",
       "      <td>POINT (-90.599327 41.520231)</td>\n",
       "      <td>82</td>\n",
       "      <td>SCOTT</td>\n",
       "      <td>...</td>\n",
       "      <td>101181</td>\n",
       "      <td>Crown Royal Multibrand Advent Calendar</td>\n",
       "      <td>6</td>\n",
       "      <td>50</td>\n",
       "      <td>22.49</td>\n",
       "      <td>33.74</td>\n",
       "      <td>6</td>\n",
       "      <td>202.44</td>\n",
       "      <td>0.30</td>\n",
       "      <td>0.07</td>\n",
       "    </tr>\n",
       "    <tr>\n",
       "      <th>2399</th>\n",
       "      <td>INV-32227200005</td>\n",
       "      <td>2020-11-25</td>\n",
       "      <td>2285</td>\n",
       "      <td>John's Grocery</td>\n",
       "      <td>401 East Market St</td>\n",
       "      <td>Iowa City</td>\n",
       "      <td>52240</td>\n",
       "      <td>POINT (-91.529854 41.663541)</td>\n",
       "      <td>52</td>\n",
       "      <td>JOHNSON</td>\n",
       "      <td>...</td>\n",
       "      <td>101181</td>\n",
       "      <td>Crown Royal Multibrand Advent Calendar</td>\n",
       "      <td>6</td>\n",
       "      <td>50</td>\n",
       "      <td>22.49</td>\n",
       "      <td>33.74</td>\n",
       "      <td>6</td>\n",
       "      <td>202.44</td>\n",
       "      <td>0.30</td>\n",
       "      <td>0.07</td>\n",
       "    </tr>\n",
       "    <tr>\n",
       "      <th>2400</th>\n",
       "      <td>INV-32151400067</td>\n",
       "      <td>2020-11-23</td>\n",
       "      <td>2670</td>\n",
       "      <td>Hy-Vee Food Store / Coralville</td>\n",
       "      <td>2004 8th  St</td>\n",
       "      <td>Coralville</td>\n",
       "      <td>52241</td>\n",
       "      <td>POINT (-91.591868 41.682337000000004)</td>\n",
       "      <td>52</td>\n",
       "      <td>JOHNSON</td>\n",
       "      <td>...</td>\n",
       "      <td>101181</td>\n",
       "      <td>Crown Royal Multibrand Advent Calendar</td>\n",
       "      <td>6</td>\n",
       "      <td>50</td>\n",
       "      <td>22.49</td>\n",
       "      <td>33.74</td>\n",
       "      <td>12</td>\n",
       "      <td>404.88</td>\n",
       "      <td>0.60</td>\n",
       "      <td>0.15</td>\n",
       "    </tr>\n",
       "  </tbody>\n",
       "</table>\n",
       "<p>2401 rows × 24 columns</p>\n",
       "</div>"
      ],
      "text/plain": [
       "     invoice_and_item_number        date store_number  \\\n",
       "0            INV-00009700041  2016-08-29         5236   \n",
       "1               S07541200001  2012-09-05         4300   \n",
       "2            INV-22998400013  2019-11-04         2508   \n",
       "3               S29393500001  2015-12-03         2663   \n",
       "4               S09220200082  2012-11-29         2637   \n",
       "...                      ...         ...          ...   \n",
       "2396         INV-32137900062  2020-11-20         2606   \n",
       "2397         INV-32146700013  2020-11-23         2620   \n",
       "2398         INV-32175100004  2020-11-23         6065   \n",
       "2399         INV-32227200005  2020-11-25         2285   \n",
       "2400         INV-32151400067  2020-11-23         2670   \n",
       "\n",
       "                               store_name                    address  \\\n",
       "0        Giggle Juice Liquor Station, LLC              600 W Main St   \n",
       "1         Fareway Stores #625 / Oskaloosa             311  3RD AVE W   \n",
       "2     Hy-Vee Food Store #1 / Cedar Rapids  1843 Johnson Avenue, N.W.   \n",
       "3                      Hy-Vee / Urbandale               8701 DOUGLAS   \n",
       "4                   Hy-Vee #5 / Davenport              2351 W LOCUST   \n",
       "...                                   ...                        ...   \n",
       "2396   Hy-Vee Wine and Spirits / Humboldt        1011  13th St North   \n",
       "2397             Hy-Vee / Windsor Heights        7101 University Ave   \n",
       "2398       Super Saver Liquor / Davenport         1610 Rockingham Rd   \n",
       "2399                       John's Grocery         401 East Market St   \n",
       "2400       Hy-Vee Food Store / Coralville               2004 8th  St   \n",
       "\n",
       "                 city zip_code                         store_location  \\\n",
       "0             Anamosa    52205   POINT (-91.29083400000002 42.108203)   \n",
       "1           OSKALOOSA    52577           POINT (-92.648062 41.292614)   \n",
       "2        Cedar Rapids    52405            POINT (-91.697941 41.97447)   \n",
       "3           URBANDALE    50322           POINT (-93.739105 41.629364)   \n",
       "4           DAVENPORT    52804           POINT (-90.611972 41.538207)   \n",
       "...               ...      ...                                    ...   \n",
       "2396         Humboldt    50548           POINT (-94.227116 42.733221)   \n",
       "2397  Windsor Heights    50311                                   None   \n",
       "2398        Davenport    52802           POINT (-90.599327 41.520231)   \n",
       "2399        Iowa City    52240           POINT (-91.529854 41.663541)   \n",
       "2400       Coralville    52241  POINT (-91.591868 41.682337000000004)   \n",
       "\n",
       "     county_number    county  ... item_number  \\\n",
       "0               53     JONES  ...       71529   \n",
       "1               62   Mahaska  ...       86764   \n",
       "2               57      LINN  ...       43686   \n",
       "3               77      Polk  ...      927014   \n",
       "4               82     Scott  ...       27027   \n",
       "...            ...       ...  ...         ...   \n",
       "2396            46  HUMBOLDT  ...      101181   \n",
       "2397            77      Polk  ...      101181   \n",
       "2398            82     SCOTT  ...      101181   \n",
       "2399            52   JOHNSON  ...      101181   \n",
       "2400            52   JOHNSON  ...      101181   \n",
       "\n",
       "                             item_description pack bottle_volume_ml  \\\n",
       "0                      Tooters Ala Bama Slama   12              375   \n",
       "1                           Sipp'n Sweet Corn   12              375   \n",
       "2                              Cross Keys Rum   12              750   \n",
       "3     Cedar Ridge Malted Rye Barrel Urbandale    1           180000   \n",
       "4                               Cody Road Rye    6              750   \n",
       "...                                       ...  ...              ...   \n",
       "2396   Crown Royal Multibrand Advent Calendar    6               50   \n",
       "2397   Crown Royal Multibrand Advent Calendar    6               50   \n",
       "2398   Crown Royal Multibrand Advent Calendar    6               50   \n",
       "2399   Crown Royal Multibrand Advent Calendar    6               50   \n",
       "2400   Crown Royal Multibrand Advent Calendar    6               50   \n",
       "\n",
       "     state_bottle_cost state_bottle_retail  bottles_sold  sale_dollars  \\\n",
       "0                 5.75                8.63             1          8.63   \n",
       "1                10.50               15.75            60        945.00   \n",
       "2                10.07               15.11            36        543.96   \n",
       "3              6100.00             9150.00             1       9150.00   \n",
       "4                19.33               29.00            18        522.00   \n",
       "...                ...                 ...           ...           ...   \n",
       "2396             22.49               33.74             3        101.22   \n",
       "2397             22.49               33.74            12        404.88   \n",
       "2398             22.49               33.74             6        202.44   \n",
       "2399             22.49               33.74             6        202.44   \n",
       "2400             22.49               33.74            12        404.88   \n",
       "\n",
       "      volume_sold_liters  volume_sold_gallons  \n",
       "0                   0.37                 0.09  \n",
       "1                  22.50                 5.94  \n",
       "2                  27.00                 7.13  \n",
       "3                 180.00                47.55  \n",
       "4                  13.50                 3.57  \n",
       "...                  ...                  ...  \n",
       "2396                0.15                 0.03  \n",
       "2397                0.60                 0.15  \n",
       "2398                0.30                 0.07  \n",
       "2399                0.30                 0.07  \n",
       "2400                0.60                 0.15  \n",
       "\n",
       "[2401 rows x 24 columns]"
      ]
     },
     "execution_count": 6,
     "metadata": {},
     "output_type": "execute_result"
    }
   ],
   "source": [
    "df"
   ]
  },
  {
   "cell_type": "code",
   "execution_count": 7,
   "metadata": {},
   "outputs": [
    {
     "name": "stdout",
     "output_type": "stream",
     "text": [
      "<class 'pandas.core.frame.DataFrame'>\n",
      "RangeIndex: 2401 entries, 0 to 2400\n",
      "Data columns (total 24 columns):\n",
      " #   Column                   Non-Null Count  Dtype  \n",
      "---  ------                   --------------  -----  \n",
      " 0   invoice_and_item_number  2401 non-null   object \n",
      " 1   date                     2401 non-null   object \n",
      " 2   store_number             2401 non-null   object \n",
      " 3   store_name               2401 non-null   object \n",
      " 4   address                  2397 non-null   object \n",
      " 5   city                     2397 non-null   object \n",
      " 6   zip_code                 2397 non-null   object \n",
      " 7   store_location           2170 non-null   object \n",
      " 8   county_number            2389 non-null   object \n",
      " 9   county                   2389 non-null   object \n",
      " 10  category                 2322 non-null   object \n",
      " 11  category_name            2312 non-null   object \n",
      " 12  vendor_number            2401 non-null   object \n",
      " 13  vendor_name              2401 non-null   object \n",
      " 14  item_number              2401 non-null   object \n",
      " 15  item_description         2401 non-null   object \n",
      " 16  pack                     2401 non-null   int64  \n",
      " 17  bottle_volume_ml         2401 non-null   int64  \n",
      " 18  state_bottle_cost        2401 non-null   float64\n",
      " 19  state_bottle_retail      2401 non-null   float64\n",
      " 20  bottles_sold             2401 non-null   int64  \n",
      " 21  sale_dollars             2401 non-null   float64\n",
      " 22  volume_sold_liters       2401 non-null   float64\n",
      " 23  volume_sold_gallons      2401 non-null   float64\n",
      "dtypes: float64(5), int64(3), object(16)\n",
      "memory usage: 450.3+ KB\n"
     ]
    }
   ],
   "source": [
    "df.info()"
   ]
  },
  {
   "cell_type": "code",
   "execution_count": 8,
   "metadata": {},
   "outputs": [
    {
     "data": {
      "text/html": [
       "<div>\n",
       "<style scoped>\n",
       "    .dataframe tbody tr th:only-of-type {\n",
       "        vertical-align: middle;\n",
       "    }\n",
       "\n",
       "    .dataframe tbody tr th {\n",
       "        vertical-align: top;\n",
       "    }\n",
       "\n",
       "    .dataframe thead th {\n",
       "        text-align: right;\n",
       "    }\n",
       "</style>\n",
       "<table border=\"1\" class=\"dataframe\">\n",
       "  <thead>\n",
       "    <tr style=\"text-align: right;\">\n",
       "      <th></th>\n",
       "      <th>pack</th>\n",
       "      <th>bottle_volume_ml</th>\n",
       "      <th>state_bottle_cost</th>\n",
       "      <th>state_bottle_retail</th>\n",
       "      <th>bottles_sold</th>\n",
       "      <th>sale_dollars</th>\n",
       "      <th>volume_sold_liters</th>\n",
       "      <th>volume_sold_gallons</th>\n",
       "    </tr>\n",
       "  </thead>\n",
       "  <tbody>\n",
       "    <tr>\n",
       "      <th>count</th>\n",
       "      <td>2401.000000</td>\n",
       "      <td>2401.000000</td>\n",
       "      <td>2401.000000</td>\n",
       "      <td>2401.000000</td>\n",
       "      <td>2401.000000</td>\n",
       "      <td>2401.000000</td>\n",
       "      <td>2401.000000</td>\n",
       "      <td>2401.00000</td>\n",
       "    </tr>\n",
       "    <tr>\n",
       "      <th>mean</th>\n",
       "      <td>11.234069</td>\n",
       "      <td>947.084548</td>\n",
       "      <td>13.308584</td>\n",
       "      <td>19.970425</td>\n",
       "      <td>45.407330</td>\n",
       "      <td>682.305044</td>\n",
       "      <td>43.861262</td>\n",
       "      <td>11.58519</td>\n",
       "    </tr>\n",
       "    <tr>\n",
       "      <th>std</th>\n",
       "      <td>5.818664</td>\n",
       "      <td>3678.524647</td>\n",
       "      <td>124.576441</td>\n",
       "      <td>186.864836</td>\n",
       "      <td>89.509594</td>\n",
       "      <td>1581.988723</td>\n",
       "      <td>98.353484</td>\n",
       "      <td>25.98235</td>\n",
       "    </tr>\n",
       "    <tr>\n",
       "      <th>min</th>\n",
       "      <td>1.000000</td>\n",
       "      <td>50.000000</td>\n",
       "      <td>0.890000</td>\n",
       "      <td>1.340000</td>\n",
       "      <td>0.000000</td>\n",
       "      <td>0.000000</td>\n",
       "      <td>0.100000</td>\n",
       "      <td>0.02000</td>\n",
       "    </tr>\n",
       "    <tr>\n",
       "      <th>25%</th>\n",
       "      <td>6.000000</td>\n",
       "      <td>750.000000</td>\n",
       "      <td>4.850000</td>\n",
       "      <td>7.280000</td>\n",
       "      <td>4.000000</td>\n",
       "      <td>45.000000</td>\n",
       "      <td>4.000000</td>\n",
       "      <td>1.06000</td>\n",
       "    </tr>\n",
       "    <tr>\n",
       "      <th>50%</th>\n",
       "      <td>12.000000</td>\n",
       "      <td>1000.000000</td>\n",
       "      <td>7.620000</td>\n",
       "      <td>11.430000</td>\n",
       "      <td>12.000000</td>\n",
       "      <td>189.000000</td>\n",
       "      <td>8.250000</td>\n",
       "      <td>2.18000</td>\n",
       "    </tr>\n",
       "    <tr>\n",
       "      <th>75%</th>\n",
       "      <td>12.000000</td>\n",
       "      <td>1000.000000</td>\n",
       "      <td>15.150000</td>\n",
       "      <td>22.730000</td>\n",
       "      <td>60.000000</td>\n",
       "      <td>685.800000</td>\n",
       "      <td>48.000000</td>\n",
       "      <td>12.68000</td>\n",
       "    </tr>\n",
       "    <tr>\n",
       "      <th>max</th>\n",
       "      <td>48.000000</td>\n",
       "      <td>180000.000000</td>\n",
       "      <td>6100.000000</td>\n",
       "      <td>9150.000000</td>\n",
       "      <td>768.000000</td>\n",
       "      <td>31260.000000</td>\n",
       "      <td>1260.000000</td>\n",
       "      <td>332.86000</td>\n",
       "    </tr>\n",
       "  </tbody>\n",
       "</table>\n",
       "</div>"
      ],
      "text/plain": [
       "              pack  bottle_volume_ml  state_bottle_cost  state_bottle_retail  \\\n",
       "count  2401.000000       2401.000000        2401.000000          2401.000000   \n",
       "mean     11.234069        947.084548          13.308584            19.970425   \n",
       "std       5.818664       3678.524647         124.576441           186.864836   \n",
       "min       1.000000         50.000000           0.890000             1.340000   \n",
       "25%       6.000000        750.000000           4.850000             7.280000   \n",
       "50%      12.000000       1000.000000           7.620000            11.430000   \n",
       "75%      12.000000       1000.000000          15.150000            22.730000   \n",
       "max      48.000000     180000.000000        6100.000000          9150.000000   \n",
       "\n",
       "       bottles_sold  sale_dollars  volume_sold_liters  volume_sold_gallons  \n",
       "count   2401.000000   2401.000000         2401.000000           2401.00000  \n",
       "mean      45.407330    682.305044           43.861262             11.58519  \n",
       "std       89.509594   1581.988723           98.353484             25.98235  \n",
       "min        0.000000      0.000000            0.100000              0.02000  \n",
       "25%        4.000000     45.000000            4.000000              1.06000  \n",
       "50%       12.000000    189.000000            8.250000              2.18000  \n",
       "75%       60.000000    685.800000           48.000000             12.68000  \n",
       "max      768.000000  31260.000000         1260.000000            332.86000  "
      ]
     },
     "execution_count": 8,
     "metadata": {},
     "output_type": "execute_result"
    }
   ],
   "source": [
    "df.describe()"
   ]
  },
  {
   "cell_type": "markdown",
   "metadata": {},
   "source": [
    "### Check Missing Values"
   ]
  },
  {
   "cell_type": "code",
   "execution_count": 9,
   "metadata": {},
   "outputs": [
    {
     "data": {
      "text/plain": [
       "invoice_and_item_number      0\n",
       "date                         0\n",
       "store_number                 0\n",
       "store_name                   0\n",
       "address                      4\n",
       "city                         4\n",
       "zip_code                     4\n",
       "store_location             231\n",
       "county_number               12\n",
       "county                      12\n",
       "category                    79\n",
       "category_name               89\n",
       "vendor_number                0\n",
       "vendor_name                  0\n",
       "item_number                  0\n",
       "item_description             0\n",
       "pack                         0\n",
       "bottle_volume_ml             0\n",
       "state_bottle_cost            0\n",
       "state_bottle_retail          0\n",
       "bottles_sold                 0\n",
       "sale_dollars                 0\n",
       "volume_sold_liters           0\n",
       "volume_sold_gallons          0\n",
       "dtype: int64"
      ]
     },
     "execution_count": 9,
     "metadata": {},
     "output_type": "execute_result"
    }
   ],
   "source": [
    "df.isna().sum()"
   ]
  },
  {
   "cell_type": "code",
   "execution_count": 10,
   "metadata": {},
   "outputs": [
    {
     "data": {
      "text/html": [
       "<div>\n",
       "<style scoped>\n",
       "    .dataframe tbody tr th:only-of-type {\n",
       "        vertical-align: middle;\n",
       "    }\n",
       "\n",
       "    .dataframe tbody tr th {\n",
       "        vertical-align: top;\n",
       "    }\n",
       "\n",
       "    .dataframe thead th {\n",
       "        text-align: right;\n",
       "    }\n",
       "</style>\n",
       "<table border=\"1\" class=\"dataframe\">\n",
       "  <thead>\n",
       "    <tr style=\"text-align: right;\">\n",
       "      <th></th>\n",
       "      <th>invoice_and_item_number</th>\n",
       "      <th>date</th>\n",
       "      <th>store_number</th>\n",
       "      <th>store_name</th>\n",
       "      <th>address</th>\n",
       "      <th>city</th>\n",
       "      <th>zip_code</th>\n",
       "      <th>store_location</th>\n",
       "      <th>county_number</th>\n",
       "      <th>county</th>\n",
       "      <th>...</th>\n",
       "      <th>item_number</th>\n",
       "      <th>item_description</th>\n",
       "      <th>pack</th>\n",
       "      <th>bottle_volume_ml</th>\n",
       "      <th>state_bottle_cost</th>\n",
       "      <th>state_bottle_retail</th>\n",
       "      <th>bottles_sold</th>\n",
       "      <th>sale_dollars</th>\n",
       "      <th>volume_sold_liters</th>\n",
       "      <th>volume_sold_gallons</th>\n",
       "    </tr>\n",
       "  </thead>\n",
       "  <tbody>\n",
       "    <tr>\n",
       "      <th>16</th>\n",
       "      <td>INV-00035500081</td>\n",
       "      <td>2016-08-30</td>\n",
       "      <td>2524</td>\n",
       "      <td>Hy-Vee Food Store / Dubuque</td>\n",
       "      <td>3500 Dodge St</td>\n",
       "      <td>Dubuque</td>\n",
       "      <td>52001</td>\n",
       "      <td>None</td>\n",
       "      <td>31</td>\n",
       "      <td>DUBUQUE</td>\n",
       "      <td>...</td>\n",
       "      <td>34423</td>\n",
       "      <td>Grey Goose Vodka</td>\n",
       "      <td>12</td>\n",
       "      <td>375</td>\n",
       "      <td>9.00</td>\n",
       "      <td>13.50</td>\n",
       "      <td>1</td>\n",
       "      <td>162.00</td>\n",
       "      <td>0.37</td>\n",
       "      <td>0.09</td>\n",
       "    </tr>\n",
       "    <tr>\n",
       "      <th>20</th>\n",
       "      <td>INV-02504900005</td>\n",
       "      <td>2017-01-03</td>\n",
       "      <td>4677</td>\n",
       "      <td>Costco Wholesale #1111 / Coralville</td>\n",
       "      <td>2900 Heartland Dr</td>\n",
       "      <td>Coralville</td>\n",
       "      <td>52241</td>\n",
       "      <td>POINT (-91.61494100000002 41.698028)</td>\n",
       "      <td>52</td>\n",
       "      <td>JOHNSON</td>\n",
       "      <td>...</td>\n",
       "      <td>4055</td>\n",
       "      <td>Caravella Limoncello w/Glass</td>\n",
       "      <td>6</td>\n",
       "      <td>750</td>\n",
       "      <td>11.25</td>\n",
       "      <td>16.88</td>\n",
       "      <td>30</td>\n",
       "      <td>506.40</td>\n",
       "      <td>22.50</td>\n",
       "      <td>5.94</td>\n",
       "    </tr>\n",
       "    <tr>\n",
       "      <th>22</th>\n",
       "      <td>INV-12459900003</td>\n",
       "      <td>2018-06-05</td>\n",
       "      <td>2524</td>\n",
       "      <td>Hy-Vee Food Store / Dubuque</td>\n",
       "      <td>3500 Dodge St</td>\n",
       "      <td>Dubuque</td>\n",
       "      <td>52001</td>\n",
       "      <td>None</td>\n",
       "      <td>31</td>\n",
       "      <td>DUBUQUE</td>\n",
       "      <td>...</td>\n",
       "      <td>48690</td>\n",
       "      <td>Martell VSSD</td>\n",
       "      <td>24</td>\n",
       "      <td>200</td>\n",
       "      <td>5.99</td>\n",
       "      <td>8.99</td>\n",
       "      <td>2</td>\n",
       "      <td>17.98</td>\n",
       "      <td>0.40</td>\n",
       "      <td>0.11</td>\n",
       "    </tr>\n",
       "    <tr>\n",
       "      <th>39</th>\n",
       "      <td>INV-30839400006</td>\n",
       "      <td>2020-10-07</td>\n",
       "      <td>2625</td>\n",
       "      <td>Hy-Vee Wine &amp; Spirits #2 / Davenport</td>\n",
       "      <td>3301 W Kimberly Rd</td>\n",
       "      <td>Davenport</td>\n",
       "      <td>52804</td>\n",
       "      <td>None</td>\n",
       "      <td>82</td>\n",
       "      <td>SCOTT</td>\n",
       "      <td>...</td>\n",
       "      <td>434</td>\n",
       "      <td>Jim Beam w/2 Glasses</td>\n",
       "      <td>6</td>\n",
       "      <td>750</td>\n",
       "      <td>10.50</td>\n",
       "      <td>15.75</td>\n",
       "      <td>18</td>\n",
       "      <td>283.50</td>\n",
       "      <td>13.50</td>\n",
       "      <td>3.56</td>\n",
       "    </tr>\n",
       "    <tr>\n",
       "      <th>40</th>\n",
       "      <td>INV-08979600004</td>\n",
       "      <td>2017-12-04</td>\n",
       "      <td>2560</td>\n",
       "      <td>Hy-Vee Food Store / Marion</td>\n",
       "      <td>3600 Business Hwy 151 East</td>\n",
       "      <td>Marion</td>\n",
       "      <td>52302</td>\n",
       "      <td>None</td>\n",
       "      <td>57</td>\n",
       "      <td>LINN</td>\n",
       "      <td>...</td>\n",
       "      <td>5036</td>\n",
       "      <td>Glenlivet 12YR</td>\n",
       "      <td>12</td>\n",
       "      <td>750</td>\n",
       "      <td>23.98</td>\n",
       "      <td>35.97</td>\n",
       "      <td>60</td>\n",
       "      <td>2113.20</td>\n",
       "      <td>45.00</td>\n",
       "      <td>11.89</td>\n",
       "    </tr>\n",
       "    <tr>\n",
       "      <th>...</th>\n",
       "      <td>...</td>\n",
       "      <td>...</td>\n",
       "      <td>...</td>\n",
       "      <td>...</td>\n",
       "      <td>...</td>\n",
       "      <td>...</td>\n",
       "      <td>...</td>\n",
       "      <td>...</td>\n",
       "      <td>...</td>\n",
       "      <td>...</td>\n",
       "      <td>...</td>\n",
       "      <td>...</td>\n",
       "      <td>...</td>\n",
       "      <td>...</td>\n",
       "      <td>...</td>\n",
       "      <td>...</td>\n",
       "      <td>...</td>\n",
       "      <td>...</td>\n",
       "      <td>...</td>\n",
       "      <td>...</td>\n",
       "      <td>...</td>\n",
       "    </tr>\n",
       "    <tr>\n",
       "      <th>2347</th>\n",
       "      <td>INV-19471900074</td>\n",
       "      <td>2019-05-20</td>\n",
       "      <td>3417</td>\n",
       "      <td>Big G Food Store</td>\n",
       "      <td>Po Box 261  310 W Dillon</td>\n",
       "      <td>Marengo</td>\n",
       "      <td>52301</td>\n",
       "      <td>None</td>\n",
       "      <td>48</td>\n",
       "      <td>IOWA</td>\n",
       "      <td>...</td>\n",
       "      <td>86507</td>\n",
       "      <td>Paramount Triple Sec</td>\n",
       "      <td>12</td>\n",
       "      <td>1000</td>\n",
       "      <td>3.84</td>\n",
       "      <td>5.76</td>\n",
       "      <td>4</td>\n",
       "      <td>23.04</td>\n",
       "      <td>4.00</td>\n",
       "      <td>1.05</td>\n",
       "    </tr>\n",
       "    <tr>\n",
       "      <th>2353</th>\n",
       "      <td>INV-17832400005</td>\n",
       "      <td>2019-02-28</td>\n",
       "      <td>4136</td>\n",
       "      <td>Fareway Stores #983 / Grimes</td>\n",
       "      <td>351 Gateway Dr</td>\n",
       "      <td>Grimes</td>\n",
       "      <td>50111</td>\n",
       "      <td>None</td>\n",
       "      <td>77</td>\n",
       "      <td>POLK</td>\n",
       "      <td>...</td>\n",
       "      <td>86739</td>\n",
       "      <td>Ole Smoky Apple Pie Moonshine 70prf Mini</td>\n",
       "      <td>8</td>\n",
       "      <td>300</td>\n",
       "      <td>8.75</td>\n",
       "      <td>13.13</td>\n",
       "      <td>8</td>\n",
       "      <td>105.04</td>\n",
       "      <td>2.40</td>\n",
       "      <td>0.63</td>\n",
       "    </tr>\n",
       "    <tr>\n",
       "      <th>2357</th>\n",
       "      <td>INV-30924300002</td>\n",
       "      <td>2020-10-12</td>\n",
       "      <td>2502</td>\n",
       "      <td>Hy-Vee Wine and Spirits / Ankeny</td>\n",
       "      <td>410 North Ankeny Blvd</td>\n",
       "      <td>Ankeny</td>\n",
       "      <td>50021</td>\n",
       "      <td>None</td>\n",
       "      <td>77</td>\n",
       "      <td>POLK</td>\n",
       "      <td>...</td>\n",
       "      <td>86739</td>\n",
       "      <td>Ole Smoky Apple Pie Moonshine 70prf Mini</td>\n",
       "      <td>8</td>\n",
       "      <td>50</td>\n",
       "      <td>8.75</td>\n",
       "      <td>13.13</td>\n",
       "      <td>32</td>\n",
       "      <td>420.16</td>\n",
       "      <td>1.60</td>\n",
       "      <td>0.42</td>\n",
       "    </tr>\n",
       "    <tr>\n",
       "      <th>2390</th>\n",
       "      <td>INV-32223800005</td>\n",
       "      <td>2020-11-25</td>\n",
       "      <td>2501</td>\n",
       "      <td>Hy-Vee  #2 / Ames</td>\n",
       "      <td>640 Lincolnway</td>\n",
       "      <td>Ames</td>\n",
       "      <td>50010</td>\n",
       "      <td>None</td>\n",
       "      <td>85</td>\n",
       "      <td>STORY</td>\n",
       "      <td>...</td>\n",
       "      <td>101181</td>\n",
       "      <td>Crown Royal Multibrand Advent Calendar</td>\n",
       "      <td>6</td>\n",
       "      <td>50</td>\n",
       "      <td>22.49</td>\n",
       "      <td>33.74</td>\n",
       "      <td>6</td>\n",
       "      <td>202.44</td>\n",
       "      <td>0.30</td>\n",
       "      <td>0.07</td>\n",
       "    </tr>\n",
       "    <tr>\n",
       "      <th>2397</th>\n",
       "      <td>INV-32146700013</td>\n",
       "      <td>2020-11-23</td>\n",
       "      <td>2620</td>\n",
       "      <td>Hy-Vee / Windsor Heights</td>\n",
       "      <td>7101 University Ave</td>\n",
       "      <td>Windsor Heights</td>\n",
       "      <td>50311</td>\n",
       "      <td>None</td>\n",
       "      <td>77</td>\n",
       "      <td>Polk</td>\n",
       "      <td>...</td>\n",
       "      <td>101181</td>\n",
       "      <td>Crown Royal Multibrand Advent Calendar</td>\n",
       "      <td>6</td>\n",
       "      <td>50</td>\n",
       "      <td>22.49</td>\n",
       "      <td>33.74</td>\n",
       "      <td>12</td>\n",
       "      <td>404.88</td>\n",
       "      <td>0.60</td>\n",
       "      <td>0.15</td>\n",
       "    </tr>\n",
       "  </tbody>\n",
       "</table>\n",
       "<p>318 rows × 24 columns</p>\n",
       "</div>"
      ],
      "text/plain": [
       "     invoice_and_item_number        date store_number  \\\n",
       "16           INV-00035500081  2016-08-30         2524   \n",
       "20           INV-02504900005  2017-01-03         4677   \n",
       "22           INV-12459900003  2018-06-05         2524   \n",
       "39           INV-30839400006  2020-10-07         2625   \n",
       "40           INV-08979600004  2017-12-04         2560   \n",
       "...                      ...         ...          ...   \n",
       "2347         INV-19471900074  2019-05-20         3417   \n",
       "2353         INV-17832400005  2019-02-28         4136   \n",
       "2357         INV-30924300002  2020-10-12         2502   \n",
       "2390         INV-32223800005  2020-11-25         2501   \n",
       "2397         INV-32146700013  2020-11-23         2620   \n",
       "\n",
       "                                store_name                     address  \\\n",
       "16             Hy-Vee Food Store / Dubuque               3500 Dodge St   \n",
       "20     Costco Wholesale #1111 / Coralville           2900 Heartland Dr   \n",
       "22             Hy-Vee Food Store / Dubuque               3500 Dodge St   \n",
       "39    Hy-Vee Wine & Spirits #2 / Davenport          3301 W Kimberly Rd   \n",
       "40              Hy-Vee Food Store / Marion  3600 Business Hwy 151 East   \n",
       "...                                    ...                         ...   \n",
       "2347                      Big G Food Store    Po Box 261  310 W Dillon   \n",
       "2353          Fareway Stores #983 / Grimes              351 Gateway Dr   \n",
       "2357      Hy-Vee Wine and Spirits / Ankeny       410 North Ankeny Blvd   \n",
       "2390                     Hy-Vee  #2 / Ames              640 Lincolnway   \n",
       "2397              Hy-Vee / Windsor Heights         7101 University Ave   \n",
       "\n",
       "                 city zip_code                        store_location  \\\n",
       "16            Dubuque    52001                                  None   \n",
       "20         Coralville    52241  POINT (-91.61494100000002 41.698028)   \n",
       "22            Dubuque    52001                                  None   \n",
       "39          Davenport    52804                                  None   \n",
       "40             Marion    52302                                  None   \n",
       "...               ...      ...                                   ...   \n",
       "2347          Marengo    52301                                  None   \n",
       "2353           Grimes    50111                                  None   \n",
       "2357           Ankeny    50021                                  None   \n",
       "2390             Ames    50010                                  None   \n",
       "2397  Windsor Heights    50311                                  None   \n",
       "\n",
       "     county_number   county  ... item_number  \\\n",
       "16              31  DUBUQUE  ...       34423   \n",
       "20              52  JOHNSON  ...        4055   \n",
       "22              31  DUBUQUE  ...       48690   \n",
       "39              82    SCOTT  ...         434   \n",
       "40              57     LINN  ...        5036   \n",
       "...            ...      ...  ...         ...   \n",
       "2347            48     IOWA  ...       86507   \n",
       "2353            77     POLK  ...       86739   \n",
       "2357            77     POLK  ...       86739   \n",
       "2390            85    STORY  ...      101181   \n",
       "2397            77     Polk  ...      101181   \n",
       "\n",
       "                              item_description pack bottle_volume_ml  \\\n",
       "16                            Grey Goose Vodka   12              375   \n",
       "20                Caravella Limoncello w/Glass    6              750   \n",
       "22                                Martell VSSD   24              200   \n",
       "39                        Jim Beam w/2 Glasses    6              750   \n",
       "40                              Glenlivet 12YR   12              750   \n",
       "...                                        ...  ...              ...   \n",
       "2347                      Paramount Triple Sec   12             1000   \n",
       "2353  Ole Smoky Apple Pie Moonshine 70prf Mini    8              300   \n",
       "2357  Ole Smoky Apple Pie Moonshine 70prf Mini    8               50   \n",
       "2390    Crown Royal Multibrand Advent Calendar    6               50   \n",
       "2397    Crown Royal Multibrand Advent Calendar    6               50   \n",
       "\n",
       "     state_bottle_cost state_bottle_retail  bottles_sold  sale_dollars  \\\n",
       "16                9.00               13.50             1        162.00   \n",
       "20               11.25               16.88            30        506.40   \n",
       "22                5.99                8.99             2         17.98   \n",
       "39               10.50               15.75            18        283.50   \n",
       "40               23.98               35.97            60       2113.20   \n",
       "...                ...                 ...           ...           ...   \n",
       "2347              3.84                5.76             4         23.04   \n",
       "2353              8.75               13.13             8        105.04   \n",
       "2357              8.75               13.13            32        420.16   \n",
       "2390             22.49               33.74             6        202.44   \n",
       "2397             22.49               33.74            12        404.88   \n",
       "\n",
       "      volume_sold_liters  volume_sold_gallons  \n",
       "16                  0.37                 0.09  \n",
       "20                 22.50                 5.94  \n",
       "22                  0.40                 0.11  \n",
       "39                 13.50                 3.56  \n",
       "40                 45.00                11.89  \n",
       "...                  ...                  ...  \n",
       "2347                4.00                 1.05  \n",
       "2353                2.40                 0.63  \n",
       "2357                1.60                 0.42  \n",
       "2390                0.30                 0.07  \n",
       "2397                0.60                 0.15  \n",
       "\n",
       "[318 rows x 24 columns]"
      ]
     },
     "execution_count": 10,
     "metadata": {},
     "output_type": "execute_result"
    }
   ],
   "source": [
    "df[df.isna().any(axis=1)]"
   ]
  },
  {
   "cell_type": "code",
   "execution_count": 11,
   "metadata": {},
   "outputs": [
    {
     "data": {
      "text/html": [
       "<div>\n",
       "<style scoped>\n",
       "    .dataframe tbody tr th:only-of-type {\n",
       "        vertical-align: middle;\n",
       "    }\n",
       "\n",
       "    .dataframe tbody tr th {\n",
       "        vertical-align: top;\n",
       "    }\n",
       "\n",
       "    .dataframe thead th {\n",
       "        text-align: right;\n",
       "    }\n",
       "</style>\n",
       "<table border=\"1\" class=\"dataframe\">\n",
       "  <thead>\n",
       "    <tr style=\"text-align: right;\">\n",
       "      <th></th>\n",
       "      <th>invoice_and_item_number</th>\n",
       "      <th>date</th>\n",
       "      <th>store_number</th>\n",
       "      <th>store_name</th>\n",
       "      <th>address</th>\n",
       "      <th>city</th>\n",
       "      <th>zip_code</th>\n",
       "      <th>store_location</th>\n",
       "      <th>county_number</th>\n",
       "      <th>county</th>\n",
       "      <th>...</th>\n",
       "      <th>item_number</th>\n",
       "      <th>item_description</th>\n",
       "      <th>pack</th>\n",
       "      <th>bottle_volume_ml</th>\n",
       "      <th>state_bottle_cost</th>\n",
       "      <th>state_bottle_retail</th>\n",
       "      <th>bottles_sold</th>\n",
       "      <th>sale_dollars</th>\n",
       "      <th>volume_sold_liters</th>\n",
       "      <th>volume_sold_gallons</th>\n",
       "    </tr>\n",
       "  </thead>\n",
       "  <tbody>\n",
       "    <tr>\n",
       "      <th>16</th>\n",
       "      <td>INV-00035500081</td>\n",
       "      <td>2016-08-30</td>\n",
       "      <td>2524</td>\n",
       "      <td>Hy-Vee Food Store / Dubuque</td>\n",
       "      <td>3500 Dodge St</td>\n",
       "      <td>Dubuque</td>\n",
       "      <td>52001</td>\n",
       "      <td>None</td>\n",
       "      <td>31</td>\n",
       "      <td>DUBUQUE</td>\n",
       "      <td>...</td>\n",
       "      <td>34423</td>\n",
       "      <td>Grey Goose Vodka</td>\n",
       "      <td>12</td>\n",
       "      <td>375</td>\n",
       "      <td>9.00</td>\n",
       "      <td>13.50</td>\n",
       "      <td>1</td>\n",
       "      <td>162.00</td>\n",
       "      <td>0.37</td>\n",
       "      <td>0.09</td>\n",
       "    </tr>\n",
       "    <tr>\n",
       "      <th>22</th>\n",
       "      <td>INV-12459900003</td>\n",
       "      <td>2018-06-05</td>\n",
       "      <td>2524</td>\n",
       "      <td>Hy-Vee Food Store / Dubuque</td>\n",
       "      <td>3500 Dodge St</td>\n",
       "      <td>Dubuque</td>\n",
       "      <td>52001</td>\n",
       "      <td>None</td>\n",
       "      <td>31</td>\n",
       "      <td>DUBUQUE</td>\n",
       "      <td>...</td>\n",
       "      <td>48690</td>\n",
       "      <td>Martell VSSD</td>\n",
       "      <td>24</td>\n",
       "      <td>200</td>\n",
       "      <td>5.99</td>\n",
       "      <td>8.99</td>\n",
       "      <td>2</td>\n",
       "      <td>17.98</td>\n",
       "      <td>0.40</td>\n",
       "      <td>0.11</td>\n",
       "    </tr>\n",
       "    <tr>\n",
       "      <th>39</th>\n",
       "      <td>INV-30839400006</td>\n",
       "      <td>2020-10-07</td>\n",
       "      <td>2625</td>\n",
       "      <td>Hy-Vee Wine &amp; Spirits #2 / Davenport</td>\n",
       "      <td>3301 W Kimberly Rd</td>\n",
       "      <td>Davenport</td>\n",
       "      <td>52804</td>\n",
       "      <td>None</td>\n",
       "      <td>82</td>\n",
       "      <td>SCOTT</td>\n",
       "      <td>...</td>\n",
       "      <td>434</td>\n",
       "      <td>Jim Beam w/2 Glasses</td>\n",
       "      <td>6</td>\n",
       "      <td>750</td>\n",
       "      <td>10.50</td>\n",
       "      <td>15.75</td>\n",
       "      <td>18</td>\n",
       "      <td>283.50</td>\n",
       "      <td>13.50</td>\n",
       "      <td>3.56</td>\n",
       "    </tr>\n",
       "    <tr>\n",
       "      <th>40</th>\n",
       "      <td>INV-08979600004</td>\n",
       "      <td>2017-12-04</td>\n",
       "      <td>2560</td>\n",
       "      <td>Hy-Vee Food Store / Marion</td>\n",
       "      <td>3600 Business Hwy 151 East</td>\n",
       "      <td>Marion</td>\n",
       "      <td>52302</td>\n",
       "      <td>None</td>\n",
       "      <td>57</td>\n",
       "      <td>LINN</td>\n",
       "      <td>...</td>\n",
       "      <td>5036</td>\n",
       "      <td>Glenlivet 12YR</td>\n",
       "      <td>12</td>\n",
       "      <td>750</td>\n",
       "      <td>23.98</td>\n",
       "      <td>35.97</td>\n",
       "      <td>60</td>\n",
       "      <td>2113.20</td>\n",
       "      <td>45.00</td>\n",
       "      <td>11.89</td>\n",
       "    </tr>\n",
       "    <tr>\n",
       "      <th>42</th>\n",
       "      <td>S29737600124</td>\n",
       "      <td>2015-12-18</td>\n",
       "      <td>2549</td>\n",
       "      <td>Hy-Vee Food Store / Indianola</td>\n",
       "      <td>910 N JEFFERSON</td>\n",
       "      <td>INDIANOLA</td>\n",
       "      <td>50125</td>\n",
       "      <td>None</td>\n",
       "      <td>91</td>\n",
       "      <td>Warren</td>\n",
       "      <td>...</td>\n",
       "      <td>874</td>\n",
       "      <td>The Glenlivet w/50ml 15YR &amp; 18YR</td>\n",
       "      <td>6</td>\n",
       "      <td>850</td>\n",
       "      <td>22.48</td>\n",
       "      <td>33.72</td>\n",
       "      <td>6</td>\n",
       "      <td>202.32</td>\n",
       "      <td>5.10</td>\n",
       "      <td>1.35</td>\n",
       "    </tr>\n",
       "  </tbody>\n",
       "</table>\n",
       "<p>5 rows × 24 columns</p>\n",
       "</div>"
      ],
      "text/plain": [
       "   invoice_and_item_number        date store_number  \\\n",
       "16         INV-00035500081  2016-08-30         2524   \n",
       "22         INV-12459900003  2018-06-05         2524   \n",
       "39         INV-30839400006  2020-10-07         2625   \n",
       "40         INV-08979600004  2017-12-04         2560   \n",
       "42            S29737600124  2015-12-18         2549   \n",
       "\n",
       "                              store_name                     address  \\\n",
       "16           Hy-Vee Food Store / Dubuque               3500 Dodge St   \n",
       "22           Hy-Vee Food Store / Dubuque               3500 Dodge St   \n",
       "39  Hy-Vee Wine & Spirits #2 / Davenport          3301 W Kimberly Rd   \n",
       "40            Hy-Vee Food Store / Marion  3600 Business Hwy 151 East   \n",
       "42         Hy-Vee Food Store / Indianola             910 N JEFFERSON   \n",
       "\n",
       "         city zip_code store_location county_number   county  ... item_number  \\\n",
       "16    Dubuque    52001           None            31  DUBUQUE  ...       34423   \n",
       "22    Dubuque    52001           None            31  DUBUQUE  ...       48690   \n",
       "39  Davenport    52804           None            82    SCOTT  ...         434   \n",
       "40     Marion    52302           None            57     LINN  ...        5036   \n",
       "42  INDIANOLA    50125           None            91   Warren  ...         874   \n",
       "\n",
       "                    item_description pack bottle_volume_ml state_bottle_cost  \\\n",
       "16                  Grey Goose Vodka   12              375              9.00   \n",
       "22                      Martell VSSD   24              200              5.99   \n",
       "39              Jim Beam w/2 Glasses    6              750             10.50   \n",
       "40                    Glenlivet 12YR   12              750             23.98   \n",
       "42  The Glenlivet w/50ml 15YR & 18YR    6              850             22.48   \n",
       "\n",
       "   state_bottle_retail  bottles_sold  sale_dollars  volume_sold_liters  \\\n",
       "16               13.50             1        162.00                0.37   \n",
       "22                8.99             2         17.98                0.40   \n",
       "39               15.75            18        283.50               13.50   \n",
       "40               35.97            60       2113.20               45.00   \n",
       "42               33.72             6        202.32                5.10   \n",
       "\n",
       "    volume_sold_gallons  \n",
       "16                 0.09  \n",
       "22                 0.11  \n",
       "39                 3.56  \n",
       "40                11.89  \n",
       "42                 1.35  \n",
       "\n",
       "[5 rows x 24 columns]"
      ]
     },
     "execution_count": 11,
     "metadata": {},
     "output_type": "execute_result"
    }
   ],
   "source": [
    "df[df['store_location'].isna()].head()"
   ]
  },
  {
   "cell_type": "code",
   "execution_count": 12,
   "metadata": {},
   "outputs": [
    {
     "data": {
      "text/html": [
       "<div>\n",
       "<style scoped>\n",
       "    .dataframe tbody tr th:only-of-type {\n",
       "        vertical-align: middle;\n",
       "    }\n",
       "\n",
       "    .dataframe tbody tr th {\n",
       "        vertical-align: top;\n",
       "    }\n",
       "\n",
       "    .dataframe thead th {\n",
       "        text-align: right;\n",
       "    }\n",
       "</style>\n",
       "<table border=\"1\" class=\"dataframe\">\n",
       "  <thead>\n",
       "    <tr style=\"text-align: right;\">\n",
       "      <th></th>\n",
       "      <th>96</th>\n",
       "      <th>881</th>\n",
       "      <th>1635</th>\n",
       "      <th>1755</th>\n",
       "    </tr>\n",
       "  </thead>\n",
       "  <tbody>\n",
       "    <tr>\n",
       "      <th>invoice_and_item_number</th>\n",
       "      <td>INV-01591000013</td>\n",
       "      <td>INV-03410700073</td>\n",
       "      <td>INV-20765100016</td>\n",
       "      <td>INV-09226700028</td>\n",
       "    </tr>\n",
       "    <tr>\n",
       "      <th>date</th>\n",
       "      <td>2016-11-15</td>\n",
       "      <td>2017-02-22</td>\n",
       "      <td>2019-07-22</td>\n",
       "      <td>2017-12-14</td>\n",
       "    </tr>\n",
       "    <tr>\n",
       "      <th>store_number</th>\n",
       "      <td>2588</td>\n",
       "      <td>2556</td>\n",
       "      <td>3542</td>\n",
       "      <td>3420</td>\n",
       "    </tr>\n",
       "    <tr>\n",
       "      <th>store_name</th>\n",
       "      <td>Hy-Vee Food and Drug #6 / Cedar Rapids</td>\n",
       "      <td>Hy-Vee Wine and Spirits / Estherville</td>\n",
       "      <td>Chuck's Sportsmans Beverage</td>\n",
       "      <td>Sam's Club 6344 / Windsor Heights</td>\n",
       "    </tr>\n",
       "    <tr>\n",
       "      <th>address</th>\n",
       "      <td>None</td>\n",
       "      <td>None</td>\n",
       "      <td>None</td>\n",
       "      <td>None</td>\n",
       "    </tr>\n",
       "    <tr>\n",
       "      <th>city</th>\n",
       "      <td>None</td>\n",
       "      <td>None</td>\n",
       "      <td>None</td>\n",
       "      <td>None</td>\n",
       "    </tr>\n",
       "    <tr>\n",
       "      <th>zip_code</th>\n",
       "      <td>None</td>\n",
       "      <td>None</td>\n",
       "      <td>None</td>\n",
       "      <td>None</td>\n",
       "    </tr>\n",
       "    <tr>\n",
       "      <th>store_location</th>\n",
       "      <td>None</td>\n",
       "      <td>None</td>\n",
       "      <td>None</td>\n",
       "      <td>None</td>\n",
       "    </tr>\n",
       "    <tr>\n",
       "      <th>county_number</th>\n",
       "      <td>None</td>\n",
       "      <td>None</td>\n",
       "      <td>None</td>\n",
       "      <td>None</td>\n",
       "    </tr>\n",
       "    <tr>\n",
       "      <th>county</th>\n",
       "      <td>None</td>\n",
       "      <td>None</td>\n",
       "      <td>None</td>\n",
       "      <td>None</td>\n",
       "    </tr>\n",
       "    <tr>\n",
       "      <th>category</th>\n",
       "      <td>None</td>\n",
       "      <td>1081100</td>\n",
       "      <td>1081100</td>\n",
       "      <td>1092100</td>\n",
       "    </tr>\n",
       "    <tr>\n",
       "      <th>category_name</th>\n",
       "      <td>None</td>\n",
       "      <td>Coffee Liqueurs</td>\n",
       "      <td>Coffee Liqueurs</td>\n",
       "      <td>Imported Distilled Spirit Specialty</td>\n",
       "    </tr>\n",
       "    <tr>\n",
       "      <th>vendor_number</th>\n",
       "      <td>115</td>\n",
       "      <td>421</td>\n",
       "      <td>370</td>\n",
       "      <td>434</td>\n",
       "    </tr>\n",
       "    <tr>\n",
       "      <th>vendor_name</th>\n",
       "      <td>CONSTELLATION BRANDS INC</td>\n",
       "      <td>SAZERAC COMPANY  INC</td>\n",
       "      <td>PERNOD RICARD USA</td>\n",
       "      <td>LUXCO INC</td>\n",
       "    </tr>\n",
       "    <tr>\n",
       "      <th>item_number</th>\n",
       "      <td>10549</td>\n",
       "      <td>67586</td>\n",
       "      <td>67527</td>\n",
       "      <td>75087</td>\n",
       "    </tr>\n",
       "    <tr>\n",
       "      <th>item_description</th>\n",
       "      <td>Black Velvet Toasted Caramel Mini DISCO</td>\n",
       "      <td>Kapali Coffee Liqueur</td>\n",
       "      <td>Kahlua Coffee</td>\n",
       "      <td>Juarez Gold Dss</td>\n",
       "    </tr>\n",
       "    <tr>\n",
       "      <th>pack</th>\n",
       "      <td>10</td>\n",
       "      <td>12</td>\n",
       "      <td>12</td>\n",
       "      <td>12</td>\n",
       "    </tr>\n",
       "    <tr>\n",
       "      <th>bottle_volume_ml</th>\n",
       "      <td>600</td>\n",
       "      <td>750</td>\n",
       "      <td>1000</td>\n",
       "      <td>1000</td>\n",
       "    </tr>\n",
       "    <tr>\n",
       "      <th>state_bottle_cost</th>\n",
       "      <td>7.12</td>\n",
       "      <td>5.05</td>\n",
       "      <td>15.15</td>\n",
       "      <td>5.17</td>\n",
       "    </tr>\n",
       "    <tr>\n",
       "      <th>state_bottle_retail</th>\n",
       "      <td>10.68</td>\n",
       "      <td>7.58</td>\n",
       "      <td>22.73</td>\n",
       "      <td>7.76</td>\n",
       "    </tr>\n",
       "    <tr>\n",
       "      <th>bottles_sold</th>\n",
       "      <td>3</td>\n",
       "      <td>36</td>\n",
       "      <td>2</td>\n",
       "      <td>72</td>\n",
       "    </tr>\n",
       "    <tr>\n",
       "      <th>sale_dollars</th>\n",
       "      <td>32.04</td>\n",
       "      <td>272.88</td>\n",
       "      <td>44.98</td>\n",
       "      <td>531.36</td>\n",
       "    </tr>\n",
       "    <tr>\n",
       "      <th>volume_sold_liters</th>\n",
       "      <td>1.8</td>\n",
       "      <td>27.0</td>\n",
       "      <td>2.0</td>\n",
       "      <td>72.0</td>\n",
       "    </tr>\n",
       "    <tr>\n",
       "      <th>volume_sold_gallons</th>\n",
       "      <td>0.48</td>\n",
       "      <td>7.13</td>\n",
       "      <td>0.52</td>\n",
       "      <td>19.02</td>\n",
       "    </tr>\n",
       "  </tbody>\n",
       "</table>\n",
       "</div>"
      ],
      "text/plain": [
       "                                                            96    \\\n",
       "invoice_and_item_number                          INV-01591000013   \n",
       "date                                                  2016-11-15   \n",
       "store_number                                                2588   \n",
       "store_name                Hy-Vee Food and Drug #6 / Cedar Rapids   \n",
       "address                                                     None   \n",
       "city                                                        None   \n",
       "zip_code                                                    None   \n",
       "store_location                                              None   \n",
       "county_number                                               None   \n",
       "county                                                      None   \n",
       "category                                                    None   \n",
       "category_name                                               None   \n",
       "vendor_number                                                115   \n",
       "vendor_name                             CONSTELLATION BRANDS INC   \n",
       "item_number                                                10549   \n",
       "item_description         Black Velvet Toasted Caramel Mini DISCO   \n",
       "pack                                                          10   \n",
       "bottle_volume_ml                                             600   \n",
       "state_bottle_cost                                           7.12   \n",
       "state_bottle_retail                                        10.68   \n",
       "bottles_sold                                                   3   \n",
       "sale_dollars                                               32.04   \n",
       "volume_sold_liters                                           1.8   \n",
       "volume_sold_gallons                                         0.48   \n",
       "\n",
       "                                                          881   \\\n",
       "invoice_and_item_number                        INV-03410700073   \n",
       "date                                                2017-02-22   \n",
       "store_number                                              2556   \n",
       "store_name               Hy-Vee Wine and Spirits / Estherville   \n",
       "address                                                   None   \n",
       "city                                                      None   \n",
       "zip_code                                                  None   \n",
       "store_location                                            None   \n",
       "county_number                                             None   \n",
       "county                                                    None   \n",
       "category                                               1081100   \n",
       "category_name                                  Coffee Liqueurs   \n",
       "vendor_number                                              421   \n",
       "vendor_name                               SAZERAC COMPANY  INC   \n",
       "item_number                                              67586   \n",
       "item_description                         Kapali Coffee Liqueur   \n",
       "pack                                                        12   \n",
       "bottle_volume_ml                                           750   \n",
       "state_bottle_cost                                         5.05   \n",
       "state_bottle_retail                                       7.58   \n",
       "bottles_sold                                                36   \n",
       "sale_dollars                                            272.88   \n",
       "volume_sold_liters                                        27.0   \n",
       "volume_sold_gallons                                       7.13   \n",
       "\n",
       "                                                1635  \\\n",
       "invoice_and_item_number              INV-20765100016   \n",
       "date                                      2019-07-22   \n",
       "store_number                                    3542   \n",
       "store_name               Chuck's Sportsmans Beverage   \n",
       "address                                         None   \n",
       "city                                            None   \n",
       "zip_code                                        None   \n",
       "store_location                                  None   \n",
       "county_number                                   None   \n",
       "county                                          None   \n",
       "category                                     1081100   \n",
       "category_name                        Coffee Liqueurs   \n",
       "vendor_number                                    370   \n",
       "vendor_name                        PERNOD RICARD USA   \n",
       "item_number                                    67527   \n",
       "item_description                       Kahlua Coffee   \n",
       "pack                                              12   \n",
       "bottle_volume_ml                                1000   \n",
       "state_bottle_cost                              15.15   \n",
       "state_bottle_retail                            22.73   \n",
       "bottles_sold                                       2   \n",
       "sale_dollars                                   44.98   \n",
       "volume_sold_liters                               2.0   \n",
       "volume_sold_gallons                             0.52   \n",
       "\n",
       "                                                        1755  \n",
       "invoice_and_item_number                      INV-09226700028  \n",
       "date                                              2017-12-14  \n",
       "store_number                                            3420  \n",
       "store_name                 Sam's Club 6344 / Windsor Heights  \n",
       "address                                                 None  \n",
       "city                                                    None  \n",
       "zip_code                                                None  \n",
       "store_location                                          None  \n",
       "county_number                                           None  \n",
       "county                                                  None  \n",
       "category                                             1092100  \n",
       "category_name            Imported Distilled Spirit Specialty  \n",
       "vendor_number                                            434  \n",
       "vendor_name                                        LUXCO INC  \n",
       "item_number                                            75087  \n",
       "item_description                             Juarez Gold Dss  \n",
       "pack                                                      12  \n",
       "bottle_volume_ml                                        1000  \n",
       "state_bottle_cost                                       5.17  \n",
       "state_bottle_retail                                     7.76  \n",
       "bottles_sold                                              72  \n",
       "sale_dollars                                          531.36  \n",
       "volume_sold_liters                                      72.0  \n",
       "volume_sold_gallons                                    19.02  "
      ]
     },
     "execution_count": 12,
     "metadata": {},
     "output_type": "execute_result"
    }
   ],
   "source": [
    "df[df['address'].isna()].T"
   ]
  },
  {
   "cell_type": "code",
   "execution_count": 13,
   "metadata": {},
   "outputs": [
    {
     "data": {
      "text/plain": [
       "0        POINT (-91.29083400000002 42.108203)\n",
       "1                POINT (-92.648062 41.292614)\n",
       "2                 POINT (-91.697941 41.97447)\n",
       "3                POINT (-93.739105 41.629364)\n",
       "4                POINT (-90.611972 41.538207)\n",
       "                        ...                  \n",
       "2396             POINT (-94.227116 42.733221)\n",
       "2397                                     None\n",
       "2398             POINT (-90.599327 41.520231)\n",
       "2399             POINT (-91.529854 41.663541)\n",
       "2400    POINT (-91.591868 41.682337000000004)\n",
       "Name: store_location, Length: 2401, dtype: object"
      ]
     },
     "execution_count": 13,
     "metadata": {},
     "output_type": "execute_result"
    }
   ],
   "source": [
    "df['store_location']"
   ]
  },
  {
   "cell_type": "code",
   "execution_count": 14,
   "metadata": {},
   "outputs": [
    {
     "data": {
      "text/plain": [
       "DECANTERS & SPECIALTY PACKAGES         227\n",
       "Triple Sec                             152\n",
       "STRAIGHT RYE WHISKIES                  141\n",
       "Coffee Liqueurs                        133\n",
       "Gold Rum                               115\n",
       "IRISH WHISKIES                         110\n",
       "Straight Rye Whiskies                  104\n",
       "DISTILLED SPIRITS SPECIALTY             96\n",
       "TRIPLE SEC                              95\n",
       "Imported Distilled Spirit Specialty     90\n",
       "Name: category_name, dtype: int64"
      ]
     },
     "execution_count": 14,
     "metadata": {},
     "output_type": "execute_result"
    }
   ],
   "source": [
    "df['category_name'].value_counts().head(10)"
   ]
  },
  {
   "cell_type": "code",
   "execution_count": 15,
   "metadata": {},
   "outputs": [
    {
     "data": {
      "text/html": [
       "<div>\n",
       "<style scoped>\n",
       "    .dataframe tbody tr th:only-of-type {\n",
       "        vertical-align: middle;\n",
       "    }\n",
       "\n",
       "    .dataframe tbody tr th {\n",
       "        vertical-align: top;\n",
       "    }\n",
       "\n",
       "    .dataframe thead th {\n",
       "        text-align: right;\n",
       "    }\n",
       "</style>\n",
       "<table border=\"1\" class=\"dataframe\">\n",
       "  <thead>\n",
       "    <tr style=\"text-align: right;\">\n",
       "      <th></th>\n",
       "      <th>20</th>\n",
       "      <th>72</th>\n",
       "      <th>82</th>\n",
       "      <th>83</th>\n",
       "      <th>96</th>\n",
       "    </tr>\n",
       "  </thead>\n",
       "  <tbody>\n",
       "    <tr>\n",
       "      <th>invoice_and_item_number</th>\n",
       "      <td>INV-02504900005</td>\n",
       "      <td>INV-18329200025</td>\n",
       "      <td>INV-08762100061</td>\n",
       "      <td>INV-08821300001</td>\n",
       "      <td>INV-01591000013</td>\n",
       "    </tr>\n",
       "    <tr>\n",
       "      <th>date</th>\n",
       "      <td>2017-01-03</td>\n",
       "      <td>2019-03-25</td>\n",
       "      <td>2017-11-20</td>\n",
       "      <td>2017-11-22</td>\n",
       "      <td>2016-11-15</td>\n",
       "    </tr>\n",
       "    <tr>\n",
       "      <th>store_number</th>\n",
       "      <td>4677</td>\n",
       "      <td>3952</td>\n",
       "      <td>3917</td>\n",
       "      <td>3447</td>\n",
       "      <td>2588</td>\n",
       "    </tr>\n",
       "    <tr>\n",
       "      <th>store_name</th>\n",
       "      <td>Costco Wholesale #1111 / Coralville</td>\n",
       "      <td>Lot-A-Spirits</td>\n",
       "      <td>Smokin' Joe's #2 Tobacco and Liquor Outlet</td>\n",
       "      <td>Sam's Club 6432 / Sioux City</td>\n",
       "      <td>Hy-Vee Food and Drug #6 / Cedar Rapids</td>\n",
       "    </tr>\n",
       "    <tr>\n",
       "      <th>address</th>\n",
       "      <td>2900 Heartland Dr</td>\n",
       "      <td>3780 State St</td>\n",
       "      <td>1606 W Locust St</td>\n",
       "      <td>4201 S. York St.</td>\n",
       "      <td>None</td>\n",
       "    </tr>\n",
       "    <tr>\n",
       "      <th>city</th>\n",
       "      <td>Coralville</td>\n",
       "      <td>Bettendorf</td>\n",
       "      <td>Davenport</td>\n",
       "      <td>Sioux City</td>\n",
       "      <td>None</td>\n",
       "    </tr>\n",
       "    <tr>\n",
       "      <th>zip_code</th>\n",
       "      <td>52241</td>\n",
       "      <td>52722</td>\n",
       "      <td>52804</td>\n",
       "      <td>51106</td>\n",
       "      <td>None</td>\n",
       "    </tr>\n",
       "    <tr>\n",
       "      <th>store_location</th>\n",
       "      <td>POINT (-91.61494100000002 41.698028)</td>\n",
       "      <td>POINT (-90.48065 41.529655)</td>\n",
       "      <td>POINT (-90.599037 41.538254)</td>\n",
       "      <td>POINT (-96.37082 42.43407)</td>\n",
       "      <td>None</td>\n",
       "    </tr>\n",
       "    <tr>\n",
       "      <th>county_number</th>\n",
       "      <td>52</td>\n",
       "      <td>82</td>\n",
       "      <td>82</td>\n",
       "      <td>97</td>\n",
       "      <td>None</td>\n",
       "    </tr>\n",
       "    <tr>\n",
       "      <th>county</th>\n",
       "      <td>JOHNSON</td>\n",
       "      <td>SCOTT</td>\n",
       "      <td>SCOTT</td>\n",
       "      <td>WOODBURY</td>\n",
       "      <td>None</td>\n",
       "    </tr>\n",
       "    <tr>\n",
       "      <th>category</th>\n",
       "      <td>None</td>\n",
       "      <td>None</td>\n",
       "      <td>None</td>\n",
       "      <td>None</td>\n",
       "      <td>None</td>\n",
       "    </tr>\n",
       "    <tr>\n",
       "      <th>category_name</th>\n",
       "      <td>None</td>\n",
       "      <td>None</td>\n",
       "      <td>None</td>\n",
       "      <td>None</td>\n",
       "      <td>None</td>\n",
       "    </tr>\n",
       "    <tr>\n",
       "      <th>vendor_number</th>\n",
       "      <td>055</td>\n",
       "      <td>259</td>\n",
       "      <td>421</td>\n",
       "      <td>421</td>\n",
       "      <td>115</td>\n",
       "    </tr>\n",
       "    <tr>\n",
       "      <th>vendor_name</th>\n",
       "      <td>SAZERAC NORTH AMERICA</td>\n",
       "      <td>Heaven Hill Brands</td>\n",
       "      <td>SAZERAC COMPANY  INC</td>\n",
       "      <td>SAZERAC COMPANY  INC</td>\n",
       "      <td>CONSTELLATION BRANDS INC</td>\n",
       "    </tr>\n",
       "    <tr>\n",
       "      <th>item_number</th>\n",
       "      <td>4055</td>\n",
       "      <td>36122</td>\n",
       "      <td>100015</td>\n",
       "      <td>988063</td>\n",
       "      <td>10549</td>\n",
       "    </tr>\n",
       "    <tr>\n",
       "      <th>item_description</th>\n",
       "      <td>Caravella Limoncello w/Glass</td>\n",
       "      <td>Deep Eddy</td>\n",
       "      <td>Fireball Bag in Box</td>\n",
       "      <td>Members Mark Silver Tequila</td>\n",
       "      <td>Black Velvet Toasted Caramel Mini DISCO</td>\n",
       "    </tr>\n",
       "    <tr>\n",
       "      <th>pack</th>\n",
       "      <td>6</td>\n",
       "      <td>12</td>\n",
       "      <td>3</td>\n",
       "      <td>6</td>\n",
       "      <td>10</td>\n",
       "    </tr>\n",
       "    <tr>\n",
       "      <th>bottle_volume_ml</th>\n",
       "      <td>750</td>\n",
       "      <td>750</td>\n",
       "      <td>3500</td>\n",
       "      <td>1750</td>\n",
       "      <td>600</td>\n",
       "    </tr>\n",
       "    <tr>\n",
       "      <th>state_bottle_cost</th>\n",
       "      <td>11.25</td>\n",
       "      <td>9.0</td>\n",
       "      <td>30.0</td>\n",
       "      <td>13.96</td>\n",
       "      <td>7.12</td>\n",
       "    </tr>\n",
       "    <tr>\n",
       "      <th>state_bottle_retail</th>\n",
       "      <td>16.88</td>\n",
       "      <td>13.5</td>\n",
       "      <td>45.0</td>\n",
       "      <td>20.94</td>\n",
       "      <td>10.68</td>\n",
       "    </tr>\n",
       "    <tr>\n",
       "      <th>bottles_sold</th>\n",
       "      <td>30</td>\n",
       "      <td>24</td>\n",
       "      <td>2</td>\n",
       "      <td>288</td>\n",
       "      <td>3</td>\n",
       "    </tr>\n",
       "    <tr>\n",
       "      <th>sale_dollars</th>\n",
       "      <td>506.4</td>\n",
       "      <td>324.0</td>\n",
       "      <td>90.0</td>\n",
       "      <td>5866.56</td>\n",
       "      <td>32.04</td>\n",
       "    </tr>\n",
       "    <tr>\n",
       "      <th>volume_sold_liters</th>\n",
       "      <td>22.5</td>\n",
       "      <td>18.0</td>\n",
       "      <td>7.0</td>\n",
       "      <td>504.0</td>\n",
       "      <td>1.8</td>\n",
       "    </tr>\n",
       "    <tr>\n",
       "      <th>volume_sold_gallons</th>\n",
       "      <td>5.94</td>\n",
       "      <td>4.75</td>\n",
       "      <td>1.85</td>\n",
       "      <td>133.14</td>\n",
       "      <td>0.48</td>\n",
       "    </tr>\n",
       "  </tbody>\n",
       "</table>\n",
       "</div>"
      ],
      "text/plain": [
       "                                                           20  \\\n",
       "invoice_and_item_number                       INV-02504900005   \n",
       "date                                               2017-01-03   \n",
       "store_number                                             4677   \n",
       "store_name                Costco Wholesale #1111 / Coralville   \n",
       "address                                     2900 Heartland Dr   \n",
       "city                                               Coralville   \n",
       "zip_code                                                52241   \n",
       "store_location           POINT (-91.61494100000002 41.698028)   \n",
       "county_number                                              52   \n",
       "county                                                JOHNSON   \n",
       "category                                                 None   \n",
       "category_name                                            None   \n",
       "vendor_number                                             055   \n",
       "vendor_name                             SAZERAC NORTH AMERICA   \n",
       "item_number                                              4055   \n",
       "item_description                 Caravella Limoncello w/Glass   \n",
       "pack                                                        6   \n",
       "bottle_volume_ml                                          750   \n",
       "state_bottle_cost                                       11.25   \n",
       "state_bottle_retail                                     16.88   \n",
       "bottles_sold                                               30   \n",
       "sale_dollars                                            506.4   \n",
       "volume_sold_liters                                       22.5   \n",
       "volume_sold_gallons                                      5.94   \n",
       "\n",
       "                                                  72  \\\n",
       "invoice_and_item_number              INV-18329200025   \n",
       "date                                      2019-03-25   \n",
       "store_number                                    3952   \n",
       "store_name                             Lot-A-Spirits   \n",
       "address                                3780 State St   \n",
       "city                                      Bettendorf   \n",
       "zip_code                                       52722   \n",
       "store_location           POINT (-90.48065 41.529655)   \n",
       "county_number                                     82   \n",
       "county                                         SCOTT   \n",
       "category                                        None   \n",
       "category_name                                   None   \n",
       "vendor_number                                    259   \n",
       "vendor_name                       Heaven Hill Brands   \n",
       "item_number                                    36122   \n",
       "item_description                           Deep Eddy   \n",
       "pack                                              12   \n",
       "bottle_volume_ml                                 750   \n",
       "state_bottle_cost                                9.0   \n",
       "state_bottle_retail                             13.5   \n",
       "bottles_sold                                      24   \n",
       "sale_dollars                                   324.0   \n",
       "volume_sold_liters                              18.0   \n",
       "volume_sold_gallons                             4.75   \n",
       "\n",
       "                                                                 82  \\\n",
       "invoice_and_item_number                             INV-08762100061   \n",
       "date                                                     2017-11-20   \n",
       "store_number                                                   3917   \n",
       "store_name               Smokin' Joe's #2 Tobacco and Liquor Outlet   \n",
       "address                                            1606 W Locust St   \n",
       "city                                                      Davenport   \n",
       "zip_code                                                      52804   \n",
       "store_location                         POINT (-90.599037 41.538254)   \n",
       "county_number                                                    82   \n",
       "county                                                        SCOTT   \n",
       "category                                                       None   \n",
       "category_name                                                  None   \n",
       "vendor_number                                                   421   \n",
       "vendor_name                                    SAZERAC COMPANY  INC   \n",
       "item_number                                                  100015   \n",
       "item_description                                Fireball Bag in Box   \n",
       "pack                                                              3   \n",
       "bottle_volume_ml                                               3500   \n",
       "state_bottle_cost                                              30.0   \n",
       "state_bottle_retail                                            45.0   \n",
       "bottles_sold                                                      2   \n",
       "sale_dollars                                                   90.0   \n",
       "volume_sold_liters                                              7.0   \n",
       "volume_sold_gallons                                            1.85   \n",
       "\n",
       "                                                   83  \\\n",
       "invoice_and_item_number               INV-08821300001   \n",
       "date                                       2017-11-22   \n",
       "store_number                                     3447   \n",
       "store_name               Sam's Club 6432 / Sioux City   \n",
       "address                              4201 S. York St.   \n",
       "city                                       Sioux City   \n",
       "zip_code                                        51106   \n",
       "store_location             POINT (-96.37082 42.43407)   \n",
       "county_number                                      97   \n",
       "county                                       WOODBURY   \n",
       "category                                         None   \n",
       "category_name                                    None   \n",
       "vendor_number                                     421   \n",
       "vendor_name                      SAZERAC COMPANY  INC   \n",
       "item_number                                    988063   \n",
       "item_description          Members Mark Silver Tequila   \n",
       "pack                                                6   \n",
       "bottle_volume_ml                                 1750   \n",
       "state_bottle_cost                               13.96   \n",
       "state_bottle_retail                             20.94   \n",
       "bottles_sold                                      288   \n",
       "sale_dollars                                  5866.56   \n",
       "volume_sold_liters                              504.0   \n",
       "volume_sold_gallons                            133.14   \n",
       "\n",
       "                                                              96  \n",
       "invoice_and_item_number                          INV-01591000013  \n",
       "date                                                  2016-11-15  \n",
       "store_number                                                2588  \n",
       "store_name                Hy-Vee Food and Drug #6 / Cedar Rapids  \n",
       "address                                                     None  \n",
       "city                                                        None  \n",
       "zip_code                                                    None  \n",
       "store_location                                              None  \n",
       "county_number                                               None  \n",
       "county                                                      None  \n",
       "category                                                    None  \n",
       "category_name                                               None  \n",
       "vendor_number                                                115  \n",
       "vendor_name                             CONSTELLATION BRANDS INC  \n",
       "item_number                                                10549  \n",
       "item_description         Black Velvet Toasted Caramel Mini DISCO  \n",
       "pack                                                          10  \n",
       "bottle_volume_ml                                             600  \n",
       "state_bottle_cost                                           7.12  \n",
       "state_bottle_retail                                        10.68  \n",
       "bottles_sold                                                   3  \n",
       "sale_dollars                                               32.04  \n",
       "volume_sold_liters                                           1.8  \n",
       "volume_sold_gallons                                         0.48  "
      ]
     },
     "execution_count": 15,
     "metadata": {},
     "output_type": "execute_result"
    }
   ],
   "source": [
    "df[df['category_name'].isna()].head().T"
   ]
  },
  {
   "cell_type": "markdown",
   "metadata": {},
   "source": [
    "If we had the time, we will probably explore these missing values more and try to fill them with values that fit best. But for now, we will drop all the missing values."
   ]
  },
  {
   "cell_type": "code",
   "execution_count": 16,
   "metadata": {},
   "outputs": [],
   "source": [
    "df.dropna(inplace=True)"
   ]
  },
  {
   "cell_type": "code",
   "execution_count": 17,
   "metadata": {},
   "outputs": [
    {
     "data": {
      "text/plain": [
       "invoice_and_item_number    0\n",
       "date                       0\n",
       "store_number               0\n",
       "store_name                 0\n",
       "address                    0\n",
       "city                       0\n",
       "zip_code                   0\n",
       "store_location             0\n",
       "county_number              0\n",
       "county                     0\n",
       "category                   0\n",
       "category_name              0\n",
       "vendor_number              0\n",
       "vendor_name                0\n",
       "item_number                0\n",
       "item_description           0\n",
       "pack                       0\n",
       "bottle_volume_ml           0\n",
       "state_bottle_cost          0\n",
       "state_bottle_retail        0\n",
       "bottles_sold               0\n",
       "sale_dollars               0\n",
       "volume_sold_liters         0\n",
       "volume_sold_gallons        0\n",
       "dtype: int64"
      ]
     },
     "execution_count": 17,
     "metadata": {},
     "output_type": "execute_result"
    }
   ],
   "source": [
    "df.isna().sum()"
   ]
  },
  {
   "cell_type": "code",
   "execution_count": 18,
   "metadata": {},
   "outputs": [
    {
     "data": {
      "text/plain": [
       "2083"
      ]
     },
     "execution_count": 18,
     "metadata": {},
     "output_type": "execute_result"
    }
   ],
   "source": [
    "len(df)"
   ]
  },
  {
   "cell_type": "markdown",
   "metadata": {},
   "source": [
    "Now that we don't have null values in my dataset, we will proceed to look further to each attribute"
   ]
  },
  {
   "cell_type": "markdown",
   "metadata": {},
   "source": [
    "### Exploring Each Attribute"
   ]
  },
  {
   "cell_type": "code",
   "execution_count": 19,
   "metadata": {},
   "outputs": [
    {
     "name": "stdout",
     "output_type": "stream",
     "text": [
      "<class 'pandas.core.frame.DataFrame'>\n",
      "Int64Index: 2083 entries, 0 to 2400\n",
      "Data columns (total 24 columns):\n",
      " #   Column                   Non-Null Count  Dtype  \n",
      "---  ------                   --------------  -----  \n",
      " 0   invoice_and_item_number  2083 non-null   object \n",
      " 1   date                     2083 non-null   object \n",
      " 2   store_number             2083 non-null   object \n",
      " 3   store_name               2083 non-null   object \n",
      " 4   address                  2083 non-null   object \n",
      " 5   city                     2083 non-null   object \n",
      " 6   zip_code                 2083 non-null   object \n",
      " 7   store_location           2083 non-null   object \n",
      " 8   county_number            2083 non-null   object \n",
      " 9   county                   2083 non-null   object \n",
      " 10  category                 2083 non-null   object \n",
      " 11  category_name            2083 non-null   object \n",
      " 12  vendor_number            2083 non-null   object \n",
      " 13  vendor_name              2083 non-null   object \n",
      " 14  item_number              2083 non-null   object \n",
      " 15  item_description         2083 non-null   object \n",
      " 16  pack                     2083 non-null   int64  \n",
      " 17  bottle_volume_ml         2083 non-null   int64  \n",
      " 18  state_bottle_cost        2083 non-null   float64\n",
      " 19  state_bottle_retail      2083 non-null   float64\n",
      " 20  bottles_sold             2083 non-null   int64  \n",
      " 21  sale_dollars             2083 non-null   float64\n",
      " 22  volume_sold_liters       2083 non-null   float64\n",
      " 23  volume_sold_gallons      2083 non-null   float64\n",
      "dtypes: float64(5), int64(3), object(16)\n",
      "memory usage: 406.8+ KB\n"
     ]
    }
   ],
   "source": [
    "df.info()"
   ]
  },
  {
   "cell_type": "markdown",
   "metadata": {},
   "source": [
    "**invoice_and_item_number**"
   ]
  },
  {
   "cell_type": "code",
   "execution_count": 20,
   "metadata": {},
   "outputs": [
    {
     "data": {
      "text/plain": [
       "1303    INV-08353800080\n",
       "1409    INV-23258300048\n",
       "1209       S08602300062\n",
       "913     INV-31461900003\n",
       "1808       S17472300131\n",
       "1196    INV-02689600037\n",
       "1760       S14511200080\n",
       "1740       S08384900092\n",
       "1380    INV-14782400033\n",
       "2058       S11314200021\n",
       "721        S23139400022\n",
       "1351       S28801200034\n",
       "1118       S09538900001\n",
       "412        S25651200026\n",
       "2202       S20468400080\n",
       "1615    INV-30728700011\n",
       "429        S22467500001\n",
       "428        S17436300040\n",
       "155        S16002000001\n",
       "145        S08253500072\n",
       "Name: invoice_and_item_number, dtype: object"
      ]
     },
     "execution_count": 20,
     "metadata": {},
     "output_type": "execute_result"
    }
   ],
   "source": [
    "df['invoice_and_item_number'].sample(20)"
   ]
  },
  {
   "cell_type": "code",
   "execution_count": 21,
   "metadata": {},
   "outputs": [
    {
     "data": {
      "text/plain": [
       "2083"
      ]
     },
     "execution_count": 21,
     "metadata": {},
     "output_type": "execute_result"
    }
   ],
   "source": [
    "df['invoice_and_item_number'].nunique()"
   ]
  },
  {
   "cell_type": "markdown",
   "metadata": {},
   "source": [
    "We won't be getting much from this attribute."
   ]
  },
  {
   "cell_type": "markdown",
   "metadata": {},
   "source": [
    "**date**"
   ]
  },
  {
   "cell_type": "code",
   "execution_count": 22,
   "metadata": {},
   "outputs": [
    {
     "data": {
      "text/plain": [
       "0       2016-08-29\n",
       "1       2012-09-05\n",
       "2       2019-11-04\n",
       "3       2015-12-03\n",
       "4       2012-11-29\n",
       "           ...    \n",
       "2395    2020-11-25\n",
       "2396    2020-11-20\n",
       "2398    2020-11-23\n",
       "2399    2020-11-25\n",
       "2400    2020-11-23\n",
       "Name: date, Length: 2083, dtype: object"
      ]
     },
     "execution_count": 22,
     "metadata": {},
     "output_type": "execute_result"
    }
   ],
   "source": [
    "df['date']"
   ]
  },
  {
   "cell_type": "markdown",
   "metadata": {},
   "source": [
    "We will extract year, month, day, and dayofweek from this attribute."
   ]
  },
  {
   "cell_type": "code",
   "execution_count": 23,
   "metadata": {},
   "outputs": [],
   "source": [
    "df['date'] = pd.to_datetime(df['date'])"
   ]
  },
  {
   "cell_type": "code",
   "execution_count": 24,
   "metadata": {},
   "outputs": [
    {
     "data": {
      "text/plain": [
       "0      2016-08-29\n",
       "1      2012-09-05\n",
       "2      2019-11-04\n",
       "3      2015-12-03\n",
       "4      2012-11-29\n",
       "          ...    \n",
       "2395   2020-11-25\n",
       "2396   2020-11-20\n",
       "2398   2020-11-23\n",
       "2399   2020-11-25\n",
       "2400   2020-11-23\n",
       "Name: date, Length: 2083, dtype: datetime64[ns]"
      ]
     },
     "execution_count": 24,
     "metadata": {},
     "output_type": "execute_result"
    }
   ],
   "source": [
    "df['date']"
   ]
  },
  {
   "cell_type": "code",
   "execution_count": 25,
   "metadata": {},
   "outputs": [],
   "source": [
    "df['year'] = df['date'].apply(lambda x: x.year)\n",
    "df['month'] = df['date'].apply(lambda x: x.month)\n",
    "df['day'] = df['date'].apply(lambda x: x.day)\n",
    "df['day_of_week'] = df['date'].apply(lambda x: x.dayofweek)"
   ]
  },
  {
   "cell_type": "code",
   "execution_count": 26,
   "metadata": {},
   "outputs": [
    {
     "data": {
      "text/html": [
       "<div>\n",
       "<style scoped>\n",
       "    .dataframe tbody tr th:only-of-type {\n",
       "        vertical-align: middle;\n",
       "    }\n",
       "\n",
       "    .dataframe tbody tr th {\n",
       "        vertical-align: top;\n",
       "    }\n",
       "\n",
       "    .dataframe thead th {\n",
       "        text-align: right;\n",
       "    }\n",
       "</style>\n",
       "<table border=\"1\" class=\"dataframe\">\n",
       "  <thead>\n",
       "    <tr style=\"text-align: right;\">\n",
       "      <th></th>\n",
       "      <th>date</th>\n",
       "      <th>year</th>\n",
       "      <th>month</th>\n",
       "      <th>day</th>\n",
       "      <th>day_of_week</th>\n",
       "    </tr>\n",
       "  </thead>\n",
       "  <tbody>\n",
       "    <tr>\n",
       "      <th>0</th>\n",
       "      <td>2016-08-29</td>\n",
       "      <td>2016</td>\n",
       "      <td>8</td>\n",
       "      <td>29</td>\n",
       "      <td>0</td>\n",
       "    </tr>\n",
       "    <tr>\n",
       "      <th>1</th>\n",
       "      <td>2012-09-05</td>\n",
       "      <td>2012</td>\n",
       "      <td>9</td>\n",
       "      <td>5</td>\n",
       "      <td>2</td>\n",
       "    </tr>\n",
       "    <tr>\n",
       "      <th>2</th>\n",
       "      <td>2019-11-04</td>\n",
       "      <td>2019</td>\n",
       "      <td>11</td>\n",
       "      <td>4</td>\n",
       "      <td>0</td>\n",
       "    </tr>\n",
       "    <tr>\n",
       "      <th>3</th>\n",
       "      <td>2015-12-03</td>\n",
       "      <td>2015</td>\n",
       "      <td>12</td>\n",
       "      <td>3</td>\n",
       "      <td>3</td>\n",
       "    </tr>\n",
       "    <tr>\n",
       "      <th>4</th>\n",
       "      <td>2012-11-29</td>\n",
       "      <td>2012</td>\n",
       "      <td>11</td>\n",
       "      <td>29</td>\n",
       "      <td>3</td>\n",
       "    </tr>\n",
       "  </tbody>\n",
       "</table>\n",
       "</div>"
      ],
      "text/plain": [
       "        date  year  month  day  day_of_week\n",
       "0 2016-08-29  2016      8   29            0\n",
       "1 2012-09-05  2012      9    5            2\n",
       "2 2019-11-04  2019     11    4            0\n",
       "3 2015-12-03  2015     12    3            3\n",
       "4 2012-11-29  2012     11   29            3"
      ]
     },
     "execution_count": 26,
     "metadata": {},
     "output_type": "execute_result"
    }
   ],
   "source": [
    "df[['date', 'year', 'month', 'day', 'day_of_week']].head()"
   ]
  },
  {
   "cell_type": "markdown",
   "metadata": {},
   "source": [
    "Day of week:\\\n",
    "Monday=0\\\n",
    "Sunday=6"
   ]
  },
  {
   "cell_type": "code",
   "execution_count": 27,
   "metadata": {},
   "outputs": [
    {
     "data": {
      "image/png": "[encoded data removed]",
      "text/plain": [
       "<Figure size 432x288 with 1 Axes>"
      ]
     },
     "metadata": {},
     "output_type": "display_data"
    }
   ],
   "source": [
    "sns.countplot(x='year', data=df, palette='viridis')\n",
    "plt.title('Year Sales');"
   ]
  },
  {
   "cell_type": "code",
   "execution_count": 28,
   "metadata": {},
   "outputs": [
    {
     "data": {
      "image/png": "[encoded data removed]",
      "text/plain": [
       "<Figure size 432x288 with 1 Axes>"
      ]
     },
     "metadata": {},
     "output_type": "display_data"
    }
   ],
   "source": [
    "sns.countplot(x='month', data=df, palette='viridis')\n",
    "plt.title('Month Sales');"
   ]
  },
  {
   "cell_type": "markdown",
   "metadata": {},
   "source": [
    "Mostly in the middle of summer in the US (August) and near winter."
   ]
  },
  {
   "cell_type": "code",
   "execution_count": 29,
   "metadata": {},
   "outputs": [
    {
     "data": {
      "image/png": "[encoded data removed]",
      "text/plain": [
       "<Figure size 360x360 with 1 Axes>"
      ]
     },
     "metadata": {},
     "output_type": "display_data"
    }
   ],
   "source": [
    "sns.displot(x='day', data=df, kde=True)\n",
    "plt.title('Day Distributions Sales');"
   ]
  },
  {
   "cell_type": "code",
   "execution_count": 30,
   "metadata": {},
   "outputs": [
    {
     "data": {
      "image/png": "[encoded data removed]",
      "text/plain": [
       "<Figure size 432x288 with 1 Axes>"
      ]
     },
     "metadata": {},
     "output_type": "display_data"
    }
   ],
   "source": [
    "sns.countplot(x='day_of_week', data=df)\n",
    "plt.title('Day of Week Sales');"
   ]
  },
  {
   "cell_type": "markdown",
   "metadata": {},
   "source": [
    "Looks like there are no Sundays in our dataset."
   ]
  },
  {
   "cell_type": "code",
   "execution_count": 31,
   "metadata": {},
   "outputs": [
    {
     "name": "stdout",
     "output_type": "stream",
     "text": [
      "<class 'pandas.core.frame.DataFrame'>\n",
      "Int64Index: 2083 entries, 0 to 2400\n",
      "Data columns (total 28 columns):\n",
      " #   Column                   Non-Null Count  Dtype         \n",
      "---  ------                   --------------  -----         \n",
      " 0   invoice_and_item_number  2083 non-null   object        \n",
      " 1   date                     2083 non-null   datetime64[ns]\n",
      " 2   store_number             2083 non-null   object        \n",
      " 3   store_name               2083 non-null   object        \n",
      " 4   address                  2083 non-null   object        \n",
      " 5   city                     2083 non-null   object        \n",
      " 6   zip_code                 2083 non-null   object        \n",
      " 7   store_location           2083 non-null   object        \n",
      " 8   county_number            2083 non-null   object        \n",
      " 9   county                   2083 non-null   object        \n",
      " 10  category                 2083 non-null   object        \n",
      " 11  category_name            2083 non-null   object        \n",
      " 12  vendor_number            2083 non-null   object        \n",
      " 13  vendor_name              2083 non-null   object        \n",
      " 14  item_number              2083 non-null   object        \n",
      " 15  item_description         2083 non-null   object        \n",
      " 16  pack                     2083 non-null   int64         \n",
      " 17  bottle_volume_ml         2083 non-null   int64         \n",
      " 18  state_bottle_cost        2083 non-null   float64       \n",
      " 19  state_bottle_retail      2083 non-null   float64       \n",
      " 20  bottles_sold             2083 non-null   int64         \n",
      " 21  sale_dollars             2083 non-null   float64       \n",
      " 22  volume_sold_liters       2083 non-null   float64       \n",
      " 23  volume_sold_gallons      2083 non-null   float64       \n",
      " 24  year                     2083 non-null   int64         \n",
      " 25  month                    2083 non-null   int64         \n",
      " 26  day                      2083 non-null   int64         \n",
      " 27  day_of_week              2083 non-null   int64         \n",
      "dtypes: datetime64[ns](1), float64(5), int64(7), object(15)\n",
      "memory usage: 536.5+ KB\n"
     ]
    }
   ],
   "source": [
    "df.info()"
   ]
  },
  {
   "cell_type": "markdown",
   "metadata": {},
   "source": [
    "**store_name**"
   ]
  },
  {
   "cell_type": "code",
   "execution_count": 32,
   "metadata": {},
   "outputs": [
    {
     "data": {
      "text/plain": [
       "0          Giggle Juice Liquor Station, LLC\n",
       "1           Fareway Stores #625 / Oskaloosa\n",
       "2       Hy-Vee Food Store #1 / Cedar Rapids\n",
       "3                        Hy-Vee / Urbandale\n",
       "4                     Hy-Vee #5 / Davenport\n",
       "                       ...                 \n",
       "2395             Hy-Vee Food Store / Keokuk\n",
       "2396     Hy-Vee Wine and Spirits / Humboldt\n",
       "2398         Super Saver Liquor / Davenport\n",
       "2399                         John's Grocery\n",
       "2400         Hy-Vee Food Store / Coralville\n",
       "Name: store_name, Length: 2083, dtype: object"
      ]
     },
     "execution_count": 32,
     "metadata": {},
     "output_type": "execute_result"
    }
   ],
   "source": [
    "df['store_name']"
   ]
  },
  {
   "cell_type": "code",
   "execution_count": 33,
   "metadata": {},
   "outputs": [
    {
     "data": {
      "text/plain": [
       "599"
      ]
     },
     "execution_count": 33,
     "metadata": {},
     "output_type": "execute_result"
    }
   ],
   "source": [
    "df['store_name'].nunique()"
   ]
  },
  {
   "cell_type": "code",
   "execution_count": 34,
   "metadata": {},
   "outputs": [
    {
     "data": {
      "text/plain": [
       "Central City 2                    74\n",
       "Hy-Vee #3 / BDI / Des Moines      65\n",
       "Sam's Club 8162 / Cedar Rapids    50\n",
       "Benz Distributing                 41\n",
       "Wilkie Liquors                    39\n",
       "Name: store_name, dtype: int64"
      ]
     },
     "execution_count": 34,
     "metadata": {},
     "output_type": "execute_result"
    }
   ],
   "source": [
    "df['store_name'].value_counts().head()"
   ]
  },
  {
   "cell_type": "markdown",
   "metadata": {},
   "source": [
    "**address**"
   ]
  },
  {
   "cell_type": "code",
   "execution_count": 35,
   "metadata": {},
   "outputs": [
    {
     "data": {
      "text/plain": [
       "887          2715 South 25th St\n",
       "1094         3500 INGERSOLL AVE\n",
       "150               303 N CODY RD\n",
       "832                201 W 1st ST\n",
       "481            4605 Fleur Drive\n",
       "1764             501 7th Ave SE\n",
       "1747    2605 BLAIRS FERRY RD NE\n",
       "1988                 327 5TH ST\n",
       "1085            1200 5th Ave NE\n",
       "2012                735 MAIN ST\n",
       "110              640 Lincolnway\n",
       "1010          900 EAST MAIN ST.\n",
       "782               700  29 ST SW\n",
       "1676           5050 EDGEWOOD RD\n",
       "1206              724  1ST ST E\n",
       "656          1720 Waterfront Dr\n",
       "1888              1122 BROADWAY\n",
       "1071           5050 EDGEWOOD RD\n",
       "1468               1031 West St\n",
       "1006      20 WILSON AVENUE WEST\n",
       "Name: address, dtype: object"
      ]
     },
     "execution_count": 35,
     "metadata": {},
     "output_type": "execute_result"
    }
   ],
   "source": [
    "df['address'].sample(20)"
   ]
  },
  {
   "cell_type": "code",
   "execution_count": 36,
   "metadata": {},
   "outputs": [
    {
     "data": {
      "text/plain": [
       "751"
      ]
     },
     "execution_count": 36,
     "metadata": {},
     "output_type": "execute_result"
    }
   ],
   "source": [
    "df['address'].nunique()"
   ]
  },
  {
   "cell_type": "code",
   "execution_count": 37,
   "metadata": {},
   "outputs": [
    {
     "name": "stdout",
     "output_type": "stream",
     "text": [
      "<class 'pandas.core.frame.DataFrame'>\n",
      "Int64Index: 2083 entries, 0 to 2400\n",
      "Data columns (total 28 columns):\n",
      " #   Column                   Non-Null Count  Dtype         \n",
      "---  ------                   --------------  -----         \n",
      " 0   invoice_and_item_number  2083 non-null   object        \n",
      " 1   date                     2083 non-null   datetime64[ns]\n",
      " 2   store_number             2083 non-null   object        \n",
      " 3   store_name               2083 non-null   object        \n",
      " 4   address                  2083 non-null   object        \n",
      " 5   city                     2083 non-null   object        \n",
      " 6   zip_code                 2083 non-null   object        \n",
      " 7   store_location           2083 non-null   object        \n",
      " 8   county_number            2083 non-null   object        \n",
      " 9   county                   2083 non-null   object        \n",
      " 10  category                 2083 non-null   object        \n",
      " 11  category_name            2083 non-null   object        \n",
      " 12  vendor_number            2083 non-null   object        \n",
      " 13  vendor_name              2083 non-null   object        \n",
      " 14  item_number              2083 non-null   object        \n",
      " 15  item_description         2083 non-null   object        \n",
      " 16  pack                     2083 non-null   int64         \n",
      " 17  bottle_volume_ml         2083 non-null   int64         \n",
      " 18  state_bottle_cost        2083 non-null   float64       \n",
      " 19  state_bottle_retail      2083 non-null   float64       \n",
      " 20  bottles_sold             2083 non-null   int64         \n",
      " 21  sale_dollars             2083 non-null   float64       \n",
      " 22  volume_sold_liters       2083 non-null   float64       \n",
      " 23  volume_sold_gallons      2083 non-null   float64       \n",
      " 24  year                     2083 non-null   int64         \n",
      " 25  month                    2083 non-null   int64         \n",
      " 26  day                      2083 non-null   int64         \n",
      " 27  day_of_week              2083 non-null   int64         \n",
      "dtypes: datetime64[ns](1), float64(5), int64(7), object(15)\n",
      "memory usage: 536.5+ KB\n"
     ]
    }
   ],
   "source": [
    "df.info()"
   ]
  },
  {
   "cell_type": "markdown",
   "metadata": {},
   "source": [
    "**city**"
   ]
  },
  {
   "cell_type": "code",
   "execution_count": 38,
   "metadata": {},
   "outputs": [
    {
     "data": {
      "text/plain": [
       "0               Anamosa\n",
       "2224          MUSCATINE\n",
       "235        Cedar Rapids\n",
       "493             Spencer\n",
       "1971         WEST POINT\n",
       "266            WATERLOO\n",
       "186            Johnston\n",
       "2359     Council Bluffs\n",
       "2065            MORAVIA\n",
       "1679           WATERLOO\n",
       "1723       CEDAR RAPIDS\n",
       "1040         DES MOINES\n",
       "69          Cedar Falls\n",
       "169               Pella\n",
       "2120    Windsor Heights\n",
       "1244               AMES\n",
       "2325         Mason City\n",
       "1997         DES MOINES\n",
       "2208               AMES\n",
       "1343     COUNCIL BLUFFS\n",
       "Name: city, dtype: object"
      ]
     },
     "execution_count": 38,
     "metadata": {},
     "output_type": "execute_result"
    }
   ],
   "source": [
    "df['city'].sample(20)"
   ]
  },
  {
   "cell_type": "code",
   "execution_count": 39,
   "metadata": {},
   "outputs": [
    {
     "data": {
      "text/plain": [
       "321"
      ]
     },
     "execution_count": 39,
     "metadata": {},
     "output_type": "execute_result"
    }
   ],
   "source": [
    "df['city'].nunique()"
   ]
  },
  {
   "cell_type": "code",
   "execution_count": 40,
   "metadata": {},
   "outputs": [
    {
     "data": {
      "text/plain": [
       "DES MOINES        146\n",
       "Des Moines        109\n",
       "Cedar Rapids       95\n",
       "CEDAR RAPIDS       76\n",
       "Council Bluffs     47\n",
       "Name: city, dtype: int64"
      ]
     },
     "execution_count": 40,
     "metadata": {},
     "output_type": "execute_result"
    }
   ],
   "source": [
    "df['city'].value_counts().head()"
   ]
  },
  {
   "cell_type": "markdown",
   "metadata": {},
   "source": [
    "For some reason, each value has an all-capitalized duplicate. We can solve this by change all values into lowercase."
   ]
  },
  {
   "cell_type": "code",
   "execution_count": 41,
   "metadata": {},
   "outputs": [],
   "source": [
    "df['city'] = df['city'].str.lower()"
   ]
  },
  {
   "cell_type": "code",
   "execution_count": 42,
   "metadata": {},
   "outputs": [
    {
     "data": {
      "text/plain": [
       "des moines         255\n",
       "cedar rapids       171\n",
       "council bluffs      86\n",
       "ames                81\n",
       "west des moines     76\n",
       "Name: city, dtype: int64"
      ]
     },
     "execution_count": 42,
     "metadata": {},
     "output_type": "execute_result"
    }
   ],
   "source": [
    "df['city'].value_counts().head()"
   ]
  },
  {
   "cell_type": "code",
   "execution_count": 43,
   "metadata": {},
   "outputs": [
    {
     "data": {
      "text/plain": [
       "204"
      ]
     },
     "execution_count": 43,
     "metadata": {},
     "output_type": "execute_result"
    }
   ],
   "source": [
    "df['city'].nunique()"
   ]
  },
  {
   "cell_type": "markdown",
   "metadata": {},
   "source": [
    "**zip_code**"
   ]
  },
  {
   "cell_type": "code",
   "execution_count": 44,
   "metadata": {},
   "outputs": [
    {
     "data": {
      "text/plain": [
       "1482    52411\n",
       "2378    52742\n",
       "241     52241\n",
       "565     50702\n",
       "296     52401\n",
       "1989    50320\n",
       "340     50010\n",
       "1024    50613\n",
       "1257    51401\n",
       "1422    50501\n",
       "1894    50588\n",
       "1419    50317\n",
       "1827    51301\n",
       "2009    51501\n",
       "961     51106\n",
       "1837    50583\n",
       "505     50701\n",
       "837     51040\n",
       "1143    52402\n",
       "2224    52761\n",
       "Name: zip_code, dtype: object"
      ]
     },
     "execution_count": 44,
     "metadata": {},
     "output_type": "execute_result"
    }
   ],
   "source": [
    "df['zip_code'].sample(20)"
   ]
  },
  {
   "cell_type": "code",
   "execution_count": 45,
   "metadata": {},
   "outputs": [
    {
     "data": {
      "text/plain": [
       "234"
      ]
     },
     "execution_count": 45,
     "metadata": {},
     "output_type": "execute_result"
    }
   ],
   "source": [
    "df['zip_code'].nunique()"
   ]
  },
  {
   "cell_type": "markdown",
   "metadata": {},
   "source": [
    "**store_location**"
   ]
  },
  {
   "cell_type": "code",
   "execution_count": 46,
   "metadata": {},
   "outputs": [
    {
     "data": {
      "text/plain": [
       "2216            POINT (-93.596754 41.554101)\n",
       "402             POINT (-93.854477 41.615059)\n",
       "234             POINT (-91.701581 42.030129)\n",
       "427             POINT (-93.869892 42.035093)\n",
       "353     POINT (-93.24163400000002 41.222471)\n",
       "1957            POINT (-90.527081 41.559731)\n",
       "1165            POINT (-93.718027 41.599172)\n",
       "684             POINT (-93.739105 41.629364)\n",
       "85              POINT (-91.136655 40.814666)\n",
       "563             POINT (-93.806489 41.561342)\n",
       "528     POINT (-94.15824700000002 42.504742)\n",
       "121             POINT (-93.519187 41.598109)\n",
       "946             POINT (-93.664182 41.586319)\n",
       "631             POINT (-91.555044 41.486572)\n",
       "1405             POINT (-91.60761 41.738129)\n",
       "720              POINT (-91.60761 41.738129)\n",
       "601             POINT (-93.035654 41.699173)\n",
       "301              POINT (-93.613739 41.60572)\n",
       "931             POINT (-91.608385 41.741097)\n",
       "590             POINT (-91.528105 42.207428)\n",
       "Name: store_location, dtype: object"
      ]
     },
     "execution_count": 46,
     "metadata": {},
     "output_type": "execute_result"
    }
   ],
   "source": [
    "df['store_location'].sample(20)"
   ]
  },
  {
   "cell_type": "markdown",
   "metadata": {},
   "source": [
    "Format: POINT (Longitude, Latitude)"
   ]
  },
  {
   "cell_type": "code",
   "execution_count": 47,
   "metadata": {},
   "outputs": [
    {
     "name": "stdout",
     "output_type": "stream",
     "text": [
      "<class 'pandas.core.frame.DataFrame'>\n",
      "Int64Index: 2083 entries, 0 to 2400\n",
      "Data columns (total 28 columns):\n",
      " #   Column                   Non-Null Count  Dtype         \n",
      "---  ------                   --------------  -----         \n",
      " 0   invoice_and_item_number  2083 non-null   object        \n",
      " 1   date                     2083 non-null   datetime64[ns]\n",
      " 2   store_number             2083 non-null   object        \n",
      " 3   store_name               2083 non-null   object        \n",
      " 4   address                  2083 non-null   object        \n",
      " 5   city                     2083 non-null   object        \n",
      " 6   zip_code                 2083 non-null   object        \n",
      " 7   store_location           2083 non-null   object        \n",
      " 8   county_number            2083 non-null   object        \n",
      " 9   county                   2083 non-null   object        \n",
      " 10  category                 2083 non-null   object        \n",
      " 11  category_name            2083 non-null   object        \n",
      " 12  vendor_number            2083 non-null   object        \n",
      " 13  vendor_name              2083 non-null   object        \n",
      " 14  item_number              2083 non-null   object        \n",
      " 15  item_description         2083 non-null   object        \n",
      " 16  pack                     2083 non-null   int64         \n",
      " 17  bottle_volume_ml         2083 non-null   int64         \n",
      " 18  state_bottle_cost        2083 non-null   float64       \n",
      " 19  state_bottle_retail      2083 non-null   float64       \n",
      " 20  bottles_sold             2083 non-null   int64         \n",
      " 21  sale_dollars             2083 non-null   float64       \n",
      " 22  volume_sold_liters       2083 non-null   float64       \n",
      " 23  volume_sold_gallons      2083 non-null   float64       \n",
      " 24  year                     2083 non-null   int64         \n",
      " 25  month                    2083 non-null   int64         \n",
      " 26  day                      2083 non-null   int64         \n",
      " 27  day_of_week              2083 non-null   int64         \n",
      "dtypes: datetime64[ns](1), float64(5), int64(7), object(15)\n",
      "memory usage: 536.5+ KB\n"
     ]
    }
   ],
   "source": [
    "df.info()"
   ]
  },
  {
   "cell_type": "markdown",
   "metadata": {},
   "source": [
    "**county**"
   ]
  },
  {
   "cell_type": "code",
   "execution_count": 48,
   "metadata": {},
   "outputs": [
    {
     "data": {
      "text/plain": [
       "1928     Appanoose\n",
       "415     BLACK HAWK\n",
       "1813       Dubuque\n",
       "641           POLK\n",
       "2269       Dubuque\n",
       "920     Black Hawk\n",
       "1118       Wapello\n",
       "1208          Polk\n",
       "2257    BLACK HAWK\n",
       "2060           Ida\n",
       "1439         SIOUX\n",
       "1483       AUDUBON\n",
       "2259          Polk\n",
       "720        Johnson\n",
       "2171      Woodbury\n",
       "671           LINN\n",
       "1038        Benton\n",
       "1909      Buchanan\n",
       "1028         Story\n",
       "571           Polk\n",
       "Name: county, dtype: object"
      ]
     },
     "execution_count": 48,
     "metadata": {},
     "output_type": "execute_result"
    }
   ],
   "source": [
    "df['county'].sample(20)"
   ]
  },
  {
   "cell_type": "code",
   "execution_count": 49,
   "metadata": {},
   "outputs": [
    {
     "data": {
      "text/plain": [
       "162"
      ]
     },
     "execution_count": 49,
     "metadata": {},
     "output_type": "execute_result"
    }
   ],
   "source": [
    "df['county'].nunique()"
   ]
  },
  {
   "cell_type": "code",
   "execution_count": 50,
   "metadata": {},
   "outputs": [
    {
     "data": {
      "text/plain": [
       "Polk     244\n",
       "POLK     170\n",
       "LINN     118\n",
       "Linn      98\n",
       "Scott     77\n",
       "Name: county, dtype: int64"
      ]
     },
     "execution_count": 50,
     "metadata": {},
     "output_type": "execute_result"
    }
   ],
   "source": [
    "df['county'].value_counts().head()"
   ]
  },
  {
   "cell_type": "markdown",
   "metadata": {},
   "source": [
    "Same as the previous problem, each value has an all-capitalized duplicate. We can solve this by change all values into lowercase."
   ]
  },
  {
   "cell_type": "code",
   "execution_count": 51,
   "metadata": {},
   "outputs": [],
   "source": [
    "df['county'] = df['county'].str.lower()"
   ]
  },
  {
   "cell_type": "code",
   "execution_count": 52,
   "metadata": {},
   "outputs": [
    {
     "data": {
      "text/plain": [
       "polk          414\n",
       "linn          216\n",
       "johnson       145\n",
       "scott         125\n",
       "black hawk    105\n",
       "Name: county, dtype: int64"
      ]
     },
     "execution_count": 52,
     "metadata": {},
     "output_type": "execute_result"
    }
   ],
   "source": [
    "df['county'].value_counts().head()"
   ]
  },
  {
   "cell_type": "code",
   "execution_count": 53,
   "metadata": {},
   "outputs": [
    {
     "data": {
      "text/plain": [
       "94"
      ]
     },
     "execution_count": 53,
     "metadata": {},
     "output_type": "execute_result"
    }
   ],
   "source": [
    "df['county'].nunique()"
   ]
  },
  {
   "cell_type": "code",
   "execution_count": 54,
   "metadata": {},
   "outputs": [
    {
     "name": "stdout",
     "output_type": "stream",
     "text": [
      "<class 'pandas.core.frame.DataFrame'>\n",
      "Int64Index: 2083 entries, 0 to 2400\n",
      "Data columns (total 28 columns):\n",
      " #   Column                   Non-Null Count  Dtype         \n",
      "---  ------                   --------------  -----         \n",
      " 0   invoice_and_item_number  2083 non-null   object        \n",
      " 1   date                     2083 non-null   datetime64[ns]\n",
      " 2   store_number             2083 non-null   object        \n",
      " 3   store_name               2083 non-null   object        \n",
      " 4   address                  2083 non-null   object        \n",
      " 5   city                     2083 non-null   object        \n",
      " 6   zip_code                 2083 non-null   object        \n",
      " 7   store_location           2083 non-null   object        \n",
      " 8   county_number            2083 non-null   object        \n",
      " 9   county                   2083 non-null   object        \n",
      " 10  category                 2083 non-null   object        \n",
      " 11  category_name            2083 non-null   object        \n",
      " 12  vendor_number            2083 non-null   object        \n",
      " 13  vendor_name              2083 non-null   object        \n",
      " 14  item_number              2083 non-null   object        \n",
      " 15  item_description         2083 non-null   object        \n",
      " 16  pack                     2083 non-null   int64         \n",
      " 17  bottle_volume_ml         2083 non-null   int64         \n",
      " 18  state_bottle_cost        2083 non-null   float64       \n",
      " 19  state_bottle_retail      2083 non-null   float64       \n",
      " 20  bottles_sold             2083 non-null   int64         \n",
      " 21  sale_dollars             2083 non-null   float64       \n",
      " 22  volume_sold_liters       2083 non-null   float64       \n",
      " 23  volume_sold_gallons      2083 non-null   float64       \n",
      " 24  year                     2083 non-null   int64         \n",
      " 25  month                    2083 non-null   int64         \n",
      " 26  day                      2083 non-null   int64         \n",
      " 27  day_of_week              2083 non-null   int64         \n",
      "dtypes: datetime64[ns](1), float64(5), int64(7), object(15)\n",
      "memory usage: 536.5+ KB\n"
     ]
    }
   ],
   "source": [
    "df.info()"
   ]
  },
  {
   "cell_type": "markdown",
   "metadata": {},
   "source": [
    "**category_name**"
   ]
  },
  {
   "cell_type": "code",
   "execution_count": 55,
   "metadata": {},
   "outputs": [
    {
     "data": {
      "text/plain": [
       "1119                  Straight Rye Whiskies\n",
       "1223                  STRAIGHT RYE WHISKIES\n",
       "693                   Straight Rye Whiskies\n",
       "807          DECANTERS & SPECIALTY PACKAGES\n",
       "2112                     ROOT BEER SCHNAPPS\n",
       "1696                        Coffee Liqueurs\n",
       "1624                        COFFEE LIQUEURS\n",
       "1493                               Gold Rum\n",
       "1788    Imported Distilled Spirit Specialty\n",
       "247                          IRISH WHISKIES\n",
       "836                 TROPICAL FRUIT SCHNAPPS\n",
       "1360                        100 PROOF VODKA\n",
       "1682                        COFFEE LIQUEURS\n",
       "2313                             Triple Sec\n",
       "2026                         PEACH SCHNAPPS\n",
       "640                     Special Order Items\n",
       "650          DECANTERS & SPECIALTY PACKAGES\n",
       "1219                  STRAIGHT RYE WHISKIES\n",
       "138                   STRAIGHT RYE WHISKIES\n",
       "264         Temporary &  Specialty Packages\n",
       "Name: category_name, dtype: object"
      ]
     },
     "execution_count": 55,
     "metadata": {},
     "output_type": "execute_result"
    }
   ],
   "source": [
    "df['category_name'].sample(20)"
   ]
  },
  {
   "cell_type": "code",
   "execution_count": 56,
   "metadata": {},
   "outputs": [
    {
     "data": {
      "text/plain": [
       "61"
      ]
     },
     "execution_count": 56,
     "metadata": {},
     "output_type": "execute_result"
    }
   ],
   "source": [
    "df['category_name'].nunique()"
   ]
  },
  {
   "cell_type": "code",
   "execution_count": 57,
   "metadata": {},
   "outputs": [
    {
     "data": {
      "text/plain": [
       "DECANTERS & SPECIALTY PACKAGES    215\n",
       "Triple Sec                        136\n",
       "STRAIGHT RYE WHISKIES             124\n",
       "Coffee Liqueurs                   121\n",
       "Gold Rum                          105\n",
       "                                 ... \n",
       "Iowa Distillery Whiskies            1\n",
       "Delisted Items                      1\n",
       "CORN WHISKIES                       1\n",
       "Holiday VAP                         1\n",
       "GREEN CREME DE MENTHE               1\n",
       "Name: category_name, Length: 61, dtype: int64"
      ]
     },
     "execution_count": 57,
     "metadata": {},
     "output_type": "execute_result"
    }
   ],
   "source": [
    "df['category_name'].value_counts()"
   ]
  },
  {
   "cell_type": "markdown",
   "metadata": {},
   "source": [
    "**vendor_name**"
   ]
  },
  {
   "cell_type": "code",
   "execution_count": 58,
   "metadata": {},
   "outputs": [
    {
     "data": {
      "text/plain": [
       "608             Brown-Forman Corporation\n",
       "1315                      Luxco-St Louis\n",
       "1618    Pernod Ricard USA/Austin Nichols\n",
       "1368                           LUXCO INC\n",
       "1329                      Luxco-St Louis\n",
       "265                      Jim Beam Brands\n",
       "1652                   PERNOD RICARD USA\n",
       "1115                    Infinium Spirits\n",
       "422                      BACARDI USA INC\n",
       "597                      Jim Beam Brands\n",
       "1997                     Jim Beam Brands\n",
       "1283                    Infinium Spirits\n",
       "50                  SAZERAC COMPANY  INC\n",
       "2023                     Jim Beam Brands\n",
       "1144                    Infinium Spirits\n",
       "386             William Grant & Sons Inc\n",
       "1533                   PERNOD RICARD USA\n",
       "2387                    Infinium Spirits\n",
       "205                 FIFTH GENERATION INC\n",
       "210     Pernod Ricard USA/Austin Nichols\n",
       "Name: vendor_name, dtype: object"
      ]
     },
     "execution_count": 58,
     "metadata": {},
     "output_type": "execute_result"
    }
   ],
   "source": [
    "df['vendor_name'].sample(20)"
   ]
  },
  {
   "cell_type": "code",
   "execution_count": 59,
   "metadata": {},
   "outputs": [
    {
     "data": {
      "text/plain": [
       "95"
      ]
     },
     "execution_count": 59,
     "metadata": {},
     "output_type": "execute_result"
    }
   ],
   "source": [
    "df['vendor_name'].nunique()"
   ]
  },
  {
   "cell_type": "code",
   "execution_count": 60,
   "metadata": {},
   "outputs": [
    {
     "data": {
      "text/plain": [
       "Jim Beam Brands                     318\n",
       "Luxco-St Louis                      236\n",
       "LUXCO INC                           231\n",
       "Pernod Ricard USA/Austin Nichols    167\n",
       "PERNOD RICARD USA                   146\n",
       "Wilson Daniels Ltd.                 112\n",
       "Infinium Spirits                     81\n",
       "BACARDI USA INC                      76\n",
       "SAZERAC COMPANY  INC                 73\n",
       "Diageo Americas                      59\n",
       "DIAGEO AMERICAS                      45\n",
       "Sazerac Co., Inc.                    41\n",
       "Moet Hennessy USA, Inc.              40\n",
       "Heaven Hill Brands                   35\n",
       "Sazerac North America                32\n",
       "SAZERAC NORTH AMERICA                29\n",
       "Mccormick Distilling Company         29\n",
       "OLE SMOKY DISTILLERY LLC             26\n",
       "MHW Ltd                              18\n",
       "Mhw LTD                              15\n",
       "MOET HENNESSY USA                    13\n",
       "Constellation Wine Company, Inc.     12\n",
       "Phillips Beverage Company            12\n",
       "McCormick Distilling Co.             10\n",
       "Brown-Forman Corporation             10\n",
       "CEDAR RIDGE VINEYARDS LL             10\n",
       "Sidney Frank Importing Co.           10\n",
       "William Grant & Sons Inc              9\n",
       "Laird & Company                       8\n",
       "MISSISSIPPI RIVER DISTIL              8\n",
       "Name: vendor_name, dtype: int64"
      ]
     },
     "execution_count": 60,
     "metadata": {},
     "output_type": "execute_result"
    }
   ],
   "source": [
    "df['vendor_name'].value_counts().head(30)"
   ]
  },
  {
   "cell_type": "code",
   "execution_count": 61,
   "metadata": {},
   "outputs": [],
   "source": [
    "df['vendor_name'] = df['vendor_name'].str.lower()"
   ]
  },
  {
   "cell_type": "code",
   "execution_count": 62,
   "metadata": {},
   "outputs": [
    {
     "data": {
      "text/plain": [
       "jim beam brands                     318\n",
       "luxco-st louis                      236\n",
       "luxco inc                           231\n",
       "pernod ricard usa/austin nichols    167\n",
       "pernod ricard usa                   146\n",
       "wilson daniels ltd.                 112\n",
       "diageo americas                     104\n",
       "infinium spirits                     81\n",
       "bacardi usa inc                      76\n",
       "sazerac company  inc                 73\n",
       "sazerac north america                61\n",
       "sazerac co., inc.                    41\n",
       "moet hennessy usa, inc.              40\n",
       "heaven hill brands                   35\n",
       "mhw ltd                              33\n",
       "mccormick distilling company         29\n",
       "ole smoky distillery llc             26\n",
       "moet hennessy usa                    13\n",
       "phillips beverage company            12\n",
       "constellation wine company, inc.     12\n",
       "sidney frank importing co.           10\n",
       "mccormick distilling co.             10\n",
       "cedar ridge vineyards ll             10\n",
       "brown-forman corporation             10\n",
       "william grant & sons inc              9\n",
       "mississippi river distil              8\n",
       "laird & company                       8\n",
       "prestige wine and spirits group       7\n",
       "proximo                               7\n",
       "phillips beverage                     7\n",
       "Name: vendor_name, dtype: int64"
      ]
     },
     "execution_count": 62,
     "metadata": {},
     "output_type": "execute_result"
    }
   ],
   "source": [
    "df['vendor_name'].value_counts().head(30)"
   ]
  },
  {
   "cell_type": "code",
   "execution_count": 63,
   "metadata": {},
   "outputs": [
    {
     "data": {
      "text/plain": [
       "89"
      ]
     },
     "execution_count": 63,
     "metadata": {},
     "output_type": "execute_result"
    }
   ],
   "source": [
    "df['vendor_name'].nunique()"
   ]
  },
  {
   "cell_type": "markdown",
   "metadata": {},
   "source": [
    "**item_description**"
   ]
  },
  {
   "cell_type": "code",
   "execution_count": 64,
   "metadata": {},
   "outputs": [
    {
     "data": {
      "text/plain": [
       "858     Evan Williams Peppermint Chocolate Egg Nog\n",
       "1166                                 Templeton Rye\n",
       "350                                  Hawkeye Vodka\n",
       "876                          Christian Bros Brandy\n",
       "70                      Saints N Sinners Apple Pie\n",
       "1921                            Dekuyper Hot Damn!\n",
       "2119                           Dekuyper Triple Sec\n",
       "996                                 Glenlivet 12YR\n",
       "171                                 Bulleit 95 Rye\n",
       "797                        Bushmills Irish Whiskey\n",
       "1322                     Hawkeye Vodka 80 Prf Mini\n",
       "1844                            Paramount Amaretto\n",
       "2265                             Juarez Triple Sec\n",
       "1710                               Juarez Gold Dss\n",
       "1316                     Hawkeye Vodka 80 Prf Mini\n",
       "1559                                 Kahlua Coffee\n",
       "1639                         Kahlua Coffee Liqueur\n",
       "2015                            Dekuyper Peachtree\n",
       "2138                           Dekuyper Triple Sec\n",
       "399               SOOH Jinro Chamisul Classic Soju\n",
       "Name: item_description, dtype: object"
      ]
     },
     "execution_count": 64,
     "metadata": {},
     "output_type": "execute_result"
    }
   ],
   "source": [
    "df['item_description'].sample(20)"
   ]
  },
  {
   "cell_type": "code",
   "execution_count": 65,
   "metadata": {},
   "outputs": [
    {
     "data": {
      "text/plain": [
       "399"
      ]
     },
     "execution_count": 65,
     "metadata": {},
     "output_type": "execute_result"
    }
   ],
   "source": [
    "df['item_description'].nunique()"
   ]
  },
  {
   "cell_type": "code",
   "execution_count": 66,
   "metadata": {},
   "outputs": [
    {
     "data": {
      "text/plain": [
       "Templeton Rye                                            112\n",
       "Juarez Triple Sec                                        103\n",
       "Jameson                                                   79\n",
       "Juarez Gold Dss                                           78\n",
       "Dekuyper Peachtree                                        59\n",
       "                                                        ... \n",
       "Dr McGillicuddy's Butterscotch                             1\n",
       "The Glenlivet                                              1\n",
       "Jose Cuervo Authentic Lime Margarita 4pk Cans              1\n",
       "Woodford Reserve Rye                                       1\n",
       "Cedar Ridge Private Cask Iowa Bourbon Selection 92prf      1\n",
       "Name: item_description, Length: 399, dtype: int64"
      ]
     },
     "execution_count": 66,
     "metadata": {},
     "output_type": "execute_result"
    }
   ],
   "source": [
    "df['item_description'].value_counts()"
   ]
  },
  {
   "cell_type": "code",
   "execution_count": 67,
   "metadata": {},
   "outputs": [
    {
     "name": "stdout",
     "output_type": "stream",
     "text": [
      "<class 'pandas.core.frame.DataFrame'>\n",
      "Int64Index: 2083 entries, 0 to 2400\n",
      "Data columns (total 28 columns):\n",
      " #   Column                   Non-Null Count  Dtype         \n",
      "---  ------                   --------------  -----         \n",
      " 0   invoice_and_item_number  2083 non-null   object        \n",
      " 1   date                     2083 non-null   datetime64[ns]\n",
      " 2   store_number             2083 non-null   object        \n",
      " 3   store_name               2083 non-null   object        \n",
      " 4   address                  2083 non-null   object        \n",
      " 5   city                     2083 non-null   object        \n",
      " 6   zip_code                 2083 non-null   object        \n",
      " 7   store_location           2083 non-null   object        \n",
      " 8   county_number            2083 non-null   object        \n",
      " 9   county                   2083 non-null   object        \n",
      " 10  category                 2083 non-null   object        \n",
      " 11  category_name            2083 non-null   object        \n",
      " 12  vendor_number            2083 non-null   object        \n",
      " 13  vendor_name              2083 non-null   object        \n",
      " 14  item_number              2083 non-null   object        \n",
      " 15  item_description         2083 non-null   object        \n",
      " 16  pack                     2083 non-null   int64         \n",
      " 17  bottle_volume_ml         2083 non-null   int64         \n",
      " 18  state_bottle_cost        2083 non-null   float64       \n",
      " 19  state_bottle_retail      2083 non-null   float64       \n",
      " 20  bottles_sold             2083 non-null   int64         \n",
      " 21  sale_dollars             2083 non-null   float64       \n",
      " 22  volume_sold_liters       2083 non-null   float64       \n",
      " 23  volume_sold_gallons      2083 non-null   float64       \n",
      " 24  year                     2083 non-null   int64         \n",
      " 25  month                    2083 non-null   int64         \n",
      " 26  day                      2083 non-null   int64         \n",
      " 27  day_of_week              2083 non-null   int64         \n",
      "dtypes: datetime64[ns](1), float64(5), int64(7), object(15)\n",
      "memory usage: 536.5+ KB\n"
     ]
    }
   ],
   "source": [
    "df.info()"
   ]
  },
  {
   "cell_type": "markdown",
   "metadata": {},
   "source": [
    "**pack**"
   ]
  },
  {
   "cell_type": "code",
   "execution_count": 68,
   "metadata": {},
   "outputs": [
    {
     "data": {
      "text/plain": [
       "1588    12\n",
       "597     12\n",
       "1978    12\n",
       "2000    12\n",
       "987     12\n",
       "1987    12\n",
       "1053    12\n",
       "2288    12\n",
       "2399     6\n",
       "346      6\n",
       "2214    12\n",
       "1806    12\n",
       "1080    12\n",
       "930     12\n",
       "795     12\n",
       "44      10\n",
       "952      6\n",
       "2377    12\n",
       "1259     6\n",
       "1704    12\n",
       "Name: pack, dtype: int64"
      ]
     },
     "execution_count": 68,
     "metadata": {},
     "output_type": "execute_result"
    }
   ],
   "source": [
    "df['pack'].sample(20)"
   ]
  },
  {
   "cell_type": "code",
   "execution_count": 69,
   "metadata": {},
   "outputs": [
    {
     "data": {
      "text/plain": [
       "13"
      ]
     },
     "execution_count": 69,
     "metadata": {},
     "output_type": "execute_result"
    }
   ],
   "source": [
    "df['pack'].nunique()"
   ]
  },
  {
   "cell_type": "code",
   "execution_count": 70,
   "metadata": {},
   "outputs": [
    {
     "data": {
      "text/plain": [
       "12    1290\n",
       "6      572\n",
       "24     109\n",
       "10      25\n",
       "8       24\n",
       "48      24\n",
       "3       14\n",
       "4       10\n",
       "20       7\n",
       "5        3\n",
       "30       2\n",
       "1        2\n",
       "15       1\n",
       "Name: pack, dtype: int64"
      ]
     },
     "execution_count": 70,
     "metadata": {},
     "output_type": "execute_result"
    }
   ],
   "source": [
    "df['pack'].value_counts()"
   ]
  },
  {
   "cell_type": "markdown",
   "metadata": {},
   "source": [
    "We will treat this attribute as object"
   ]
  },
  {
   "cell_type": "markdown",
   "metadata": {},
   "source": [
    "**bottle_volume_ml**"
   ]
  },
  {
   "cell_type": "code",
   "execution_count": 71,
   "metadata": {},
   "outputs": [
    {
     "data": {
      "text/plain": [
       "622     1000\n",
       "934     1000\n",
       "2301    1000\n",
       "1626    1000\n",
       "69        50\n",
       "952      850\n",
       "407      750\n",
       "584     1000\n",
       "272      100\n",
       "537      750\n",
       "1029    1000\n",
       "1342     750\n",
       "534      750\n",
       "26       750\n",
       "1623    1000\n",
       "634      200\n",
       "1510    1750\n",
       "1231     750\n",
       "2344    1000\n",
       "2019    1000\n",
       "Name: bottle_volume_ml, dtype: int64"
      ]
     },
     "execution_count": 71,
     "metadata": {},
     "output_type": "execute_result"
    }
   ],
   "source": [
    "df['bottle_volume_ml'].sample(20)"
   ]
  },
  {
   "cell_type": "code",
   "execution_count": 72,
   "metadata": {},
   "outputs": [
    {
     "data": {
      "text/plain": [
       "23"
      ]
     },
     "execution_count": 72,
     "metadata": {},
     "output_type": "execute_result"
    }
   ],
   "source": [
    "df['bottle_volume_ml'].nunique()"
   ]
  },
  {
   "cell_type": "code",
   "execution_count": 73,
   "metadata": {},
   "outputs": [
    {
     "data": {
      "text/plain": [
       "1000    948\n",
       "750     562\n",
       "1750    137\n",
       "375     122\n",
       "50       91\n",
       "Name: bottle_volume_ml, dtype: int64"
      ]
     },
     "execution_count": 73,
     "metadata": {},
     "output_type": "execute_result"
    }
   ],
   "source": [
    "df['bottle_volume_ml'].value_counts().head()"
   ]
  },
  {
   "cell_type": "code",
   "execution_count": 74,
   "metadata": {},
   "outputs": [
    {
     "name": "stdout",
     "output_type": "stream",
     "text": [
      "<class 'pandas.core.frame.DataFrame'>\n",
      "Int64Index: 2083 entries, 0 to 2400\n",
      "Data columns (total 28 columns):\n",
      " #   Column                   Non-Null Count  Dtype         \n",
      "---  ------                   --------------  -----         \n",
      " 0   invoice_and_item_number  2083 non-null   object        \n",
      " 1   date                     2083 non-null   datetime64[ns]\n",
      " 2   store_number             2083 non-null   object        \n",
      " 3   store_name               2083 non-null   object        \n",
      " 4   address                  2083 non-null   object        \n",
      " 5   city                     2083 non-null   object        \n",
      " 6   zip_code                 2083 non-null   object        \n",
      " 7   store_location           2083 non-null   object        \n",
      " 8   county_number            2083 non-null   object        \n",
      " 9   county                   2083 non-null   object        \n",
      " 10  category                 2083 non-null   object        \n",
      " 11  category_name            2083 non-null   object        \n",
      " 12  vendor_number            2083 non-null   object        \n",
      " 13  vendor_name              2083 non-null   object        \n",
      " 14  item_number              2083 non-null   object        \n",
      " 15  item_description         2083 non-null   object        \n",
      " 16  pack                     2083 non-null   int64         \n",
      " 17  bottle_volume_ml         2083 non-null   int64         \n",
      " 18  state_bottle_cost        2083 non-null   float64       \n",
      " 19  state_bottle_retail      2083 non-null   float64       \n",
      " 20  bottles_sold             2083 non-null   int64         \n",
      " 21  sale_dollars             2083 non-null   float64       \n",
      " 22  volume_sold_liters       2083 non-null   float64       \n",
      " 23  volume_sold_gallons      2083 non-null   float64       \n",
      " 24  year                     2083 non-null   int64         \n",
      " 25  month                    2083 non-null   int64         \n",
      " 26  day                      2083 non-null   int64         \n",
      " 27  day_of_week              2083 non-null   int64         \n",
      "dtypes: datetime64[ns](1), float64(5), int64(7), object(15)\n",
      "memory usage: 536.5+ KB\n"
     ]
    }
   ],
   "source": [
    "df.info()"
   ]
  },
  {
   "cell_type": "markdown",
   "metadata": {},
   "source": [
    "**state_bottle_cost**"
   ]
  },
  {
   "cell_type": "code",
   "execution_count": 75,
   "metadata": {},
   "outputs": [
    {
     "data": {
      "text/plain": [
       "0          5.75\n",
       "1         10.50\n",
       "2         10.07\n",
       "3       6100.00\n",
       "4         19.33\n",
       "         ...   \n",
       "2395      22.49\n",
       "2396      22.49\n",
       "2398      22.49\n",
       "2399      22.49\n",
       "2400      22.49\n",
       "Name: state_bottle_cost, Length: 2083, dtype: float64"
      ]
     },
     "execution_count": 75,
     "metadata": {},
     "output_type": "execute_result"
    }
   ],
   "source": [
    "df['state_bottle_cost']"
   ]
  },
  {
   "cell_type": "code",
   "execution_count": 76,
   "metadata": {},
   "outputs": [
    {
     "data": {
      "text/plain": [
       "349"
      ]
     },
     "execution_count": 76,
     "metadata": {},
     "output_type": "execute_result"
    }
   ],
   "source": [
    "df['state_bottle_cost'].nunique()"
   ]
  },
  {
   "cell_type": "code",
   "execution_count": 77,
   "metadata": {},
   "outputs": [
    {
     "data": {
      "text/plain": [
       "7.62     114\n",
       "18.08     80\n",
       "2.42      79\n",
       "18.09     64\n",
       "7.35      59\n",
       "Name: state_bottle_cost, dtype: int64"
      ]
     },
     "execution_count": 77,
     "metadata": {},
     "output_type": "execute_result"
    }
   ],
   "source": [
    "df['state_bottle_cost'].value_counts().head()"
   ]
  },
  {
   "cell_type": "markdown",
   "metadata": {},
   "source": [
    "**state_bottle_retail**"
   ]
  },
  {
   "cell_type": "code",
   "execution_count": 78,
   "metadata": {},
   "outputs": [
    {
     "data": {
      "text/plain": [
       "0          8.63\n",
       "1         15.75\n",
       "2         15.11\n",
       "3       9150.00\n",
       "4         29.00\n",
       "         ...   \n",
       "2395      33.74\n",
       "2396      33.74\n",
       "2398      33.74\n",
       "2399      33.74\n",
       "2400      33.74\n",
       "Name: state_bottle_retail, Length: 2083, dtype: float64"
      ]
     },
     "execution_count": 78,
     "metadata": {},
     "output_type": "execute_result"
    }
   ],
   "source": [
    "df['state_bottle_retail']"
   ]
  },
  {
   "cell_type": "code",
   "execution_count": 79,
   "metadata": {},
   "outputs": [
    {
     "data": {
      "text/plain": [
       "357"
      ]
     },
     "execution_count": 79,
     "metadata": {},
     "output_type": "execute_result"
    }
   ],
   "source": [
    "df['state_bottle_retail'].nunique()"
   ]
  },
  {
   "cell_type": "code",
   "execution_count": 80,
   "metadata": {},
   "outputs": [
    {
     "data": {
      "text/plain": [
       "11.43    114\n",
       "27.13     80\n",
       "3.63      79\n",
       "27.14     64\n",
       "11.02     55\n",
       "Name: state_bottle_retail, dtype: int64"
      ]
     },
     "execution_count": 80,
     "metadata": {},
     "output_type": "execute_result"
    }
   ],
   "source": [
    "df['state_bottle_retail'].value_counts().head()"
   ]
  },
  {
   "cell_type": "code",
   "execution_count": 81,
   "metadata": {},
   "outputs": [
    {
     "data": {
      "text/html": [
       "<div>\n",
       "<style scoped>\n",
       "    .dataframe tbody tr th:only-of-type {\n",
       "        vertical-align: middle;\n",
       "    }\n",
       "\n",
       "    .dataframe tbody tr th {\n",
       "        vertical-align: top;\n",
       "    }\n",
       "\n",
       "    .dataframe thead th {\n",
       "        text-align: right;\n",
       "    }\n",
       "</style>\n",
       "<table border=\"1\" class=\"dataframe\">\n",
       "  <thead>\n",
       "    <tr style=\"text-align: right;\">\n",
       "      <th></th>\n",
       "      <th>state_bottle_cost</th>\n",
       "      <th>state_bottle_retail</th>\n",
       "    </tr>\n",
       "  </thead>\n",
       "  <tbody>\n",
       "    <tr>\n",
       "      <th>0</th>\n",
       "      <td>5.75</td>\n",
       "      <td>8.63</td>\n",
       "    </tr>\n",
       "    <tr>\n",
       "      <th>1</th>\n",
       "      <td>10.50</td>\n",
       "      <td>15.75</td>\n",
       "    </tr>\n",
       "    <tr>\n",
       "      <th>2</th>\n",
       "      <td>10.07</td>\n",
       "      <td>15.11</td>\n",
       "    </tr>\n",
       "    <tr>\n",
       "      <th>3</th>\n",
       "      <td>6100.00</td>\n",
       "      <td>9150.00</td>\n",
       "    </tr>\n",
       "    <tr>\n",
       "      <th>4</th>\n",
       "      <td>19.33</td>\n",
       "      <td>29.00</td>\n",
       "    </tr>\n",
       "    <tr>\n",
       "      <th>5</th>\n",
       "      <td>33.60</td>\n",
       "      <td>50.40</td>\n",
       "    </tr>\n",
       "    <tr>\n",
       "      <th>6</th>\n",
       "      <td>20.47</td>\n",
       "      <td>30.71</td>\n",
       "    </tr>\n",
       "    <tr>\n",
       "      <th>7</th>\n",
       "      <td>13.25</td>\n",
       "      <td>19.88</td>\n",
       "    </tr>\n",
       "    <tr>\n",
       "      <th>8</th>\n",
       "      <td>15.74</td>\n",
       "      <td>23.61</td>\n",
       "    </tr>\n",
       "    <tr>\n",
       "      <th>9</th>\n",
       "      <td>3.05</td>\n",
       "      <td>4.58</td>\n",
       "    </tr>\n",
       "  </tbody>\n",
       "</table>\n",
       "</div>"
      ],
      "text/plain": [
       "   state_bottle_cost  state_bottle_retail\n",
       "0               5.75                 8.63\n",
       "1              10.50                15.75\n",
       "2              10.07                15.11\n",
       "3            6100.00              9150.00\n",
       "4              19.33                29.00\n",
       "5              33.60                50.40\n",
       "6              20.47                30.71\n",
       "7              13.25                19.88\n",
       "8              15.74                23.61\n",
       "9               3.05                 4.58"
      ]
     },
     "execution_count": 81,
     "metadata": {},
     "output_type": "execute_result"
    }
   ],
   "source": [
    "df[['state_bottle_cost', 'state_bottle_retail']].head(10)"
   ]
  },
  {
   "cell_type": "code",
   "execution_count": 82,
   "metadata": {},
   "outputs": [
    {
     "name": "stdout",
     "output_type": "stream",
     "text": [
      "<class 'pandas.core.frame.DataFrame'>\n",
      "Int64Index: 2083 entries, 0 to 2400\n",
      "Data columns (total 28 columns):\n",
      " #   Column                   Non-Null Count  Dtype         \n",
      "---  ------                   --------------  -----         \n",
      " 0   invoice_and_item_number  2083 non-null   object        \n",
      " 1   date                     2083 non-null   datetime64[ns]\n",
      " 2   store_number             2083 non-null   object        \n",
      " 3   store_name               2083 non-null   object        \n",
      " 4   address                  2083 non-null   object        \n",
      " 5   city                     2083 non-null   object        \n",
      " 6   zip_code                 2083 non-null   object        \n",
      " 7   store_location           2083 non-null   object        \n",
      " 8   county_number            2083 non-null   object        \n",
      " 9   county                   2083 non-null   object        \n",
      " 10  category                 2083 non-null   object        \n",
      " 11  category_name            2083 non-null   object        \n",
      " 12  vendor_number            2083 non-null   object        \n",
      " 13  vendor_name              2083 non-null   object        \n",
      " 14  item_number              2083 non-null   object        \n",
      " 15  item_description         2083 non-null   object        \n",
      " 16  pack                     2083 non-null   int64         \n",
      " 17  bottle_volume_ml         2083 non-null   int64         \n",
      " 18  state_bottle_cost        2083 non-null   float64       \n",
      " 19  state_bottle_retail      2083 non-null   float64       \n",
      " 20  bottles_sold             2083 non-null   int64         \n",
      " 21  sale_dollars             2083 non-null   float64       \n",
      " 22  volume_sold_liters       2083 non-null   float64       \n",
      " 23  volume_sold_gallons      2083 non-null   float64       \n",
      " 24  year                     2083 non-null   int64         \n",
      " 25  month                    2083 non-null   int64         \n",
      " 26  day                      2083 non-null   int64         \n",
      " 27  day_of_week              2083 non-null   int64         \n",
      "dtypes: datetime64[ns](1), float64(5), int64(7), object(15)\n",
      "memory usage: 536.5+ KB\n"
     ]
    }
   ],
   "source": [
    "df.info()"
   ]
  },
  {
   "cell_type": "markdown",
   "metadata": {},
   "source": [
    "**bottles_sold**"
   ]
  },
  {
   "cell_type": "code",
   "execution_count": 83,
   "metadata": {},
   "outputs": [
    {
     "data": {
      "text/plain": [
       "0        1\n",
       "1       60\n",
       "2       36\n",
       "3        1\n",
       "4       18\n",
       "        ..\n",
       "2395     6\n",
       "2396     3\n",
       "2398     6\n",
       "2399     6\n",
       "2400    12\n",
       "Name: bottles_sold, Length: 2083, dtype: int64"
      ]
     },
     "execution_count": 83,
     "metadata": {},
     "output_type": "execute_result"
    }
   ],
   "source": [
    "df['bottles_sold']"
   ]
  },
  {
   "cell_type": "code",
   "execution_count": 84,
   "metadata": {},
   "outputs": [
    {
     "data": {
      "text/plain": [
       "72"
      ]
     },
     "execution_count": 84,
     "metadata": {},
     "output_type": "execute_result"
    }
   ],
   "source": [
    "df['bottles_sold'].nunique()"
   ]
  },
  {
   "cell_type": "code",
   "execution_count": 85,
   "metadata": {},
   "outputs": [
    {
     "data": {
      "text/html": [
       "<div>\n",
       "<style scoped>\n",
       "    .dataframe tbody tr th:only-of-type {\n",
       "        vertical-align: middle;\n",
       "    }\n",
       "\n",
       "    .dataframe tbody tr th {\n",
       "        vertical-align: top;\n",
       "    }\n",
       "\n",
       "    .dataframe thead th {\n",
       "        text-align: right;\n",
       "    }\n",
       "</style>\n",
       "<table border=\"1\" class=\"dataframe\">\n",
       "  <thead>\n",
       "    <tr style=\"text-align: right;\">\n",
       "      <th></th>\n",
       "      <th>pack</th>\n",
       "      <th>bottles_sold</th>\n",
       "    </tr>\n",
       "  </thead>\n",
       "  <tbody>\n",
       "    <tr>\n",
       "      <th>2292</th>\n",
       "      <td>12</td>\n",
       "      <td>5</td>\n",
       "    </tr>\n",
       "    <tr>\n",
       "      <th>480</th>\n",
       "      <td>6</td>\n",
       "      <td>720</td>\n",
       "    </tr>\n",
       "    <tr>\n",
       "      <th>1263</th>\n",
       "      <td>6</td>\n",
       "      <td>18</td>\n",
       "    </tr>\n",
       "    <tr>\n",
       "      <th>1039</th>\n",
       "      <td>12</td>\n",
       "      <td>120</td>\n",
       "    </tr>\n",
       "    <tr>\n",
       "      <th>295</th>\n",
       "      <td>12</td>\n",
       "      <td>36</td>\n",
       "    </tr>\n",
       "    <tr>\n",
       "      <th>1536</th>\n",
       "      <td>12</td>\n",
       "      <td>2</td>\n",
       "    </tr>\n",
       "    <tr>\n",
       "      <th>729</th>\n",
       "      <td>24</td>\n",
       "      <td>5</td>\n",
       "    </tr>\n",
       "    <tr>\n",
       "      <th>556</th>\n",
       "      <td>12</td>\n",
       "      <td>4</td>\n",
       "    </tr>\n",
       "    <tr>\n",
       "      <th>984</th>\n",
       "      <td>12</td>\n",
       "      <td>2</td>\n",
       "    </tr>\n",
       "    <tr>\n",
       "      <th>1075</th>\n",
       "      <td>12</td>\n",
       "      <td>4</td>\n",
       "    </tr>\n",
       "    <tr>\n",
       "      <th>1555</th>\n",
       "      <td>24</td>\n",
       "      <td>5</td>\n",
       "    </tr>\n",
       "    <tr>\n",
       "      <th>871</th>\n",
       "      <td>12</td>\n",
       "      <td>36</td>\n",
       "    </tr>\n",
       "    <tr>\n",
       "      <th>1494</th>\n",
       "      <td>6</td>\n",
       "      <td>30</td>\n",
       "    </tr>\n",
       "    <tr>\n",
       "      <th>2033</th>\n",
       "      <td>12</td>\n",
       "      <td>60</td>\n",
       "    </tr>\n",
       "    <tr>\n",
       "      <th>487</th>\n",
       "      <td>6</td>\n",
       "      <td>5</td>\n",
       "    </tr>\n",
       "    <tr>\n",
       "      <th>618</th>\n",
       "      <td>12</td>\n",
       "      <td>96</td>\n",
       "    </tr>\n",
       "    <tr>\n",
       "      <th>754</th>\n",
       "      <td>12</td>\n",
       "      <td>4</td>\n",
       "    </tr>\n",
       "    <tr>\n",
       "      <th>879</th>\n",
       "      <td>12</td>\n",
       "      <td>4</td>\n",
       "    </tr>\n",
       "    <tr>\n",
       "      <th>2065</th>\n",
       "      <td>12</td>\n",
       "      <td>4</td>\n",
       "    </tr>\n",
       "    <tr>\n",
       "      <th>2272</th>\n",
       "      <td>12</td>\n",
       "      <td>2</td>\n",
       "    </tr>\n",
       "  </tbody>\n",
       "</table>\n",
       "</div>"
      ],
      "text/plain": [
       "      pack  bottles_sold\n",
       "2292    12             5\n",
       "480      6           720\n",
       "1263     6            18\n",
       "1039    12           120\n",
       "295     12            36\n",
       "1536    12             2\n",
       "729     24             5\n",
       "556     12             4\n",
       "984     12             2\n",
       "1075    12             4\n",
       "1555    24             5\n",
       "871     12            36\n",
       "1494     6            30\n",
       "2033    12            60\n",
       "487      6             5\n",
       "618     12            96\n",
       "754     12             4\n",
       "879     12             4\n",
       "2065    12             4\n",
       "2272    12             2"
      ]
     },
     "execution_count": 85,
     "metadata": {},
     "output_type": "execute_result"
    }
   ],
   "source": [
    "df[['pack', 'bottles_sold']].sample(20)"
   ]
  },
  {
   "cell_type": "markdown",
   "metadata": {},
   "source": [
    "**sale_dollars**"
   ]
  },
  {
   "cell_type": "code",
   "execution_count": 86,
   "metadata": {},
   "outputs": [
    {
     "data": {
      "text/plain": [
       "0          8.63\n",
       "1        945.00\n",
       "2        543.96\n",
       "3       9150.00\n",
       "4        522.00\n",
       "         ...   \n",
       "2395     202.44\n",
       "2396     101.22\n",
       "2398     202.44\n",
       "2399     202.44\n",
       "2400     404.88\n",
       "Name: sale_dollars, Length: 2083, dtype: float64"
      ]
     },
     "execution_count": 86,
     "metadata": {},
     "output_type": "execute_result"
    }
   ],
   "source": [
    "df['sale_dollars']"
   ]
  },
  {
   "cell_type": "code",
   "execution_count": 87,
   "metadata": {},
   "outputs": [
    {
     "data": {
      "text/plain": [
       "891"
      ]
     },
     "execution_count": 87,
     "metadata": {},
     "output_type": "execute_result"
    }
   ],
   "source": [
    "df['sale_dollars'].nunique()"
   ]
  },
  {
   "cell_type": "markdown",
   "metadata": {},
   "source": [
    "**volume_sold_liters**"
   ]
  },
  {
   "cell_type": "code",
   "execution_count": 88,
   "metadata": {},
   "outputs": [
    {
     "data": {
      "text/plain": [
       "0         0.37\n",
       "1        22.50\n",
       "2        27.00\n",
       "3       180.00\n",
       "4        13.50\n",
       "         ...  \n",
       "2395      0.30\n",
       "2396      0.15\n",
       "2398      0.30\n",
       "2399      0.30\n",
       "2400      0.60\n",
       "Name: volume_sold_liters, Length: 2083, dtype: float64"
      ]
     },
     "execution_count": 88,
     "metadata": {},
     "output_type": "execute_result"
    }
   ],
   "source": [
    "df['volume_sold_liters']"
   ]
  },
  {
   "cell_type": "code",
   "execution_count": 89,
   "metadata": {},
   "outputs": [
    {
     "data": {
      "text/plain": [
       "154"
      ]
     },
     "execution_count": 89,
     "metadata": {},
     "output_type": "execute_result"
    }
   ],
   "source": [
    "df['volume_sold_liters'].nunique()"
   ]
  },
  {
   "cell_type": "code",
   "execution_count": 90,
   "metadata": {},
   "outputs": [
    {
     "data": {
      "text/plain": [
       "4.00      315\n",
       "2.00      121\n",
       "22.50     113\n",
       "27.00     104\n",
       "48.00      91\n",
       "         ... \n",
       "162.00      1\n",
       "4.80        1\n",
       "17.00       1\n",
       "78.75       1\n",
       "140.40      1\n",
       "Name: volume_sold_liters, Length: 154, dtype: int64"
      ]
     },
     "execution_count": 90,
     "metadata": {},
     "output_type": "execute_result"
    }
   ],
   "source": [
    "df['volume_sold_liters'].value_counts()"
   ]
  },
  {
   "cell_type": "markdown",
   "metadata": {},
   "source": [
    "**volume_sold_gallons**"
   ]
  },
  {
   "cell_type": "code",
   "execution_count": 91,
   "metadata": {},
   "outputs": [
    {
     "data": {
      "text/plain": [
       "0        0.09\n",
       "1        5.94\n",
       "2        7.13\n",
       "3       47.55\n",
       "4        3.57\n",
       "        ...  \n",
       "2395     0.07\n",
       "2396     0.03\n",
       "2398     0.07\n",
       "2399     0.07\n",
       "2400     0.15\n",
       "Name: volume_sold_gallons, Length: 2083, dtype: float64"
      ]
     },
     "execution_count": 91,
     "metadata": {},
     "output_type": "execute_result"
    }
   ],
   "source": [
    "df['volume_sold_gallons']"
   ]
  },
  {
   "cell_type": "code",
   "execution_count": 92,
   "metadata": {},
   "outputs": [
    {
     "data": {
      "text/plain": [
       "170"
      ]
     },
     "execution_count": 92,
     "metadata": {},
     "output_type": "execute_result"
    }
   ],
   "source": [
    "df['volume_sold_gallons'].nunique()"
   ]
  },
  {
   "cell_type": "code",
   "execution_count": 93,
   "metadata": {},
   "outputs": [
    {
     "data": {
      "text/plain": [
       "1.06      281\n",
       "0.52      123\n",
       "5.94      113\n",
       "7.13      104\n",
       "12.68      91\n",
       "         ... \n",
       "118.87      1\n",
       "22.59       1\n",
       "106.99      1\n",
       "20.20       1\n",
       "4.49        1\n",
       "Name: volume_sold_gallons, Length: 170, dtype: int64"
      ]
     },
     "execution_count": 93,
     "metadata": {},
     "output_type": "execute_result"
    }
   ],
   "source": [
    "df['volume_sold_gallons'].value_counts()"
   ]
  },
  {
   "cell_type": "code",
   "execution_count": 94,
   "metadata": {},
   "outputs": [
    {
     "name": "stdout",
     "output_type": "stream",
     "text": [
      "<class 'pandas.core.frame.DataFrame'>\n",
      "Int64Index: 2083 entries, 0 to 2400\n",
      "Data columns (total 28 columns):\n",
      " #   Column                   Non-Null Count  Dtype         \n",
      "---  ------                   --------------  -----         \n",
      " 0   invoice_and_item_number  2083 non-null   object        \n",
      " 1   date                     2083 non-null   datetime64[ns]\n",
      " 2   store_number             2083 non-null   object        \n",
      " 3   store_name               2083 non-null   object        \n",
      " 4   address                  2083 non-null   object        \n",
      " 5   city                     2083 non-null   object        \n",
      " 6   zip_code                 2083 non-null   object        \n",
      " 7   store_location           2083 non-null   object        \n",
      " 8   county_number            2083 non-null   object        \n",
      " 9   county                   2083 non-null   object        \n",
      " 10  category                 2083 non-null   object        \n",
      " 11  category_name            2083 non-null   object        \n",
      " 12  vendor_number            2083 non-null   object        \n",
      " 13  vendor_name              2083 non-null   object        \n",
      " 14  item_number              2083 non-null   object        \n",
      " 15  item_description         2083 non-null   object        \n",
      " 16  pack                     2083 non-null   int64         \n",
      " 17  bottle_volume_ml         2083 non-null   int64         \n",
      " 18  state_bottle_cost        2083 non-null   float64       \n",
      " 19  state_bottle_retail      2083 non-null   float64       \n",
      " 20  bottles_sold             2083 non-null   int64         \n",
      " 21  sale_dollars             2083 non-null   float64       \n",
      " 22  volume_sold_liters       2083 non-null   float64       \n",
      " 23  volume_sold_gallons      2083 non-null   float64       \n",
      " 24  year                     2083 non-null   int64         \n",
      " 25  month                    2083 non-null   int64         \n",
      " 26  day                      2083 non-null   int64         \n",
      " 27  day_of_week              2083 non-null   int64         \n",
      "dtypes: datetime64[ns](1), float64(5), int64(7), object(15)\n",
      "memory usage: 536.5+ KB\n"
     ]
    }
   ],
   "source": [
    "df.info()"
   ]
  },
  {
   "cell_type": "markdown",
   "metadata": {},
   "source": [
    "Now that we have briefly explored our data, we will drop some of these attributes and focus more on few numbers of attributes."
   ]
  },
  {
   "cell_type": "markdown",
   "metadata": {},
   "source": [
    "<h1><center>##############################</center></h1>"
   ]
  },
  {
   "cell_type": "markdown",
   "metadata": {},
   "source": [
    "<h1><center>CHECKPOINT</center></h1>"
   ]
  },
  {
   "cell_type": "markdown",
   "metadata": {},
   "source": [
    "<h1><center>##############################</center></h1>"
   ]
  },
  {
   "cell_type": "code",
   "execution_count": 182,
   "metadata": {},
   "outputs": [],
   "source": [
    "df2 = df.copy()"
   ]
  },
  {
   "cell_type": "code",
   "execution_count": 183,
   "metadata": {},
   "outputs": [],
   "source": [
    "df2.drop(['invoice_and_item_number',\n",
    "          'date',\n",
    "          'store_number',\n",
    "          'address',\n",
    "          'county_number',\n",
    "          'category',\n",
    "          'vendor_number',\n",
    "          'item_number'], axis=1, inplace=True)"
   ]
  },
  {
   "cell_type": "code",
   "execution_count": 184,
   "metadata": {},
   "outputs": [
    {
     "name": "stdout",
     "output_type": "stream",
     "text": [
      "<class 'pandas.core.frame.DataFrame'>\n",
      "Int64Index: 2083 entries, 0 to 2400\n",
      "Data columns (total 20 columns):\n",
      " #   Column               Non-Null Count  Dtype  \n",
      "---  ------               --------------  -----  \n",
      " 0   store_name           2083 non-null   object \n",
      " 1   city                 2083 non-null   object \n",
      " 2   zip_code             2083 non-null   object \n",
      " 3   store_location       2083 non-null   object \n",
      " 4   county               2083 non-null   object \n",
      " 5   category_name        2083 non-null   object \n",
      " 6   vendor_name          2083 non-null   object \n",
      " 7   item_description     2083 non-null   object \n",
      " 8   pack                 2083 non-null   int64  \n",
      " 9   bottle_volume_ml     2083 non-null   int64  \n",
      " 10  state_bottle_cost    2083 non-null   float64\n",
      " 11  state_bottle_retail  2083 non-null   float64\n",
      " 12  bottles_sold         2083 non-null   int64  \n",
      " 13  sale_dollars         2083 non-null   float64\n",
      " 14  volume_sold_liters   2083 non-null   float64\n",
      " 15  volume_sold_gallons  2083 non-null   float64\n",
      " 16  year                 2083 non-null   int64  \n",
      " 17  month                2083 non-null   int64  \n",
      " 18  day                  2083 non-null   int64  \n",
      " 19  day_of_week          2083 non-null   int64  \n",
      "dtypes: float64(5), int64(7), object(8)\n",
      "memory usage: 406.3+ KB\n"
     ]
    }
   ],
   "source": [
    "df2.info()"
   ]
  },
  {
   "cell_type": "markdown",
   "metadata": {},
   "source": [
    "What we have done so far:\n",
    "* Extracted year, month, day, and day of week from `date`\n",
    "* Lowercased `city`, `county`, and `vendor_name`\n",
    "* Dropped `invoice_and_item_number`, `date`, `store_number`, `address`, `county_number`, `category`, `vendor_number`, `item_number`."
   ]
  },
  {
   "cell_type": "markdown",
   "metadata": {},
   "source": [
    "This data has many columns and sometimes it's hard to keep track of what we did or what we should do to the attribute. There's no header collapsing in Jupyter Notebook, so scrolling back and forth can also be quite tiring."
   ]
  },
  {
   "cell_type": "markdown",
   "metadata": {},
   "source": [
    "## Further Feature Engineering"
   ]
  },
  {
   "cell_type": "code",
   "execution_count": 185,
   "metadata": {},
   "outputs": [],
   "source": [
    "import warnings\n",
    "warnings.filterwarnings('ignore')"
   ]
  },
  {
   "cell_type": "markdown",
   "metadata": {},
   "source": [
    "**store_name**"
   ]
  },
  {
   "cell_type": "code",
   "execution_count": 186,
   "metadata": {},
   "outputs": [
    {
     "data": {
      "text/plain": [
       "1977                             Graettinger Market\n",
       "1342                   The Liquor Store / Davenport\n",
       "480                        Sam's Club 6979 / Ankeny\n",
       "1247                                 John's Grocery\n",
       "1234                                 Central City 2\n",
       "158               Hy-Vee Drugstore / Council Bluffs\n",
       "1230                   Wal-Mart 0581 / Marshalltown\n",
       "465                  The Station II / North Liberty\n",
       "1891                            Super Valu / Mark's\n",
       "1416    Smokin' Joe's #12 Tobacco and Liquor Outlet\n",
       "2382                    Liquor and Tobacco Outlet /\n",
       "560                   Hy-Vee Wine and Spirits / WDM\n",
       "2037              Sam's Club 6344 / Windsor Heights\n",
       "1824                    Sam's Club 8238 / Davenport\n",
       "1689                                   Hubers Store\n",
       "1004           Hy-Vee Food and Drug #6 / Cedar Rapi\n",
       "781                    Hy-Vee #3 / BDI / Des Moines\n",
       "2191                                 Central City 2\n",
       "2387                   I-80 Liquor / Council Bluffs\n",
       "2372                     Jeff's Market / Blue Grass\n",
       "Name: store_name, dtype: object"
      ]
     },
     "execution_count": 186,
     "metadata": {},
     "output_type": "execute_result"
    }
   ],
   "source": [
    "df2['store_name'].sample(20)"
   ]
  },
  {
   "cell_type": "markdown",
   "metadata": {},
   "source": [
    "Most of the strings contain ([the store name][branch] # / [city]). We will split the strings and not include the city name."
   ]
  },
  {
   "cell_type": "code",
   "execution_count": 187,
   "metadata": {},
   "outputs": [
    {
     "data": {
      "text/plain": [
       "599"
      ]
     },
     "execution_count": 187,
     "metadata": {},
     "output_type": "execute_result"
    }
   ],
   "source": [
    "df2['store_name'].nunique()"
   ]
  },
  {
   "cell_type": "code",
   "execution_count": 188,
   "metadata": {},
   "outputs": [],
   "source": [
    "df2['store_name'] = df2['store_name'].str.lower()\n",
    "df2['store_name'] = df2['store_name'].str.split(' / ').str[0]\n",
    "df2['store_name'] = df2['store_name'].str.split('/').str[0]\n",
    "df2['store_name'] = df2['store_name'].str.split(' #').str[0]"
   ]
  },
  {
   "cell_type": "code",
   "execution_count": 189,
   "metadata": {},
   "outputs": [],
   "source": [
    "df2['store_name'].loc[df2.store_name.str.contains('hy-vee')] = 'hy-vee'\n",
    "df2['store_name'].loc[df2.store_name.str.contains('central city')] = 'central city'\n",
    "df2['store_name'].loc[df2.store_name.str.contains(\"sam's club\")] = \"sam's club\"\n",
    "df2['store_name'].loc[df2.store_name.str.contains('wal-mart')] = 'wal-mart'\n",
    "df2['store_name'].loc[df2.store_name.str.contains('target')] = 'target'\n",
    "df2['store_name'].loc[df2.store_name.str.contains('world liquor')] = 'world liquor & tobacco + vape'"
   ]
  },
  {
   "cell_type": "code",
   "execution_count": 190,
   "metadata": {},
   "outputs": [
    {
     "data": {
      "text/plain": [
       "hy-vee                           646\n",
       "sam's club                       185\n",
       "central city                     102\n",
       "wal-mart                          84\n",
       "fareway stores                    70\n",
       "costco wholesale                  44\n",
       "benz distributing                 41\n",
       "wilkie liquors                    39\n",
       "smokin' joe's                     22\n",
       "casey's general store             21\n",
       "lot-a-spirits                     18\n",
       "keokuk spirits                    18\n",
       "cyclone liquors                   17\n",
       "ingersoll liquor and beverage     15\n",
       "quick shop                        15\n",
       "target                            15\n",
       "i-80 liquor                       15\n",
       "sonny's super market              14\n",
       "kum & go                          14\n",
       "tobacco shop                      11\n",
       "Name: store_name, dtype: int64"
      ]
     },
     "execution_count": 190,
     "metadata": {},
     "output_type": "execute_result"
    }
   ],
   "source": [
    "df2['store_name'].value_counts().head(20)"
   ]
  },
  {
   "cell_type": "code",
   "execution_count": 191,
   "metadata": {},
   "outputs": [
    {
     "data": {
      "text/plain": [
       "309"
      ]
     },
     "execution_count": 191,
     "metadata": {},
     "output_type": "execute_result"
    }
   ],
   "source": [
    "df2['store_name'].nunique()"
   ]
  },
  {
   "cell_type": "markdown",
   "metadata": {},
   "source": [
    "So far we've managed to reduce the unique values from 599 to 309. There are still so many instances with 1 value. There could be more duplicates, but for now, we've done what we could."
   ]
  },
  {
   "cell_type": "code",
   "execution_count": 192,
   "metadata": {},
   "outputs": [
    {
     "data": {
      "text/plain": [
       "pronto                                   1\n",
       "riverside quick shop                     1\n",
       "randy's neighborhood market              1\n",
       "kwik stop food mart                      1\n",
       "xo food and liquor                       1\n",
       "the boonedocks                           1\n",
       "new star liquor & tobacco                1\n",
       "super saver liquor llc                   1\n",
       "crossroads wine and liquor               1\n",
       "tobacco 4 less                           1\n",
       "kwik stop 16th st                        1\n",
       "the party pantry                         1\n",
       "super saver liquor -muscatine            1\n",
       "kroegers liquor co llc                   1\n",
       "northside liquor                         1\n",
       "s&b farmstead distillery                 1\n",
       "liquor tobacco & grocery - mason city    1\n",
       "liquor barn ii                           1\n",
       "no frills supermarkets                   1\n",
       "super saver liquor                       1\n",
       "Name: store_name, dtype: int64"
      ]
     },
     "execution_count": 192,
     "metadata": {},
     "output_type": "execute_result"
    }
   ],
   "source": [
    "df2['store_name'].value_counts().tail(20)"
   ]
  },
  {
   "cell_type": "markdown",
   "metadata": {},
   "source": [
    "**category_name**"
   ]
  },
  {
   "cell_type": "code",
   "execution_count": 193,
   "metadata": {},
   "outputs": [
    {
     "data": {
      "text/plain": [
       "61"
      ]
     },
     "execution_count": 193,
     "metadata": {},
     "output_type": "execute_result"
    }
   ],
   "source": [
    "df2['category_name'].nunique()"
   ]
  },
  {
   "cell_type": "code",
   "execution_count": 194,
   "metadata": {},
   "outputs": [],
   "source": [
    "df2['category_name'] = df2['category_name'].str.lower()"
   ]
  },
  {
   "cell_type": "code",
   "execution_count": 195,
   "metadata": {},
   "outputs": [
    {
     "data": {
      "text/plain": [
       "54"
      ]
     },
     "execution_count": 195,
     "metadata": {},
     "output_type": "execute_result"
    }
   ],
   "source": [
    "df2['category_name'].nunique()"
   ]
  },
  {
   "cell_type": "code",
   "execution_count": 196,
   "metadata": {},
   "outputs": [
    {
     "data": {
      "text/plain": [
       "triple sec                             225\n",
       "straight rye whiskies                  219\n",
       "decanters & specialty packages         215\n",
       "coffee liqueurs                        170\n",
       "gold rum                               105\n",
       "irish whiskies                          98\n",
       "single malt scotch                      87\n",
       "distilled spirits specialty             83\n",
       "imported distilled spirit specialty     81\n",
       "special order items                     71\n",
       "Name: category_name, dtype: int64"
      ]
     },
     "execution_count": 196,
     "metadata": {},
     "output_type": "execute_result"
    }
   ],
   "source": [
    "df2['category_name'].value_counts().head(10)"
   ]
  },
  {
   "cell_type": "markdown",
   "metadata": {},
   "source": [
    "We managed to reduce more unique values by lowering the characters."
   ]
  },
  {
   "cell_type": "markdown",
   "metadata": {},
   "source": [
    "**vendor_name**"
   ]
  },
  {
   "cell_type": "code",
   "execution_count": 197,
   "metadata": {},
   "outputs": [
    {
     "data": {
      "text/plain": [
       "89"
      ]
     },
     "execution_count": 197,
     "metadata": {},
     "output_type": "execute_result"
    }
   ],
   "source": [
    "df2['vendor_name'].nunique()"
   ]
  },
  {
   "cell_type": "code",
   "execution_count": 198,
   "metadata": {},
   "outputs": [
    {
     "data": {
      "text/plain": [
       "jim beam brands                         318\n",
       "luxco-st louis                          236\n",
       "luxco inc                               231\n",
       "pernod ricard usa/austin nichols        167\n",
       "pernod ricard usa                       146\n",
       "wilson daniels ltd.                     112\n",
       "diageo americas                         104\n",
       "infinium spirits                         81\n",
       "bacardi usa inc                          76\n",
       "sazerac company  inc                     73\n",
       "sazerac north america                    61\n",
       "sazerac co., inc.                        41\n",
       "moet hennessy usa, inc.                  40\n",
       "heaven hill brands                       35\n",
       "mhw ltd                                  33\n",
       "mccormick distilling company             29\n",
       "ole smoky distillery llc                 26\n",
       "moet hennessy usa                        13\n",
       "phillips beverage company                12\n",
       "constellation wine company, inc.         12\n",
       "sidney frank importing co.               10\n",
       "mccormick distilling co.                 10\n",
       "cedar ridge vineyards ll                 10\n",
       "brown-forman corporation                 10\n",
       "william grant & sons inc                  9\n",
       "mississippi river distil                  8\n",
       "laird & company                           8\n",
       "prestige wine and spirits group           7\n",
       "proximo                                   7\n",
       "phillips beverage                         7\n",
       "dunkel corporation / iowa distilling      6\n",
       "piedmont distillers                       6\n",
       "edrington group usa llc                   6\n",
       "e & j gallo winery                        5\n",
       "disaronno international llc               5\n",
       "cedar ridge vineyards,llc                 5\n",
       "western spirits beverage co. llc          5\n",
       "william grant and sons, inc.              5\n",
       "mississippi river distilling co.          5\n",
       "campari(skyy)                             5\n",
       "brown forman corp.                        5\n",
       "jinro america inc                         5\n",
       "yahara bay distillers inc                 5\n",
       "fifth generation inc.                     5\n",
       "fifth generation inc                      4\n",
       "Name: vendor_name, dtype: int64"
      ]
     },
     "execution_count": 198,
     "metadata": {},
     "output_type": "execute_result"
    }
   ],
   "source": [
    "df2['vendor_name'].value_counts().head(45)"
   ]
  },
  {
   "cell_type": "code",
   "execution_count": 199,
   "metadata": {},
   "outputs": [
    {
     "data": {
      "text/plain": [
       "fifth generation inc                      4\n",
       "four roses distillery                     4\n",
       "green frog distillery, llc                3\n",
       "the patron spirits company                3\n",
       "skyy spirits inc                          3\n",
       "fredrick wildman & son                    3\n",
       "stoli group                               3\n",
       "constellation brands inc                  3\n",
       "laird and company                         3\n",
       "yahara bay distillers, inc                2\n",
       "ole smoky distillery, llc                 2\n",
       "disaronno international                   2\n",
       "worldwide libations, llc                  2\n",
       "s&b farmstead distillery                  2\n",
       "prost beverage company                    2\n",
       "dehner distillery                         2\n",
       "castle brands                             2\n",
       "bacardi u.s.a., inc.                      2\n",
       "w j deutsch & sons ltd                    2\n",
       "s&b farms distillery                      2\n",
       "goamericago beverages llc / whistlepig    2\n",
       "prestige wine & spirits group             2\n",
       "shaw-ross international                   1\n",
       "e and j gallo winery                      1\n",
       "piedmont distillers inc                   1\n",
       "mango bottling                            1\n",
       "3 badge corporation                       1\n",
       "imperial brands inc                       1\n",
       "gunsandmore info llc                      1\n",
       "foundry distilling company, llc           1\n",
       "anchor distilling (preiss imports)        1\n",
       "caledonia spirits                         1\n",
       "templeton distilling llc                  1\n",
       "minhas micro distillery                   1\n",
       "windy hill spirits                        1\n",
       "bad bear enterprises llc                  1\n",
       "ste michelle wine estates                 1\n",
       "sugarlands distilling company llc         1\n",
       "dunkel corporation                        1\n",
       "gunsandmore.info                          1\n",
       "american heritage distillers, llc         1\n",
       "total beverage solutions                  1\n",
       "john ernest distillery, inc.              1\n",
       "gemini spirits                            1\n",
       "misa imports inc                          1\n",
       "Name: vendor_name, dtype: int64"
      ]
     },
     "execution_count": 199,
     "metadata": {},
     "output_type": "execute_result"
    }
   ],
   "source": [
    "df2['vendor_name'].value_counts().tail(45)"
   ]
  },
  {
   "cell_type": "markdown",
   "metadata": {},
   "source": [
    "This attribute is even worse. So many small differences like '&' and 'and' or one with a comma and not."
   ]
  },
  {
   "cell_type": "code",
   "execution_count": 200,
   "metadata": {},
   "outputs": [],
   "source": [
    "df2['vendor_name'].loc[df2.vendor_name.str.contains('luxco')] = 'luxco inc'\n",
    "df2['vendor_name'].loc[df2.vendor_name.str.contains('pernod ricard usa')] = 'pernod ricard usa'\n",
    "df2['vendor_name'].loc[df2.vendor_name.str.contains('gunsandmore')] = 'gunsandmore'\n",
    "df2['vendor_name'].loc[df2.vendor_name.str.contains('mccormick distilling')] = 'mccormick distilling co'\n",
    "df2['vendor_name'].loc[df2.vendor_name.str.contains('sazerac')] = 'sazerac company  inc'\n",
    "df2['vendor_name'].loc[df2.vendor_name.str.contains('mississippi river')] = 'mississippi river distilling co'\n",
    "df2['vendor_name'].loc[df2.vendor_name.str.contains('phillips beverage')] = 'phillips beverage company'\n",
    "df2['vendor_name'].loc[df2.vendor_name.str.contains('constellation')] = 'constellation wine company'\n",
    "df2['vendor_name'].loc[df2.vendor_name.str.contains('william grant')] = 'william grant & sons inc'\n",
    "df2['vendor_name'].loc[df2.vendor_name.str.contains('cedar ridge vineyards')] = 'cedar ridge vineyards llc'\n",
    "df2['vendor_name'].loc[df2.vendor_name.str.contains('prestige wine')] = 'prestige wine & spirits group'\n",
    "df2['vendor_name'].loc[df2.vendor_name.str.contains('ole smoky')] = 'ole smoky distillery'\n",
    "df2['vendor_name'].loc[df2.vendor_name.str.contains('laird')] = 'laird & company'\n",
    "df2['vendor_name'].loc[df2.vendor_name.str.contains('gallo winery')] = 'e & j gallo winery'\n",
    "df2['vendor_name'].loc[df2.vendor_name.str.contains('s&b farms')] = 's&b farms distillery'\n",
    "df2['vendor_name'].loc[df2.vendor_name.str.contains('fifth generation')] = 'fifth generation inc'\n",
    "df2['vendor_name'].loc[df2.vendor_name.str.contains('yahara bay distillers')] = 'yahara bay distillers inc'\n",
    "df2['vendor_name'].loc[df2.vendor_name.str.contains('bacardi')] = 'bacardi usa inc'\n",
    "df2['vendor_name'].loc[df2.vendor_name.str.contains('forman')] = 'brown-forman corporation'\n",
    "df2['vendor_name'].loc[df2.vendor_name.str.contains('dunkel corporation')] = 'dunkel corporation'"
   ]
  },
  {
   "cell_type": "code",
   "execution_count": 201,
   "metadata": {},
   "outputs": [
    {
     "data": {
      "text/plain": [
       "68"
      ]
     },
     "execution_count": 201,
     "metadata": {},
     "output_type": "execute_result"
    }
   ],
   "source": [
    "df2['vendor_name'].nunique()"
   ]
  },
  {
   "cell_type": "markdown",
   "metadata": {},
   "source": [
    "We managed to reduce the unique values from 89 to 68.\\\n",
    "Note: This process was really tedious and need good eyes for spotting the duplicates and also not to mention, time. We might had missed some duplicates."
   ]
  },
  {
   "cell_type": "markdown",
   "metadata": {},
   "source": [
    "**item_description**"
   ]
  },
  {
   "cell_type": "code",
   "execution_count": 202,
   "metadata": {},
   "outputs": [
    {
     "data": {
      "text/plain": [
       "1706                             Juarez Gold Dss\n",
       "2361    Ole Smoky Apple Pie Moonshine 70prf Mini\n",
       "805                     Hennessy VS Flask Sleeve\n",
       "1647                       Kahlua Coffee Liqueur\n",
       "1839                          Paramount Amaretto\n",
       "66                Dekuyper Grape Pucker Schnapps\n",
       "932                     Glenmorangie Taster Pack\n",
       "942                           Members Mark Vodka\n",
       "1020                                     Jameson\n",
       "555                               Knob Creek Rye\n",
       "601              Absolut w/50ml Citron & Mandrin\n",
       "244                         Powers Irish Whiskey\n",
       "1778                             Juarez Gold Dss\n",
       "2277                         La Prima Triple Sec\n",
       "1462                                Bacardi Gold\n",
       "712                         Williams Pear Brandy\n",
       "1717                             Juarez Gold Dss\n",
       "70                    Saints N Sinners Apple Pie\n",
       "199                      Paramount Cherry Brandy\n",
       "1694                       Kamora Coffee Liqueur\n",
       "2054                  Dekuyper Watermelon Pucker\n",
       "1454                                Bacardi Gold\n",
       "1538                          Kahlua Coffee Mini\n",
       "286                        Kamora Coffee Liqueur\n",
       "1193                               Templeton Rye\n",
       "330                    Jim Beam 50ml Holiday 4pk\n",
       "1943                       Dekuyper Grape Pucker\n",
       "1281                           Templeton 4YR Rye\n",
       "403                Malibu w/Dole Pineapple Juice\n",
       "1822                          Paramount Amaretto\n",
       "1982                          Dekuyper Peachtree\n",
       "98                Christian Brothers Holiday Nog\n",
       "515                     Arrow Raspberry Schnapps\n",
       "1616                       Kahlua Coffee Liqueur\n",
       "2061                  Dekuyper Watermelon Pucker\n",
       "2133                         Dekuyper Triple Sec\n",
       "489                            Dekuyper Rootbeer\n",
       "235                    Christian Bros Apple Mini\n",
       "823                                  Titos Vodka\n",
       "1771                             Juarez Gold Dss\n",
       "Name: item_description, dtype: object"
      ]
     },
     "execution_count": 202,
     "metadata": {},
     "output_type": "execute_result"
    }
   ],
   "source": [
    "df2['item_description'].sample(40)"
   ]
  },
  {
   "cell_type": "code",
   "execution_count": 203,
   "metadata": {},
   "outputs": [
    {
     "data": {
      "text/plain": [
       "399"
      ]
     },
     "execution_count": 203,
     "metadata": {},
     "output_type": "execute_result"
    }
   ],
   "source": [
    "df2['item_description'].nunique()"
   ]
  },
  {
   "cell_type": "code",
   "execution_count": 204,
   "metadata": {},
   "outputs": [],
   "source": [
    "df2['item_description'] = df2['item_description'].str.lower()"
   ]
  },
  {
   "cell_type": "code",
   "execution_count": 205,
   "metadata": {},
   "outputs": [
    {
     "data": {
      "text/plain": [
       "394"
      ]
     },
     "execution_count": 205,
     "metadata": {},
     "output_type": "execute_result"
    }
   ],
   "source": [
    "df2['item_description'].nunique()"
   ]
  },
  {
   "cell_type": "code",
   "execution_count": 206,
   "metadata": {},
   "outputs": [
    {
     "data": {
      "text/plain": [
       "694                   straight rye whiskies\n",
       "1865    imported distilled spirit specialty\n",
       "2306                             triple sec\n",
       "597                           aged dark rum\n",
       "1813            distilled spirits specialty\n",
       "956                      single malt scotch\n",
       "1131                  straight rye whiskies\n",
       "2137                             triple sec\n",
       "244                          irish whiskies\n",
       "535                     special order items\n",
       "1886            distilled spirits specialty\n",
       "1906                         apple schnapps\n",
       "276          decanters & specialty packages\n",
       "512                                  mezcal\n",
       "615          decanters & specialty packages\n",
       "450                                  mezcal\n",
       "533          decanters & specialty packages\n",
       "563                      single malt scotch\n",
       "2059                    watermelon schnapps\n",
       "684                     special order items\n",
       "1412                               gold rum\n",
       "1628                        coffee liqueurs\n",
       "1836                      american amaretto\n",
       "2113                     root beer schnapps\n",
       "2200                             triple sec\n",
       "947                      single malt scotch\n",
       "936                        apricot brandies\n",
       "1380                  neutral grain spirits\n",
       "1049                         irish whiskies\n",
       "1589                        coffee liqueurs\n",
       "Name: category_name, dtype: object"
      ]
     },
     "execution_count": 206,
     "metadata": {},
     "output_type": "execute_result"
    }
   ],
   "source": [
    "df2['category_name'].sample(30)"
   ]
  },
  {
   "cell_type": "code",
   "execution_count": 207,
   "metadata": {},
   "outputs": [
    {
     "data": {
      "text/html": [
       "<div>\n",
       "<style scoped>\n",
       "    .dataframe tbody tr th:only-of-type {\n",
       "        vertical-align: middle;\n",
       "    }\n",
       "\n",
       "    .dataframe tbody tr th {\n",
       "        vertical-align: top;\n",
       "    }\n",
       "\n",
       "    .dataframe thead th {\n",
       "        text-align: right;\n",
       "    }\n",
       "</style>\n",
       "<table border=\"1\" class=\"dataframe\">\n",
       "  <thead>\n",
       "    <tr style=\"text-align: right;\">\n",
       "      <th></th>\n",
       "      <th>category_name</th>\n",
       "      <th>item_description</th>\n",
       "    </tr>\n",
       "  </thead>\n",
       "  <tbody>\n",
       "    <tr>\n",
       "      <th>0</th>\n",
       "      <td>cocktails / rtd</td>\n",
       "      <td>tooters ala bama slama</td>\n",
       "    </tr>\n",
       "    <tr>\n",
       "      <th>1</th>\n",
       "      <td>distilled spirits specialty</td>\n",
       "      <td>sipp'n sweet corn</td>\n",
       "    </tr>\n",
       "    <tr>\n",
       "      <th>2</th>\n",
       "      <td>aged dark rum</td>\n",
       "      <td>cross keys rum</td>\n",
       "    </tr>\n",
       "    <tr>\n",
       "      <th>3</th>\n",
       "      <td>corn whiskies</td>\n",
       "      <td>cedar ridge malted rye barrel urbandale</td>\n",
       "    </tr>\n",
       "    <tr>\n",
       "      <th>4</th>\n",
       "      <td>straight rye whiskies</td>\n",
       "      <td>cody road rye</td>\n",
       "    </tr>\n",
       "    <tr>\n",
       "      <th>5</th>\n",
       "      <td>single malt scotch</td>\n",
       "      <td>balvenie 12yr doublewood single malt scotch</td>\n",
       "    </tr>\n",
       "    <tr>\n",
       "      <th>6</th>\n",
       "      <td>decanters &amp; specialty packages</td>\n",
       "      <td>knob creek w/2-50mls</td>\n",
       "    </tr>\n",
       "    <tr>\n",
       "      <th>7</th>\n",
       "      <td>decanters &amp; specialty packages</td>\n",
       "      <td>bailey's original irish cream w/4 shot glasses</td>\n",
       "    </tr>\n",
       "    <tr>\n",
       "      <th>8</th>\n",
       "      <td>decanters &amp; specialty packages</td>\n",
       "      <td>maker's mark recipe and glasses</td>\n",
       "    </tr>\n",
       "    <tr>\n",
       "      <th>9</th>\n",
       "      <td>peach brandies</td>\n",
       "      <td>paul masson peach grande amber brandy</td>\n",
       "    </tr>\n",
       "    <tr>\n",
       "      <th>10</th>\n",
       "      <td>irish whiskies</td>\n",
       "      <td>jameson</td>\n",
       "    </tr>\n",
       "    <tr>\n",
       "      <th>11</th>\n",
       "      <td>decanters &amp; specialty packages</td>\n",
       "      <td>jagermeister w/flask</td>\n",
       "    </tr>\n",
       "    <tr>\n",
       "      <th>12</th>\n",
       "      <td>single barrel bourbon whiskies</td>\n",
       "      <td>four roses single barrel</td>\n",
       "    </tr>\n",
       "    <tr>\n",
       "      <th>13</th>\n",
       "      <td>temporary &amp;  specialty packages</td>\n",
       "      <td>rumchata holiday vap with 100ml</td>\n",
       "    </tr>\n",
       "    <tr>\n",
       "      <th>14</th>\n",
       "      <td>temporary &amp;  specialty packages</td>\n",
       "      <td>rumchata peppermint bark</td>\n",
       "    </tr>\n",
       "    <tr>\n",
       "      <th>15</th>\n",
       "      <td>miscellaneous schnapps</td>\n",
       "      <td>99 peppermint mini</td>\n",
       "    </tr>\n",
       "    <tr>\n",
       "      <th>17</th>\n",
       "      <td>american vodka</td>\n",
       "      <td>smirnoff vodka 80 prf</td>\n",
       "    </tr>\n",
       "    <tr>\n",
       "      <th>18</th>\n",
       "      <td>mezcal</td>\n",
       "      <td>grey goose night vision</td>\n",
       "    </tr>\n",
       "    <tr>\n",
       "      <th>19</th>\n",
       "      <td>single barrel bourbon whiskies</td>\n",
       "      <td>yb bourbon 50ml tripple</td>\n",
       "    </tr>\n",
       "    <tr>\n",
       "      <th>21</th>\n",
       "      <td>decanters &amp; specialty packages</td>\n",
       "      <td>pinnacle w/3-50mls</td>\n",
       "    </tr>\n",
       "    <tr>\n",
       "      <th>23</th>\n",
       "      <td>straight rye whiskies</td>\n",
       "      <td>cedar ridge malted rye</td>\n",
       "    </tr>\n",
       "    <tr>\n",
       "      <th>24</th>\n",
       "      <td>american alcohol</td>\n",
       "      <td>dehner distillery 151</td>\n",
       "    </tr>\n",
       "    <tr>\n",
       "      <th>25</th>\n",
       "      <td>triple sec</td>\n",
       "      <td>tortilla triple sec</td>\n",
       "    </tr>\n",
       "    <tr>\n",
       "      <th>26</th>\n",
       "      <td>special order items</td>\n",
       "      <td>sooh becherovka liqueur</td>\n",
       "    </tr>\n",
       "    <tr>\n",
       "      <th>27</th>\n",
       "      <td>decanters &amp; specialty packages</td>\n",
       "      <td>ardbeg 10yr exploration pack</td>\n",
       "    </tr>\n",
       "    <tr>\n",
       "      <th>28</th>\n",
       "      <td>single malt scotch</td>\n",
       "      <td>glenfiddich 12yr single malt scotch</td>\n",
       "    </tr>\n",
       "    <tr>\n",
       "      <th>29</th>\n",
       "      <td>single malt scotch</td>\n",
       "      <td>ardbeg 10 yr islay single malt scotch</td>\n",
       "    </tr>\n",
       "    <tr>\n",
       "      <th>30</th>\n",
       "      <td>single malt scotch</td>\n",
       "      <td>glenlivet 12yr</td>\n",
       "    </tr>\n",
       "    <tr>\n",
       "      <th>31</th>\n",
       "      <td>aged dark rum</td>\n",
       "      <td>cruzan dark</td>\n",
       "    </tr>\n",
       "    <tr>\n",
       "      <th>32</th>\n",
       "      <td>decanters &amp; specialty packages</td>\n",
       "      <td>patron reposado citronage summer pack</td>\n",
       "    </tr>\n",
       "  </tbody>\n",
       "</table>\n",
       "</div>"
      ],
      "text/plain": [
       "                      category_name  \\\n",
       "0                   cocktails / rtd   \n",
       "1       distilled spirits specialty   \n",
       "2                     aged dark rum   \n",
       "3                     corn whiskies   \n",
       "4             straight rye whiskies   \n",
       "5                single malt scotch   \n",
       "6    decanters & specialty packages   \n",
       "7    decanters & specialty packages   \n",
       "8    decanters & specialty packages   \n",
       "9                    peach brandies   \n",
       "10                   irish whiskies   \n",
       "11   decanters & specialty packages   \n",
       "12   single barrel bourbon whiskies   \n",
       "13  temporary &  specialty packages   \n",
       "14  temporary &  specialty packages   \n",
       "15           miscellaneous schnapps   \n",
       "17                   american vodka   \n",
       "18                           mezcal   \n",
       "19   single barrel bourbon whiskies   \n",
       "21   decanters & specialty packages   \n",
       "23            straight rye whiskies   \n",
       "24                 american alcohol   \n",
       "25                       triple sec   \n",
       "26              special order items   \n",
       "27   decanters & specialty packages   \n",
       "28               single malt scotch   \n",
       "29               single malt scotch   \n",
       "30               single malt scotch   \n",
       "31                    aged dark rum   \n",
       "32   decanters & specialty packages   \n",
       "\n",
       "                                  item_description  \n",
       "0                           tooters ala bama slama  \n",
       "1                                sipp'n sweet corn  \n",
       "2                                   cross keys rum  \n",
       "3          cedar ridge malted rye barrel urbandale  \n",
       "4                                    cody road rye  \n",
       "5      balvenie 12yr doublewood single malt scotch  \n",
       "6                             knob creek w/2-50mls  \n",
       "7   bailey's original irish cream w/4 shot glasses  \n",
       "8                  maker's mark recipe and glasses  \n",
       "9            paul masson peach grande amber brandy  \n",
       "10                                         jameson  \n",
       "11                            jagermeister w/flask  \n",
       "12                        four roses single barrel  \n",
       "13                 rumchata holiday vap with 100ml  \n",
       "14                        rumchata peppermint bark  \n",
       "15                              99 peppermint mini  \n",
       "17                           smirnoff vodka 80 prf  \n",
       "18                         grey goose night vision  \n",
       "19                         yb bourbon 50ml tripple  \n",
       "21                              pinnacle w/3-50mls  \n",
       "23                          cedar ridge malted rye  \n",
       "24                           dehner distillery 151  \n",
       "25                             tortilla triple sec  \n",
       "26                         sooh becherovka liqueur  \n",
       "27                    ardbeg 10yr exploration pack  \n",
       "28             glenfiddich 12yr single malt scotch  \n",
       "29           ardbeg 10 yr islay single malt scotch  \n",
       "30                                  glenlivet 12yr  \n",
       "31                                     cruzan dark  \n",
       "32           patron reposado citronage summer pack  "
      ]
     },
     "execution_count": 207,
     "metadata": {},
     "output_type": "execute_result"
    }
   ],
   "source": [
    "df2[['category_name', 'item_description']].head(30)"
   ]
  },
  {
   "cell_type": "code",
   "execution_count": 209,
   "metadata": {
    "scrolled": true
   },
   "outputs": [
    {
     "name": "stdout",
     "output_type": "stream",
     "text": [
      "<class 'pandas.core.frame.DataFrame'>\n",
      "Int64Index: 2083 entries, 0 to 2400\n",
      "Data columns (total 20 columns):\n",
      " #   Column               Non-Null Count  Dtype  \n",
      "---  ------               --------------  -----  \n",
      " 0   store_name           2083 non-null   object \n",
      " 1   city                 2083 non-null   object \n",
      " 2   zip_code             2083 non-null   object \n",
      " 3   store_location       2083 non-null   object \n",
      " 4   county               2083 non-null   object \n",
      " 5   category_name        2083 non-null   object \n",
      " 6   vendor_name          2083 non-null   object \n",
      " 7   item_description     2083 non-null   object \n",
      " 8   pack                 2083 non-null   int64  \n",
      " 9   bottle_volume_ml     2083 non-null   int64  \n",
      " 10  state_bottle_cost    2083 non-null   float64\n",
      " 11  state_bottle_retail  2083 non-null   float64\n",
      " 12  bottles_sold         2083 non-null   int64  \n",
      " 13  sale_dollars         2083 non-null   float64\n",
      " 14  volume_sold_liters   2083 non-null   float64\n",
      " 15  volume_sold_gallons  2083 non-null   float64\n",
      " 16  year                 2083 non-null   int64  \n",
      " 17  month                2083 non-null   int64  \n",
      " 18  day                  2083 non-null   int64  \n",
      " 19  day_of_week          2083 non-null   int64  \n",
      "dtypes: float64(5), int64(7), object(8)\n",
      "memory usage: 406.3+ KB\n"
     ]
    }
   ],
   "source": [
    "df2.info()"
   ]
  },
  {
   "cell_type": "code",
   "execution_count": 210,
   "metadata": {},
   "outputs": [
    {
     "data": {
      "text/html": [
       "<div>\n",
       "<style scoped>\n",
       "    .dataframe tbody tr th:only-of-type {\n",
       "        vertical-align: middle;\n",
       "    }\n",
       "\n",
       "    .dataframe tbody tr th {\n",
       "        vertical-align: top;\n",
       "    }\n",
       "\n",
       "    .dataframe thead th {\n",
       "        text-align: right;\n",
       "    }\n",
       "</style>\n",
       "<table border=\"1\" class=\"dataframe\">\n",
       "  <thead>\n",
       "    <tr style=\"text-align: right;\">\n",
       "      <th></th>\n",
       "      <th>store_name</th>\n",
       "      <th>city</th>\n",
       "      <th>zip_code</th>\n",
       "      <th>store_location</th>\n",
       "      <th>county</th>\n",
       "      <th>category_name</th>\n",
       "      <th>vendor_name</th>\n",
       "      <th>item_description</th>\n",
       "    </tr>\n",
       "  </thead>\n",
       "  <tbody>\n",
       "    <tr>\n",
       "      <th>0</th>\n",
       "      <td>giggle juice liquor station, llc</td>\n",
       "      <td>anamosa</td>\n",
       "      <td>52205</td>\n",
       "      <td>POINT (-91.29083400000002 42.108203)</td>\n",
       "      <td>jones</td>\n",
       "      <td>cocktails / rtd</td>\n",
       "      <td>mango bottling</td>\n",
       "      <td>tooters ala bama slama</td>\n",
       "    </tr>\n",
       "    <tr>\n",
       "      <th>1</th>\n",
       "      <td>fareway stores</td>\n",
       "      <td>oskaloosa</td>\n",
       "      <td>52577</td>\n",
       "      <td>POINT (-92.648062 41.292614)</td>\n",
       "      <td>mahaska</td>\n",
       "      <td>distilled spirits specialty</td>\n",
       "      <td>gunsandmore</td>\n",
       "      <td>sipp'n sweet corn</td>\n",
       "    </tr>\n",
       "    <tr>\n",
       "      <th>2</th>\n",
       "      <td>hy-vee</td>\n",
       "      <td>cedar rapids</td>\n",
       "      <td>52405</td>\n",
       "      <td>POINT (-91.697941 41.97447)</td>\n",
       "      <td>linn</td>\n",
       "      <td>aged dark rum</td>\n",
       "      <td>phillips beverage company</td>\n",
       "      <td>cross keys rum</td>\n",
       "    </tr>\n",
       "    <tr>\n",
       "      <th>3</th>\n",
       "      <td>hy-vee</td>\n",
       "      <td>urbandale</td>\n",
       "      <td>50322</td>\n",
       "      <td>POINT (-93.739105 41.629364)</td>\n",
       "      <td>polk</td>\n",
       "      <td>corn whiskies</td>\n",
       "      <td>cedar ridge vineyards llc</td>\n",
       "      <td>cedar ridge malted rye barrel urbandale</td>\n",
       "    </tr>\n",
       "    <tr>\n",
       "      <th>4</th>\n",
       "      <td>hy-vee</td>\n",
       "      <td>davenport</td>\n",
       "      <td>52804</td>\n",
       "      <td>POINT (-90.611972 41.538207)</td>\n",
       "      <td>scott</td>\n",
       "      <td>straight rye whiskies</td>\n",
       "      <td>mississippi river distilling co</td>\n",
       "      <td>cody road rye</td>\n",
       "    </tr>\n",
       "    <tr>\n",
       "      <th>...</th>\n",
       "      <td>...</td>\n",
       "      <td>...</td>\n",
       "      <td>...</td>\n",
       "      <td>...</td>\n",
       "      <td>...</td>\n",
       "      <td>...</td>\n",
       "      <td>...</td>\n",
       "      <td>...</td>\n",
       "    </tr>\n",
       "    <tr>\n",
       "      <th>2395</th>\n",
       "      <td>hy-vee</td>\n",
       "      <td>keokuk</td>\n",
       "      <td>52632</td>\n",
       "      <td>POINT (-91.403752 40.41538)</td>\n",
       "      <td>lee</td>\n",
       "      <td>temporary &amp;  specialty packages</td>\n",
       "      <td>diageo americas</td>\n",
       "      <td>crown royal multibrand advent calendar</td>\n",
       "    </tr>\n",
       "    <tr>\n",
       "      <th>2396</th>\n",
       "      <td>hy-vee</td>\n",
       "      <td>humboldt</td>\n",
       "      <td>50548</td>\n",
       "      <td>POINT (-94.227116 42.733221)</td>\n",
       "      <td>humboldt</td>\n",
       "      <td>temporary &amp;  specialty packages</td>\n",
       "      <td>diageo americas</td>\n",
       "      <td>crown royal multibrand advent calendar</td>\n",
       "    </tr>\n",
       "    <tr>\n",
       "      <th>2398</th>\n",
       "      <td>super saver liquor</td>\n",
       "      <td>davenport</td>\n",
       "      <td>52802</td>\n",
       "      <td>POINT (-90.599327 41.520231)</td>\n",
       "      <td>scott</td>\n",
       "      <td>temporary &amp;  specialty packages</td>\n",
       "      <td>diageo americas</td>\n",
       "      <td>crown royal multibrand advent calendar</td>\n",
       "    </tr>\n",
       "    <tr>\n",
       "      <th>2399</th>\n",
       "      <td>john's grocery</td>\n",
       "      <td>iowa city</td>\n",
       "      <td>52240</td>\n",
       "      <td>POINT (-91.529854 41.663541)</td>\n",
       "      <td>johnson</td>\n",
       "      <td>temporary &amp;  specialty packages</td>\n",
       "      <td>diageo americas</td>\n",
       "      <td>crown royal multibrand advent calendar</td>\n",
       "    </tr>\n",
       "    <tr>\n",
       "      <th>2400</th>\n",
       "      <td>hy-vee</td>\n",
       "      <td>coralville</td>\n",
       "      <td>52241</td>\n",
       "      <td>POINT (-91.591868 41.682337000000004)</td>\n",
       "      <td>johnson</td>\n",
       "      <td>temporary &amp;  specialty packages</td>\n",
       "      <td>diageo americas</td>\n",
       "      <td>crown royal multibrand advent calendar</td>\n",
       "    </tr>\n",
       "  </tbody>\n",
       "</table>\n",
       "<p>2083 rows × 8 columns</p>\n",
       "</div>"
      ],
      "text/plain": [
       "                            store_name          city zip_code  \\\n",
       "0     giggle juice liquor station, llc       anamosa    52205   \n",
       "1                       fareway stores     oskaloosa    52577   \n",
       "2                               hy-vee  cedar rapids    52405   \n",
       "3                               hy-vee     urbandale    50322   \n",
       "4                               hy-vee     davenport    52804   \n",
       "...                                ...           ...      ...   \n",
       "2395                            hy-vee        keokuk    52632   \n",
       "2396                            hy-vee      humboldt    50548   \n",
       "2398                super saver liquor     davenport    52802   \n",
       "2399                    john's grocery     iowa city    52240   \n",
       "2400                            hy-vee    coralville    52241   \n",
       "\n",
       "                             store_location    county  \\\n",
       "0      POINT (-91.29083400000002 42.108203)     jones   \n",
       "1              POINT (-92.648062 41.292614)   mahaska   \n",
       "2               POINT (-91.697941 41.97447)      linn   \n",
       "3              POINT (-93.739105 41.629364)      polk   \n",
       "4              POINT (-90.611972 41.538207)     scott   \n",
       "...                                     ...       ...   \n",
       "2395            POINT (-91.403752 40.41538)       lee   \n",
       "2396           POINT (-94.227116 42.733221)  humboldt   \n",
       "2398           POINT (-90.599327 41.520231)     scott   \n",
       "2399           POINT (-91.529854 41.663541)   johnson   \n",
       "2400  POINT (-91.591868 41.682337000000004)   johnson   \n",
       "\n",
       "                        category_name                      vendor_name  \\\n",
       "0                     cocktails / rtd                   mango bottling   \n",
       "1         distilled spirits specialty                      gunsandmore   \n",
       "2                       aged dark rum        phillips beverage company   \n",
       "3                       corn whiskies        cedar ridge vineyards llc   \n",
       "4               straight rye whiskies  mississippi river distilling co   \n",
       "...                               ...                              ...   \n",
       "2395  temporary &  specialty packages                  diageo americas   \n",
       "2396  temporary &  specialty packages                  diageo americas   \n",
       "2398  temporary &  specialty packages                  diageo americas   \n",
       "2399  temporary &  specialty packages                  diageo americas   \n",
       "2400  temporary &  specialty packages                  diageo americas   \n",
       "\n",
       "                             item_description  \n",
       "0                      tooters ala bama slama  \n",
       "1                           sipp'n sweet corn  \n",
       "2                              cross keys rum  \n",
       "3     cedar ridge malted rye barrel urbandale  \n",
       "4                               cody road rye  \n",
       "...                                       ...  \n",
       "2395   crown royal multibrand advent calendar  \n",
       "2396   crown royal multibrand advent calendar  \n",
       "2398   crown royal multibrand advent calendar  \n",
       "2399   crown royal multibrand advent calendar  \n",
       "2400   crown royal multibrand advent calendar  \n",
       "\n",
       "[2083 rows x 8 columns]"
      ]
     },
     "execution_count": 210,
     "metadata": {},
     "output_type": "execute_result"
    }
   ],
   "source": [
    "df2[['store_name', 'city', 'zip_code', 'store_location', 'county', 'category_name', 'vendor_name', 'item_description']]"
   ]
  },
  {
   "cell_type": "markdown",
   "metadata": {},
   "source": [
    "Now that we have cleaned our data, let's save the updated dataset into our local machine."
   ]
  },
  {
   "cell_type": "code",
   "execution_count": 212,
   "metadata": {},
   "outputs": [],
   "source": [
    "df2.to_csv('data_cleaned.csv')"
   ]
  },
  {
   "cell_type": "markdown",
   "metadata": {},
   "source": [
    "<h1><center>##############################</center></h1>"
   ]
  },
  {
   "cell_type": "markdown",
   "metadata": {},
   "source": [
    "<h1><center>CHECKPOINT</center></h1>"
   ]
  },
  {
   "cell_type": "markdown",
   "metadata": {},
   "source": [
    "<h1><center>##############################</center></h1>"
   ]
  },
  {
   "cell_type": "code",
   "execution_count": null,
   "metadata": {},
   "outputs": [],
   "source": [
    "import pandas as pd\n",
    "import numpy as np\n",
    "import matplotlib.pyplot as plt\n",
    "import seaborn as sns\n",
    "%matplotlib inline\n",
    "\n",
    "sns.set_style('whitegrid')\n",
    "sns.set_palette('viridis')"
   ]
  },
  {
   "cell_type": "code",
   "execution_count": null,
   "metadata": {},
   "outputs": [],
   "source": []
  }
 ],
 "metadata": {
  "kernelspec": {
   "display_name": "Python 3",
   "language": "python",
   "name": "python3"
  },
  "language_info": {
   "codemirror_mode": {
    "name": "ipython",
    "version": 3
   },
   "file_extension": ".py",
   "mimetype": "text/x-python",
   "name": "python",
   "nbconvert_exporter": "python",
   "pygments_lexer": "ipython3",
   "version": "3.8.5"
  }
 },
 "nbformat": 4,
 "nbformat_minor": 4
}
