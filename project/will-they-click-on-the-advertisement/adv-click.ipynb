{
 "cells": [
  {
   "cell_type": "markdown",
   "metadata": {},
   "source": [
    "# Will They Click on the Advertisement?\n",
    "\n",
    "### 1. Problem Definition\n",
    "Based on the features of a particular internet user, will they click on an advertisement?\n",
    "\n",
    "### 2. Data\n",
    "This is a made-up advertisement dataset."
   ]
  }
 ],
 "metadata": {
  "kernelspec": {
   "display_name": "Python 3",
   "language": "python",
   "name": "python3"
  },
  "language_info": {
   "codemirror_mode": {
    "name": "ipython",
    "version": 3
   },
   "file_extension": ".py",
   "mimetype": "text/x-python",
   "name": "python",
   "nbconvert_exporter": "python",
   "pygments_lexer": "ipython3",
   "version": "3.8.5"
  }
 },
 "nbformat": 4,
 "nbformat_minor": 4
}
